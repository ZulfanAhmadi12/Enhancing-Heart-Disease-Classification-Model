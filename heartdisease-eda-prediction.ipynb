{
 "cells": [
  {
   "cell_type": "markdown",
   "id": "35003498",
   "metadata": {
    "papermill": {
     "duration": 0.053706,
     "end_time": "2022-04-18T22:21:47.487608",
     "exception": false,
     "start_time": "2022-04-18T22:21:47.433902",
     "status": "completed"
    },
    "tags": []
   },
   "source": [
    "# <b>1 <span style='color:#0386f7de'>|</span> Importing libraries</b>\n",
    "- **For ML Models**: sklearn \n",
    "- **For Data Manipulation**: numpy, pandas, sklearn\n",
    "- **For Data Visualization**: matplotlib, seaborn, plotly"
   ]
  },
  {
   "cell_type": "code",
   "execution_count": 3,
   "id": "602698b9",
   "metadata": {},
   "outputs": [
    {
     "name": "stdout",
     "output_type": "stream",
     "text": [
      "Requirement already satisfied: plotly==5.9.0 in c:\\users\\user\\desktop\\ml\\ml_course\\sample_project_1\\env\\lib\\site-packages (5.9.0)\n",
      "Requirement already satisfied: tenacity>=6.2.0 in c:\\users\\user\\desktop\\ml\\ml_course\\sample_project_1\\env\\lib\\site-packages (from plotly==5.9.0) (8.0.1)\n"
     ]
    }
   ],
   "source": [
    "import sys\n",
    "!{sys.executable} -m pip install plotly==5.9.0"
   ]
  },
  {
   "cell_type": "code",
   "execution_count": 4,
   "id": "674a496e",
   "metadata": {
    "_kg_hide-input": true,
    "_kg_hide-output": true,
    "execution": {
     "iopub.execute_input": "2022-04-18T22:21:47.600350Z",
     "iopub.status.busy": "2022-04-18T22:21:47.598534Z",
     "iopub.status.idle": "2022-04-18T22:21:50.381890Z",
     "shell.execute_reply": "2022-04-18T22:21:50.381084Z",
     "shell.execute_reply.started": "2022-04-18T22:06:47.920862Z"
    },
    "papermill": {
     "duration": 2.842062,
     "end_time": "2022-04-18T22:21:50.382060",
     "exception": false,
     "start_time": "2022-04-18T22:21:47.539998",
     "status": "completed"
    },
    "tags": []
   },
   "outputs": [
    {
     "name": "stdout",
     "output_type": "stream",
     "text": [
      "Collecting plotly\n",
      "  Downloading plotly-5.9.0-py2.py3-none-any.whl (15.2 MB)\n",
      "Collecting tenacity>=6.2.0\n",
      "  Downloading tenacity-8.0.1-py3-none-any.whl (24 kB)\n",
      "Installing collected packages: tenacity, plotly\n",
      "Successfully installed plotly-5.9.0 tenacity-8.0.1\n"
     ]
    }
   ],
   "source": [
    "# For ML models\n",
    "from sklearn.linear_model import LinearRegression ,LogisticRegression\n",
    "from sklearn.tree import DecisionTreeClassifier\n",
    "from sklearn.neighbors import KNeighborsClassifier\n",
    "from sklearn.naive_bayes import GaussianNB\n",
    "from sklearn.ensemble import AdaBoostRegressor\n",
    "from sklearn.ensemble import RandomForestClassifier\n",
    "from sklearn.svm import SVC ,SVR\n",
    "from sklearn.metrics import *\n",
    "from sklearn.model_selection import GridSearchCV\n",
    "\n",
    "import os\n",
    "import numpy as np\n",
    "import pandas as pd\n",
    "from sklearn.preprocessing import LabelEncoder\n",
    "from sklearn.model_selection import train_test_split \n",
    "\n",
    "import matplotlib.pyplot as plt\n",
    "import seaborn as sns\n",
    "import plotly.express as px\n",
    "import plotly.graph_objects as go\n",
    "from plotly.subplots import make_subplots"
   ]
  },
  {
   "cell_type": "markdown",
   "id": "c338abd5",
   "metadata": {
    "papermill": {
     "duration": 0.051185,
     "end_time": "2022-04-18T22:21:50.485215",
     "exception": false,
     "start_time": "2022-04-18T22:21:50.434030",
     "status": "completed"
    },
    "tags": []
   },
   "source": [
    "# <b>2 <span style='color:#0386f7de'>|</span> About the Dataset</b>"
   ]
  },
  {
   "cell_type": "code",
   "execution_count": 5,
   "id": "080d4606",
   "metadata": {
    "_kg_hide-input": true,
    "execution": {
     "iopub.execute_input": "2022-04-18T22:21:50.593527Z",
     "iopub.status.busy": "2022-04-18T22:21:50.591921Z",
     "iopub.status.idle": "2022-04-18T22:21:51.565704Z",
     "shell.execute_reply": "2022-04-18T22:21:51.566192Z",
     "shell.execute_reply.started": "2022-04-18T22:06:54.639731Z"
    },
    "papermill": {
     "duration": 1.028735,
     "end_time": "2022-04-18T22:21:51.566363",
     "exception": false,
     "start_time": "2022-04-18T22:21:50.537628",
     "status": "completed"
    },
    "tags": []
   },
   "outputs": [
    {
     "data": {
      "text/html": [
       "<div>\n",
       "<style scoped>\n",
       "    .dataframe tbody tr th:only-of-type {\n",
       "        vertical-align: middle;\n",
       "    }\n",
       "\n",
       "    .dataframe tbody tr th {\n",
       "        vertical-align: top;\n",
       "    }\n",
       "\n",
       "    .dataframe thead th {\n",
       "        text-align: right;\n",
       "    }\n",
       "</style>\n",
       "<table border=\"1\" class=\"dataframe\">\n",
       "  <thead>\n",
       "    <tr style=\"text-align: right;\">\n",
       "      <th></th>\n",
       "      <th>HeartDisease</th>\n",
       "      <th>BMI</th>\n",
       "      <th>Smoking</th>\n",
       "      <th>AlcoholDrinking</th>\n",
       "      <th>Stroke</th>\n",
       "      <th>PhysicalHealth</th>\n",
       "      <th>MentalHealth</th>\n",
       "      <th>DiffWalking</th>\n",
       "      <th>Sex</th>\n",
       "      <th>AgeCategory</th>\n",
       "      <th>Race</th>\n",
       "      <th>Diabetic</th>\n",
       "      <th>PhysicalActivity</th>\n",
       "      <th>GenHealth</th>\n",
       "      <th>SleepTime</th>\n",
       "      <th>Asthma</th>\n",
       "      <th>KidneyDisease</th>\n",
       "      <th>SkinCancer</th>\n",
       "    </tr>\n",
       "  </thead>\n",
       "  <tbody>\n",
       "    <tr>\n",
       "      <th>0</th>\n",
       "      <td>No</td>\n",
       "      <td>16.60</td>\n",
       "      <td>Yes</td>\n",
       "      <td>No</td>\n",
       "      <td>No</td>\n",
       "      <td>3.0</td>\n",
       "      <td>30.0</td>\n",
       "      <td>No</td>\n",
       "      <td>Female</td>\n",
       "      <td>55-59</td>\n",
       "      <td>White</td>\n",
       "      <td>Yes</td>\n",
       "      <td>Yes</td>\n",
       "      <td>Very good</td>\n",
       "      <td>5.0</td>\n",
       "      <td>Yes</td>\n",
       "      <td>No</td>\n",
       "      <td>Yes</td>\n",
       "    </tr>\n",
       "    <tr>\n",
       "      <th>1</th>\n",
       "      <td>No</td>\n",
       "      <td>20.34</td>\n",
       "      <td>No</td>\n",
       "      <td>No</td>\n",
       "      <td>Yes</td>\n",
       "      <td>0.0</td>\n",
       "      <td>0.0</td>\n",
       "      <td>No</td>\n",
       "      <td>Female</td>\n",
       "      <td>80 or older</td>\n",
       "      <td>White</td>\n",
       "      <td>No</td>\n",
       "      <td>Yes</td>\n",
       "      <td>Very good</td>\n",
       "      <td>7.0</td>\n",
       "      <td>No</td>\n",
       "      <td>No</td>\n",
       "      <td>No</td>\n",
       "    </tr>\n",
       "    <tr>\n",
       "      <th>2</th>\n",
       "      <td>No</td>\n",
       "      <td>26.58</td>\n",
       "      <td>Yes</td>\n",
       "      <td>No</td>\n",
       "      <td>No</td>\n",
       "      <td>20.0</td>\n",
       "      <td>30.0</td>\n",
       "      <td>No</td>\n",
       "      <td>Male</td>\n",
       "      <td>65-69</td>\n",
       "      <td>White</td>\n",
       "      <td>Yes</td>\n",
       "      <td>Yes</td>\n",
       "      <td>Fair</td>\n",
       "      <td>8.0</td>\n",
       "      <td>Yes</td>\n",
       "      <td>No</td>\n",
       "      <td>No</td>\n",
       "    </tr>\n",
       "    <tr>\n",
       "      <th>3</th>\n",
       "      <td>No</td>\n",
       "      <td>24.21</td>\n",
       "      <td>No</td>\n",
       "      <td>No</td>\n",
       "      <td>No</td>\n",
       "      <td>0.0</td>\n",
       "      <td>0.0</td>\n",
       "      <td>No</td>\n",
       "      <td>Female</td>\n",
       "      <td>75-79</td>\n",
       "      <td>White</td>\n",
       "      <td>No</td>\n",
       "      <td>No</td>\n",
       "      <td>Good</td>\n",
       "      <td>6.0</td>\n",
       "      <td>No</td>\n",
       "      <td>No</td>\n",
       "      <td>Yes</td>\n",
       "    </tr>\n",
       "    <tr>\n",
       "      <th>4</th>\n",
       "      <td>No</td>\n",
       "      <td>23.71</td>\n",
       "      <td>No</td>\n",
       "      <td>No</td>\n",
       "      <td>No</td>\n",
       "      <td>28.0</td>\n",
       "      <td>0.0</td>\n",
       "      <td>Yes</td>\n",
       "      <td>Female</td>\n",
       "      <td>40-44</td>\n",
       "      <td>White</td>\n",
       "      <td>No</td>\n",
       "      <td>Yes</td>\n",
       "      <td>Very good</td>\n",
       "      <td>8.0</td>\n",
       "      <td>No</td>\n",
       "      <td>No</td>\n",
       "      <td>No</td>\n",
       "    </tr>\n",
       "    <tr>\n",
       "      <th>...</th>\n",
       "      <td>...</td>\n",
       "      <td>...</td>\n",
       "      <td>...</td>\n",
       "      <td>...</td>\n",
       "      <td>...</td>\n",
       "      <td>...</td>\n",
       "      <td>...</td>\n",
       "      <td>...</td>\n",
       "      <td>...</td>\n",
       "      <td>...</td>\n",
       "      <td>...</td>\n",
       "      <td>...</td>\n",
       "      <td>...</td>\n",
       "      <td>...</td>\n",
       "      <td>...</td>\n",
       "      <td>...</td>\n",
       "      <td>...</td>\n",
       "      <td>...</td>\n",
       "    </tr>\n",
       "    <tr>\n",
       "      <th>319790</th>\n",
       "      <td>Yes</td>\n",
       "      <td>27.41</td>\n",
       "      <td>Yes</td>\n",
       "      <td>No</td>\n",
       "      <td>No</td>\n",
       "      <td>7.0</td>\n",
       "      <td>0.0</td>\n",
       "      <td>Yes</td>\n",
       "      <td>Male</td>\n",
       "      <td>60-64</td>\n",
       "      <td>Hispanic</td>\n",
       "      <td>Yes</td>\n",
       "      <td>No</td>\n",
       "      <td>Fair</td>\n",
       "      <td>6.0</td>\n",
       "      <td>Yes</td>\n",
       "      <td>No</td>\n",
       "      <td>No</td>\n",
       "    </tr>\n",
       "    <tr>\n",
       "      <th>319791</th>\n",
       "      <td>No</td>\n",
       "      <td>29.84</td>\n",
       "      <td>Yes</td>\n",
       "      <td>No</td>\n",
       "      <td>No</td>\n",
       "      <td>0.0</td>\n",
       "      <td>0.0</td>\n",
       "      <td>No</td>\n",
       "      <td>Male</td>\n",
       "      <td>35-39</td>\n",
       "      <td>Hispanic</td>\n",
       "      <td>No</td>\n",
       "      <td>Yes</td>\n",
       "      <td>Very good</td>\n",
       "      <td>5.0</td>\n",
       "      <td>Yes</td>\n",
       "      <td>No</td>\n",
       "      <td>No</td>\n",
       "    </tr>\n",
       "    <tr>\n",
       "      <th>319792</th>\n",
       "      <td>No</td>\n",
       "      <td>24.24</td>\n",
       "      <td>No</td>\n",
       "      <td>No</td>\n",
       "      <td>No</td>\n",
       "      <td>0.0</td>\n",
       "      <td>0.0</td>\n",
       "      <td>No</td>\n",
       "      <td>Female</td>\n",
       "      <td>45-49</td>\n",
       "      <td>Hispanic</td>\n",
       "      <td>No</td>\n",
       "      <td>Yes</td>\n",
       "      <td>Good</td>\n",
       "      <td>6.0</td>\n",
       "      <td>No</td>\n",
       "      <td>No</td>\n",
       "      <td>No</td>\n",
       "    </tr>\n",
       "    <tr>\n",
       "      <th>319793</th>\n",
       "      <td>No</td>\n",
       "      <td>32.81</td>\n",
       "      <td>No</td>\n",
       "      <td>No</td>\n",
       "      <td>No</td>\n",
       "      <td>0.0</td>\n",
       "      <td>0.0</td>\n",
       "      <td>No</td>\n",
       "      <td>Female</td>\n",
       "      <td>25-29</td>\n",
       "      <td>Hispanic</td>\n",
       "      <td>No</td>\n",
       "      <td>No</td>\n",
       "      <td>Good</td>\n",
       "      <td>12.0</td>\n",
       "      <td>No</td>\n",
       "      <td>No</td>\n",
       "      <td>No</td>\n",
       "    </tr>\n",
       "    <tr>\n",
       "      <th>319794</th>\n",
       "      <td>No</td>\n",
       "      <td>46.56</td>\n",
       "      <td>No</td>\n",
       "      <td>No</td>\n",
       "      <td>No</td>\n",
       "      <td>0.0</td>\n",
       "      <td>0.0</td>\n",
       "      <td>No</td>\n",
       "      <td>Female</td>\n",
       "      <td>80 or older</td>\n",
       "      <td>Hispanic</td>\n",
       "      <td>No</td>\n",
       "      <td>Yes</td>\n",
       "      <td>Good</td>\n",
       "      <td>8.0</td>\n",
       "      <td>No</td>\n",
       "      <td>No</td>\n",
       "      <td>No</td>\n",
       "    </tr>\n",
       "  </tbody>\n",
       "</table>\n",
       "<p>319795 rows × 18 columns</p>\n",
       "</div>"
      ],
      "text/plain": [
       "       HeartDisease    BMI Smoking AlcoholDrinking Stroke  PhysicalHealth  \\\n",
       "0                No  16.60     Yes              No     No             3.0   \n",
       "1                No  20.34      No              No    Yes             0.0   \n",
       "2                No  26.58     Yes              No     No            20.0   \n",
       "3                No  24.21      No              No     No             0.0   \n",
       "4                No  23.71      No              No     No            28.0   \n",
       "...             ...    ...     ...             ...    ...             ...   \n",
       "319790          Yes  27.41     Yes              No     No             7.0   \n",
       "319791           No  29.84     Yes              No     No             0.0   \n",
       "319792           No  24.24      No              No     No             0.0   \n",
       "319793           No  32.81      No              No     No             0.0   \n",
       "319794           No  46.56      No              No     No             0.0   \n",
       "\n",
       "        MentalHealth DiffWalking     Sex  AgeCategory      Race Diabetic  \\\n",
       "0               30.0          No  Female        55-59     White      Yes   \n",
       "1                0.0          No  Female  80 or older     White       No   \n",
       "2               30.0          No    Male        65-69     White      Yes   \n",
       "3                0.0          No  Female        75-79     White       No   \n",
       "4                0.0         Yes  Female        40-44     White       No   \n",
       "...              ...         ...     ...          ...       ...      ...   \n",
       "319790           0.0         Yes    Male        60-64  Hispanic      Yes   \n",
       "319791           0.0          No    Male        35-39  Hispanic       No   \n",
       "319792           0.0          No  Female        45-49  Hispanic       No   \n",
       "319793           0.0          No  Female        25-29  Hispanic       No   \n",
       "319794           0.0          No  Female  80 or older  Hispanic       No   \n",
       "\n",
       "       PhysicalActivity  GenHealth  SleepTime Asthma KidneyDisease SkinCancer  \n",
       "0                   Yes  Very good        5.0    Yes            No        Yes  \n",
       "1                   Yes  Very good        7.0     No            No         No  \n",
       "2                   Yes       Fair        8.0    Yes            No         No  \n",
       "3                    No       Good        6.0     No            No        Yes  \n",
       "4                   Yes  Very good        8.0     No            No         No  \n",
       "...                 ...        ...        ...    ...           ...        ...  \n",
       "319790               No       Fair        6.0    Yes            No         No  \n",
       "319791              Yes  Very good        5.0    Yes            No         No  \n",
       "319792              Yes       Good        6.0     No            No         No  \n",
       "319793               No       Good       12.0     No            No         No  \n",
       "319794              Yes       Good        8.0     No            No         No  \n",
       "\n",
       "[319795 rows x 18 columns]"
      ]
     },
     "execution_count": 5,
     "metadata": {},
     "output_type": "execute_result"
    }
   ],
   "source": [
    "df = pd.read_csv('data/heart_2020_cleaned.csv')\n",
    "df"
   ]
  },
  {
   "cell_type": "markdown",
   "id": "dfcd4bad",
   "metadata": {
    "papermill": {
     "duration": 0.052226,
     "end_time": "2022-04-18T22:21:51.672325",
     "exception": false,
     "start_time": "2022-04-18T22:21:51.620099",
     "status": "completed"
    },
    "tags": []
   },
   "source": [
    "## Column Descriptions\n",
    "- `HeartDisease`: Respondents that have ever reported having coronary heart disease (CHD) or myocardial infarction (MI).\n",
    "- `BMI`: Body Mass Index (BMI).\n",
    "- `Smoking`: Have you smoked at least 100 cigarettes in your entire life?\n",
    "- `AlcoholDrinking`: Heavy drinkers (adult men having more than 14 drinks per week and adult women having more than 7 drinks per week\n",
    "- `Stroke`: (Ever told) (you had) a stroke?\n",
    "- `PhysicalHealth`: Now thinking about your physical health, which includes physical illness and injury, for how many days during the past 30 days was your physical health not good? (0-30 days).\n",
    "- `MentalHealth`: Thinking about your mental health, for how many days during the past 30 days was your mental health not good? (0-30 days).\n",
    "- `DiffWalking`: Do you have serious difficulty walking or climbing stairs?\n",
    "- `Sex`: Are you male or female?\n",
    "- `AgeCategory`: Fourteen-level age category. (then calculated the mean)\n",
    "- `Race`: Imputed race/ethnicity value.\n",
    "- `Diabetic`: (Ever told) (you had) diabetes?\n",
    "- `PhysicalActivity`: Adults who reported doing physical activity or exercise during the past 30 days other than their regular job.\n",
    "- `GenHealth`: Would you say that in general your health is...\n",
    "- `SleepTime`: On average, how many hours of sleep do you get in a 24-hour period?\n",
    "- `Asthma`: (Ever told) (you had) asthma?\n",
    "- `KidneyDisease`: Not including kidney stones, bladder infection or incontinence, were you ever told you had kidney disease?\n",
    "- `SkinCancer`: (Ever told) (you had) skin cancer?"
   ]
  },
  {
   "cell_type": "markdown",
   "id": "8170a145",
   "metadata": {
    "papermill": {
     "duration": 0.053297,
     "end_time": "2022-04-18T22:21:51.778552",
     "exception": false,
     "start_time": "2022-04-18T22:21:51.725255",
     "status": "completed"
    },
    "tags": []
   },
   "source": [
    "#### AgeCategory shouldn't be categorical, so I will apply a function to calculate the mean age and make it a continuous feature"
   ]
  },
  {
   "cell_type": "code",
   "execution_count": 6,
   "id": "a5bfbcab",
   "metadata": {
    "_kg_hide-input": true,
    "execution": {
     "iopub.execute_input": "2022-04-18T22:21:51.893993Z",
     "iopub.status.busy": "2022-04-18T22:21:51.893269Z",
     "iopub.status.idle": "2022-04-18T22:21:52.146905Z",
     "shell.execute_reply": "2022-04-18T22:21:52.146345Z",
     "shell.execute_reply.started": "2022-04-18T22:06:58.275557Z"
    },
    "papermill": {
     "duration": 0.315549,
     "end_time": "2022-04-18T22:21:52.147052",
     "exception": false,
     "start_time": "2022-04-18T22:21:51.831503",
     "status": "completed"
    },
    "tags": []
   },
   "outputs": [],
   "source": [
    "encode_AgeCategory = {'55-59':57, '80 or older':80, '65-69':67,\n",
    "                      '75-79':77,'40-44':42,'70-74':72,'60-64':62,\n",
    "                      '50-54':52,'45-49':47,'18-24':21,'35-39':37,\n",
    "                      '30-34':32,'25-29':27}\n",
    "df['AgeCategory'] = df['AgeCategory'].apply(lambda x: encode_AgeCategory[x])\n",
    "df['AgeCategory'] = df['AgeCategory'].astype('float')"
   ]
  },
  {
   "cell_type": "code",
   "execution_count": 11,
   "id": "4612b3bb",
   "metadata": {},
   "outputs": [
    {
     "name": "stdout",
     "output_type": "stream",
     "text": [
      "<class 'pandas.core.frame.DataFrame'>\n",
      "RangeIndex: 319795 entries, 0 to 319794\n",
      "Data columns (total 18 columns):\n",
      " #   Column            Non-Null Count   Dtype  \n",
      "---  ------            --------------   -----  \n",
      " 0   HeartDisease      319795 non-null  object \n",
      " 1   BMI               319795 non-null  float64\n",
      " 2   Smoking           319795 non-null  object \n",
      " 3   AlcoholDrinking   319795 non-null  object \n",
      " 4   Stroke            319795 non-null  object \n",
      " 5   PhysicalHealth    319795 non-null  float64\n",
      " 6   MentalHealth      319795 non-null  float64\n",
      " 7   DiffWalking       319795 non-null  object \n",
      " 8   Sex               319795 non-null  object \n",
      " 9   AgeCategory       319795 non-null  float64\n",
      " 10  Race              319795 non-null  object \n",
      " 11  Diabetic          319795 non-null  object \n",
      " 12  PhysicalActivity  319795 non-null  object \n",
      " 13  GenHealth         319795 non-null  object \n",
      " 14  SleepTime         319795 non-null  float64\n",
      " 15  Asthma            319795 non-null  object \n",
      " 16  KidneyDisease     319795 non-null  object \n",
      " 17  SkinCancer        319795 non-null  object \n",
      "dtypes: float64(5), object(13)\n",
      "memory usage: 43.9+ MB\n"
     ]
    }
   ],
   "source": [
    "df.info()"
   ]
  },
  {
   "cell_type": "markdown",
   "id": "7c539f29",
   "metadata": {
    "papermill": {
     "duration": 0.053238,
     "end_time": "2022-04-18T22:21:52.253279",
     "exception": false,
     "start_time": "2022-04-18T22:21:52.200041",
     "status": "completed"
    },
    "tags": []
   },
   "source": [
    "Categorical Features:  \n",
    "`HeartDisease`, `Smoking`, `AlcoholDrinking`, `Stroke`, `DiffWalking`, `Sex`, `Race`, `Diabetic`, `PhysicalActivity`, `GenHealth`, `Asthma`, `KidneyDisease`, `SkinCancer`\n",
    "\n",
    "Continuous Features:  \n",
    "`BMI`, `PhysicalHealtH`, `MentalHealth`, `AgeCategory`, `SleepTime`"
   ]
  },
  {
   "cell_type": "markdown",
   "id": "0c28c8b1",
   "metadata": {
    "papermill": {
     "duration": 0.052423,
     "end_time": "2022-04-18T22:21:52.359190",
     "exception": false,
     "start_time": "2022-04-18T22:21:52.306767",
     "status": "completed"
    },
    "tags": []
   },
   "source": [
    "## Column Statistics (of numerical data)"
   ]
  },
  {
   "cell_type": "code",
   "execution_count": 7,
   "id": "9163b86f",
   "metadata": {
    "_kg_hide-input": true,
    "execution": {
     "iopub.execute_input": "2022-04-18T22:21:52.478165Z",
     "iopub.status.busy": "2022-04-18T22:21:52.477453Z",
     "iopub.status.idle": "2022-04-18T22:21:52.634993Z",
     "shell.execute_reply": "2022-04-18T22:21:52.634411Z",
     "shell.execute_reply.started": "2022-04-18T22:07:00.792196Z"
    },
    "papermill": {
     "duration": 0.221939,
     "end_time": "2022-04-18T22:21:52.635126",
     "exception": false,
     "start_time": "2022-04-18T22:21:52.413187",
     "status": "completed"
    },
    "tags": []
   },
   "outputs": [
    {
     "data": {
      "text/html": [
       "<style type=\"text/css\">\n",
       "#T_d75a3_row0_col0 {\n",
       "  background-color: #6fb0d7;\n",
       "  color: #f1f1f1;\n",
       "}\n",
       "#T_d75a3_row0_col1 {\n",
       "  background-color: #b5d4e9;\n",
       "  color: #000000;\n",
       "}\n",
       "#T_d75a3_row0_col2, #T_d75a3_row0_col3 {\n",
       "  background-color: #539ecd;\n",
       "  color: #f1f1f1;\n",
       "}\n",
       "#T_d75a3_row0_col4 {\n",
       "  background-color: #74b3d8;\n",
       "  color: #000000;\n",
       "}\n",
       "#T_d75a3_row0_col5 {\n",
       "  background-color: #7fb9da;\n",
       "  color: #000000;\n",
       "}\n",
       "#T_d75a3_row0_col6, #T_d75a3_row3_col0, #T_d75a3_row3_col1, #T_d75a3_row3_col2, #T_d75a3_row3_col3, #T_d75a3_row3_col4, #T_d75a3_row3_col5 {\n",
       "  background-color: #08306b;\n",
       "  color: #f1f1f1;\n",
       "}\n",
       "#T_d75a3_row1_col0, #T_d75a3_row1_col2, #T_d75a3_row1_col3, #T_d75a3_row1_col4, #T_d75a3_row1_col5, #T_d75a3_row2_col2, #T_d75a3_row2_col3, #T_d75a3_row2_col4, #T_d75a3_row4_col1, #T_d75a3_row4_col6 {\n",
       "  background-color: #f7fbff;\n",
       "  color: #000000;\n",
       "}\n",
       "#T_d75a3_row1_col1, #T_d75a3_row2_col1 {\n",
       "  background-color: #94c4df;\n",
       "  color: #000000;\n",
       "}\n",
       "#T_d75a3_row1_col6, #T_d75a3_row2_col6 {\n",
       "  background-color: #e7f0fa;\n",
       "  color: #000000;\n",
       "}\n",
       "#T_d75a3_row2_col0 {\n",
       "  background-color: #f5fafe;\n",
       "  color: #000000;\n",
       "}\n",
       "#T_d75a3_row2_col5 {\n",
       "  background-color: #f5f9fe;\n",
       "  color: #000000;\n",
       "}\n",
       "#T_d75a3_row3_col6 {\n",
       "  background-color: #1966ad;\n",
       "  color: #f1f1f1;\n",
       "}\n",
       "#T_d75a3_row4_col0 {\n",
       "  background-color: #e9f2fa;\n",
       "  color: #000000;\n",
       "}\n",
       "#T_d75a3_row4_col2 {\n",
       "  background-color: #eef5fc;\n",
       "  color: #000000;\n",
       "}\n",
       "#T_d75a3_row4_col3 {\n",
       "  background-color: #dbe9f6;\n",
       "  color: #000000;\n",
       "}\n",
       "#T_d75a3_row4_col4 {\n",
       "  background-color: #dfebf7;\n",
       "  color: #000000;\n",
       "}\n",
       "#T_d75a3_row4_col5 {\n",
       "  background-color: #e5eff9;\n",
       "  color: #000000;\n",
       "}\n",
       "</style>\n",
       "<table id=\"T_d75a3\">\n",
       "  <thead>\n",
       "    <tr>\n",
       "      <th class=\"blank level0\" >&nbsp;</th>\n",
       "      <th id=\"T_d75a3_level0_col0\" class=\"col_heading level0 col0\" >mean</th>\n",
       "      <th id=\"T_d75a3_level0_col1\" class=\"col_heading level0 col1\" >std</th>\n",
       "      <th id=\"T_d75a3_level0_col2\" class=\"col_heading level0 col2\" >min</th>\n",
       "      <th id=\"T_d75a3_level0_col3\" class=\"col_heading level0 col3\" >25%</th>\n",
       "      <th id=\"T_d75a3_level0_col4\" class=\"col_heading level0 col4\" >50%</th>\n",
       "      <th id=\"T_d75a3_level0_col5\" class=\"col_heading level0 col5\" >75%</th>\n",
       "      <th id=\"T_d75a3_level0_col6\" class=\"col_heading level0 col6\" >max</th>\n",
       "    </tr>\n",
       "  </thead>\n",
       "  <tbody>\n",
       "    <tr>\n",
       "      <th id=\"T_d75a3_level0_row0\" class=\"row_heading level0 row0\" >BMI</th>\n",
       "      <td id=\"T_d75a3_row0_col0\" class=\"data row0 col0\" >28.325399</td>\n",
       "      <td id=\"T_d75a3_row0_col1\" class=\"data row0 col1\" >6.356100</td>\n",
       "      <td id=\"T_d75a3_row0_col2\" class=\"data row0 col2\" >12.020000</td>\n",
       "      <td id=\"T_d75a3_row0_col3\" class=\"data row0 col3\" >24.030000</td>\n",
       "      <td id=\"T_d75a3_row0_col4\" class=\"data row0 col4\" >27.340000</td>\n",
       "      <td id=\"T_d75a3_row0_col5\" class=\"data row0 col5\" >31.420000</td>\n",
       "      <td id=\"T_d75a3_row0_col6\" class=\"data row0 col6\" >94.850000</td>\n",
       "    </tr>\n",
       "    <tr>\n",
       "      <th id=\"T_d75a3_level0_row1\" class=\"row_heading level0 row1\" >PhysicalHealth</th>\n",
       "      <td id=\"T_d75a3_row1_col0\" class=\"data row1 col0\" >3.371710</td>\n",
       "      <td id=\"T_d75a3_row1_col1\" class=\"data row1 col1\" >7.950850</td>\n",
       "      <td id=\"T_d75a3_row1_col2\" class=\"data row1 col2\" >0.000000</td>\n",
       "      <td id=\"T_d75a3_row1_col3\" class=\"data row1 col3\" >0.000000</td>\n",
       "      <td id=\"T_d75a3_row1_col4\" class=\"data row1 col4\" >0.000000</td>\n",
       "      <td id=\"T_d75a3_row1_col5\" class=\"data row1 col5\" >2.000000</td>\n",
       "      <td id=\"T_d75a3_row1_col6\" class=\"data row1 col6\" >30.000000</td>\n",
       "    </tr>\n",
       "    <tr>\n",
       "      <th id=\"T_d75a3_level0_row2\" class=\"row_heading level0 row2\" >MentalHealth</th>\n",
       "      <td id=\"T_d75a3_row2_col0\" class=\"data row2 col0\" >3.898366</td>\n",
       "      <td id=\"T_d75a3_row2_col1\" class=\"data row2 col1\" >7.955235</td>\n",
       "      <td id=\"T_d75a3_row2_col2\" class=\"data row2 col2\" >0.000000</td>\n",
       "      <td id=\"T_d75a3_row2_col3\" class=\"data row2 col3\" >0.000000</td>\n",
       "      <td id=\"T_d75a3_row2_col4\" class=\"data row2 col4\" >0.000000</td>\n",
       "      <td id=\"T_d75a3_row2_col5\" class=\"data row2 col5\" >3.000000</td>\n",
       "      <td id=\"T_d75a3_row2_col6\" class=\"data row2 col6\" >30.000000</td>\n",
       "    </tr>\n",
       "    <tr>\n",
       "      <th id=\"T_d75a3_level0_row3\" class=\"row_heading level0 row3\" >AgeCategory</th>\n",
       "      <td id=\"T_d75a3_row3_col0\" class=\"data row3 col0\" >54.355759</td>\n",
       "      <td id=\"T_d75a3_row3_col1\" class=\"data row3 col1\" >17.720429</td>\n",
       "      <td id=\"T_d75a3_row3_col2\" class=\"data row3 col2\" >21.000000</td>\n",
       "      <td id=\"T_d75a3_row3_col3\" class=\"data row3 col3\" >42.000000</td>\n",
       "      <td id=\"T_d75a3_row3_col4\" class=\"data row3 col4\" >57.000000</td>\n",
       "      <td id=\"T_d75a3_row3_col5\" class=\"data row3 col5\" >67.000000</td>\n",
       "      <td id=\"T_d75a3_row3_col6\" class=\"data row3 col6\" >80.000000</td>\n",
       "    </tr>\n",
       "    <tr>\n",
       "      <th id=\"T_d75a3_level0_row4\" class=\"row_heading level0 row4\" >SleepTime</th>\n",
       "      <td id=\"T_d75a3_row4_col0\" class=\"data row4 col0\" >7.097075</td>\n",
       "      <td id=\"T_d75a3_row4_col1\" class=\"data row4 col1\" >1.436007</td>\n",
       "      <td id=\"T_d75a3_row4_col2\" class=\"data row4 col2\" >1.000000</td>\n",
       "      <td id=\"T_d75a3_row4_col3\" class=\"data row4 col3\" >6.000000</td>\n",
       "      <td id=\"T_d75a3_row4_col4\" class=\"data row4 col4\" >7.000000</td>\n",
       "      <td id=\"T_d75a3_row4_col5\" class=\"data row4 col5\" >8.000000</td>\n",
       "      <td id=\"T_d75a3_row4_col6\" class=\"data row4 col6\" >24.000000</td>\n",
       "    </tr>\n",
       "  </tbody>\n",
       "</table>\n"
      ],
      "text/plain": [
       "<pandas.io.formats.style.Styler at 0x161adecff70>"
      ]
     },
     "execution_count": 7,
     "metadata": {},
     "output_type": "execute_result"
    }
   ],
   "source": [
    "df.describe()[1:][['BMI','PhysicalHealth','MentalHealth', 'AgeCategory', 'SleepTime']].T.style.background_gradient(cmap='Blues')"
   ]
  },
  {
   "cell_type": "markdown",
   "id": "29e75c2a",
   "metadata": {
    "papermill": {
     "duration": 0.053098,
     "end_time": "2022-04-18T22:21:52.741848",
     "exception": false,
     "start_time": "2022-04-18T22:21:52.688750",
     "status": "completed"
    },
    "tags": []
   },
   "source": [
    "## Column Statistics (of categorical data)"
   ]
  },
  {
   "cell_type": "code",
   "execution_count": 10,
   "id": "578b7273",
   "metadata": {
    "_kg_hide-input": true,
    "execution": {
     "iopub.execute_input": "2022-04-18T22:21:52.880321Z",
     "iopub.status.busy": "2022-04-18T22:21:52.878603Z",
     "iopub.status.idle": "2022-04-18T22:21:54.471129Z",
     "shell.execute_reply": "2022-04-18T22:21:54.470598Z",
     "shell.execute_reply.started": "2022-04-18T22:07:02.333220Z"
    },
    "papermill": {
     "duration": 1.675828,
     "end_time": "2022-04-18T22:21:54.471282",
     "exception": false,
     "start_time": "2022-04-18T22:21:52.795454",
     "status": "completed"
    },
    "tags": []
   },
   "outputs": [
    {
     "data": {
      "application/vnd.plotly.v1+json": {
       "config": {
        "plotlyServerURL": "https://plot.ly"
       },
       "data": [
        {
         "domain": {
          "x": [
           0,
           0.45
          ],
          "y": [
           0.9183673469387754,
           0.9999999999999999
          ]
         },
         "hole": 0.35,
         "labels": [
          "No",
          "Yes"
         ],
         "marker": {
          "colors": [
           "#4285f4",
           "#ea4335",
           "#fbbc05",
           "#34a853"
          ]
         },
         "rotation": -45,
         "textinfo": "label+percent",
         "type": "pie",
         "values": [
          292422,
          27373
         ]
        },
        {
         "domain": {
          "x": [
           0.55,
           1
          ],
          "y": [
           0.9183673469387754,
           0.9999999999999999
          ]
         },
         "hole": 0.35,
         "labels": [
          "No",
          "Yes"
         ],
         "marker": {
          "colors": [
           "#4285f4",
           "#ea4335",
           "#fbbc05",
           "#34a853"
          ]
         },
         "textinfo": "label+percent",
         "type": "pie",
         "values": [
          187887,
          131908
         ]
        },
        {
         "domain": {
          "x": [
           0,
           0.45
          ],
          "y": [
           0.7653061224489794,
           0.8469387755102039
          ]
         },
         "hole": 0.35,
         "labels": [
          "No",
          "Yes"
         ],
         "marker": {
          "colors": [
           "#4285f4",
           "#ea4335",
           "#fbbc05",
           "#34a853"
          ]
         },
         "rotation": -45,
         "textinfo": "label+percent",
         "type": "pie",
         "values": [
          298018,
          21777
         ]
        },
        {
         "domain": {
          "x": [
           0.55,
           1
          ],
          "y": [
           0.7653061224489794,
           0.8469387755102039
          ]
         },
         "hole": 0.35,
         "labels": [
          "No",
          "Yes"
         ],
         "marker": {
          "colors": [
           "#4285f4",
           "#ea4335",
           "#fbbc05",
           "#34a853"
          ]
         },
         "rotation": -45,
         "textinfo": "label+percent",
         "type": "pie",
         "values": [
          307726,
          12069
         ]
        },
        {
         "domain": {
          "x": [
           0,
           0.45
          ],
          "y": [
           0.6122448979591837,
           0.6938775510204082
          ]
         },
         "hole": 0.35,
         "labels": [
          "No",
          "Yes"
         ],
         "marker": {
          "colors": [
           "#4285f4",
           "#ea4335",
           "#fbbc05",
           "#34a853"
          ]
         },
         "textinfo": "label+percent",
         "type": "pie",
         "values": [
          275385,
          44410
         ]
        },
        {
         "domain": {
          "x": [
           0.55,
           1
          ],
          "y": [
           0.6122448979591837,
           0.6938775510204082
          ]
         },
         "hole": 0.35,
         "labels": [
          "Female",
          "Male"
         ],
         "marker": {
          "colors": [
           "#4285f4",
           "#ea4335",
           "#fbbc05",
           "#34a853"
          ]
         },
         "textinfo": "label+percent",
         "type": "pie",
         "values": [
          167805,
          151990
         ]
        },
        {
         "domain": {
          "x": [
           0,
           0.45
          ],
          "y": [
           0.4591836734693877,
           0.5408163265306122
          ]
         },
         "hole": 0.35,
         "labels": [
          "White",
          "Hispanic",
          "Black",
          "Other",
          "Asian",
          "American Indian/Alaskan Native"
         ],
         "marker": {
          "colors": [
           "#4285f4",
           "#ea4335",
           "#fbbc05",
           "#34a853"
          ]
         },
         "rotation": -45,
         "textinfo": "label+percent",
         "type": "pie",
         "values": [
          245212,
          27446,
          22939,
          10928,
          8068,
          5202
         ]
        },
        {
         "domain": {
          "x": [
           0.55,
           1
          ],
          "y": [
           0.4591836734693877,
           0.5408163265306122
          ]
         },
         "hole": 0.35,
         "labels": [
          "Yes",
          "No"
         ],
         "marker": {
          "colors": [
           "#4285f4",
           "#ea4335",
           "#fbbc05",
           "#34a853"
          ]
         },
         "textinfo": "label+percent",
         "type": "pie",
         "values": [
          247957,
          71838
         ]
        },
        {
         "domain": {
          "x": [
           0,
           0.45
          ],
          "y": [
           0.30612244897959184,
           0.3877551020408163
          ]
         },
         "hole": 0.35,
         "labels": [
          "No",
          "Yes",
          "No, borderline diabetes",
          "Yes (during pregnancy)"
         ],
         "marker": {
          "colors": [
           "#4285f4",
           "#ea4335",
           "#fbbc05",
           "#34a853"
          ]
         },
         "rotation": -45,
         "textinfo": "label+percent",
         "type": "pie",
         "values": [
          269653,
          40802,
          6781,
          2559
         ]
        },
        {
         "domain": {
          "x": [
           0.55,
           1
          ],
          "y": [
           0.30612244897959184,
           0.3877551020408163
          ]
         },
         "hole": 0.35,
         "labels": [
          "Very good",
          "Good",
          "Excellent",
          "Fair",
          "Poor"
         ],
         "marker": {
          "colors": [
           "#4285f4",
           "#ea4335",
           "#fbbc05",
           "#34a853"
          ]
         },
         "textinfo": "label+percent",
         "type": "pie",
         "values": [
          113858,
          93129,
          66842,
          34677,
          11289
         ]
        },
        {
         "domain": {
          "x": [
           0,
           0.45
          ],
          "y": [
           0.15306122448979592,
           0.2346938775510204
          ]
         },
         "hole": 0.35,
         "labels": [
          "No",
          "Yes"
         ],
         "marker": {
          "colors": [
           "#4285f4",
           "#ea4335",
           "#fbbc05",
           "#34a853"
          ]
         },
         "rotation": -45,
         "textinfo": "label+percent",
         "type": "pie",
         "values": [
          276923,
          42872
         ]
        },
        {
         "domain": {
          "x": [
           0.55,
           1
          ],
          "y": [
           0.15306122448979592,
           0.2346938775510204
          ]
         },
         "hole": 0.35,
         "labels": [
          "No",
          "Yes"
         ],
         "marker": {
          "colors": [
           "#4285f4",
           "#ea4335",
           "#fbbc05",
           "#34a853"
          ]
         },
         "rotation": -45,
         "textinfo": "label+percent",
         "type": "pie",
         "values": [
          308016,
          11779
         ]
        },
        {
         "domain": {
          "x": [
           0,
           0.45
          ],
          "y": [
           0,
           0.08163265306122448
          ]
         },
         "hole": 0.35,
         "labels": [
          "No",
          "Yes"
         ],
         "marker": {
          "colors": [
           "#4285f4",
           "#ea4335",
           "#fbbc05",
           "#34a853"
          ]
         },
         "rotation": -45,
         "textinfo": "label+percent",
         "type": "pie",
         "values": [
          289976,
          29819
         ]
        }
       ],
       "layout": {
        "annotations": [
         {
          "font": {
           "size": 16
          },
          "showarrow": false,
          "text": "HeartDisease",
          "x": 0.225,
          "xanchor": "center",
          "xref": "paper",
          "y": 0.9999999999999999,
          "yanchor": "bottom",
          "yref": "paper"
         },
         {
          "font": {
           "size": 16
          },
          "showarrow": false,
          "text": "Smoking",
          "x": 0.775,
          "xanchor": "center",
          "xref": "paper",
          "y": 0.9999999999999999,
          "yanchor": "bottom",
          "yref": "paper"
         },
         {
          "font": {
           "size": 16
          },
          "showarrow": false,
          "text": "AlcoholDrinking",
          "x": 0.225,
          "xanchor": "center",
          "xref": "paper",
          "y": 0.8469387755102039,
          "yanchor": "bottom",
          "yref": "paper"
         },
         {
          "font": {
           "size": 16
          },
          "showarrow": false,
          "text": "Stroke",
          "x": 0.775,
          "xanchor": "center",
          "xref": "paper",
          "y": 0.8469387755102039,
          "yanchor": "bottom",
          "yref": "paper"
         },
         {
          "font": {
           "size": 16
          },
          "showarrow": false,
          "text": "DiffWalking",
          "x": 0.225,
          "xanchor": "center",
          "xref": "paper",
          "y": 0.6938775510204082,
          "yanchor": "bottom",
          "yref": "paper"
         },
         {
          "font": {
           "size": 16
          },
          "showarrow": false,
          "text": "Sex",
          "x": 0.775,
          "xanchor": "center",
          "xref": "paper",
          "y": 0.6938775510204082,
          "yanchor": "bottom",
          "yref": "paper"
         },
         {
          "font": {
           "size": 16
          },
          "showarrow": false,
          "text": "Race",
          "x": 0.225,
          "xanchor": "center",
          "xref": "paper",
          "y": 0.5408163265306122,
          "yanchor": "bottom",
          "yref": "paper"
         },
         {
          "font": {
           "size": 16
          },
          "showarrow": false,
          "text": "Diabetic",
          "x": 0.775,
          "xanchor": "center",
          "xref": "paper",
          "y": 0.5408163265306122,
          "yanchor": "bottom",
          "yref": "paper"
         },
         {
          "font": {
           "size": 16
          },
          "showarrow": false,
          "text": "PhysicalActivity",
          "x": 0.225,
          "xanchor": "center",
          "xref": "paper",
          "y": 0.3877551020408163,
          "yanchor": "bottom",
          "yref": "paper"
         },
         {
          "font": {
           "size": 16
          },
          "showarrow": false,
          "text": "GenHealth",
          "x": 0.775,
          "xanchor": "center",
          "xref": "paper",
          "y": 0.3877551020408163,
          "yanchor": "bottom",
          "yref": "paper"
         },
         {
          "font": {
           "size": 16
          },
          "showarrow": false,
          "text": "Asthma",
          "x": 0.225,
          "xanchor": "center",
          "xref": "paper",
          "y": 0.2346938775510204,
          "yanchor": "bottom",
          "yref": "paper"
         },
         {
          "font": {
           "size": 16
          },
          "showarrow": false,
          "text": "KidneyDisease",
          "x": 0.775,
          "xanchor": "center",
          "xref": "paper",
          "y": 0.2346938775510204,
          "yanchor": "bottom",
          "yref": "paper"
         },
         {
          "font": {
           "size": 16
          },
          "showarrow": false,
          "text": "SkinCancer",
          "x": 0.225,
          "xanchor": "center",
          "xref": "paper",
          "y": 0.08163265306122448,
          "yanchor": "bottom",
          "yref": "paper"
         }
        ],
        "font": {
         "size": 13
        },
        "height": 3200,
        "showlegend": false,
        "template": {
         "data": {
          "bar": [
           {
            "error_x": {
             "color": "#2a3f5f"
            },
            "error_y": {
             "color": "#2a3f5f"
            },
            "marker": {
             "line": {
              "color": "#E5ECF6",
              "width": 0.5
             },
             "pattern": {
              "fillmode": "overlay",
              "size": 10,
              "solidity": 0.2
             }
            },
            "type": "bar"
           }
          ],
          "barpolar": [
           {
            "marker": {
             "line": {
              "color": "#E5ECF6",
              "width": 0.5
             },
             "pattern": {
              "fillmode": "overlay",
              "size": 10,
              "solidity": 0.2
             }
            },
            "type": "barpolar"
           }
          ],
          "carpet": [
           {
            "aaxis": {
             "endlinecolor": "#2a3f5f",
             "gridcolor": "white",
             "linecolor": "white",
             "minorgridcolor": "white",
             "startlinecolor": "#2a3f5f"
            },
            "baxis": {
             "endlinecolor": "#2a3f5f",
             "gridcolor": "white",
             "linecolor": "white",
             "minorgridcolor": "white",
             "startlinecolor": "#2a3f5f"
            },
            "type": "carpet"
           }
          ],
          "choropleth": [
           {
            "colorbar": {
             "outlinewidth": 0,
             "ticks": ""
            },
            "type": "choropleth"
           }
          ],
          "contour": [
           {
            "colorbar": {
             "outlinewidth": 0,
             "ticks": ""
            },
            "colorscale": [
             [
              0,
              "#0d0887"
             ],
             [
              0.1111111111111111,
              "#46039f"
             ],
             [
              0.2222222222222222,
              "#7201a8"
             ],
             [
              0.3333333333333333,
              "#9c179e"
             ],
             [
              0.4444444444444444,
              "#bd3786"
             ],
             [
              0.5555555555555556,
              "#d8576b"
             ],
             [
              0.6666666666666666,
              "#ed7953"
             ],
             [
              0.7777777777777778,
              "#fb9f3a"
             ],
             [
              0.8888888888888888,
              "#fdca26"
             ],
             [
              1,
              "#f0f921"
             ]
            ],
            "type": "contour"
           }
          ],
          "contourcarpet": [
           {
            "colorbar": {
             "outlinewidth": 0,
             "ticks": ""
            },
            "type": "contourcarpet"
           }
          ],
          "heatmap": [
           {
            "colorbar": {
             "outlinewidth": 0,
             "ticks": ""
            },
            "colorscale": [
             [
              0,
              "#0d0887"
             ],
             [
              0.1111111111111111,
              "#46039f"
             ],
             [
              0.2222222222222222,
              "#7201a8"
             ],
             [
              0.3333333333333333,
              "#9c179e"
             ],
             [
              0.4444444444444444,
              "#bd3786"
             ],
             [
              0.5555555555555556,
              "#d8576b"
             ],
             [
              0.6666666666666666,
              "#ed7953"
             ],
             [
              0.7777777777777778,
              "#fb9f3a"
             ],
             [
              0.8888888888888888,
              "#fdca26"
             ],
             [
              1,
              "#f0f921"
             ]
            ],
            "type": "heatmap"
           }
          ],
          "heatmapgl": [
           {
            "colorbar": {
             "outlinewidth": 0,
             "ticks": ""
            },
            "colorscale": [
             [
              0,
              "#0d0887"
             ],
             [
              0.1111111111111111,
              "#46039f"
             ],
             [
              0.2222222222222222,
              "#7201a8"
             ],
             [
              0.3333333333333333,
              "#9c179e"
             ],
             [
              0.4444444444444444,
              "#bd3786"
             ],
             [
              0.5555555555555556,
              "#d8576b"
             ],
             [
              0.6666666666666666,
              "#ed7953"
             ],
             [
              0.7777777777777778,
              "#fb9f3a"
             ],
             [
              0.8888888888888888,
              "#fdca26"
             ],
             [
              1,
              "#f0f921"
             ]
            ],
            "type": "heatmapgl"
           }
          ],
          "histogram": [
           {
            "marker": {
             "pattern": {
              "fillmode": "overlay",
              "size": 10,
              "solidity": 0.2
             }
            },
            "type": "histogram"
           }
          ],
          "histogram2d": [
           {
            "colorbar": {
             "outlinewidth": 0,
             "ticks": ""
            },
            "colorscale": [
             [
              0,
              "#0d0887"
             ],
             [
              0.1111111111111111,
              "#46039f"
             ],
             [
              0.2222222222222222,
              "#7201a8"
             ],
             [
              0.3333333333333333,
              "#9c179e"
             ],
             [
              0.4444444444444444,
              "#bd3786"
             ],
             [
              0.5555555555555556,
              "#d8576b"
             ],
             [
              0.6666666666666666,
              "#ed7953"
             ],
             [
              0.7777777777777778,
              "#fb9f3a"
             ],
             [
              0.8888888888888888,
              "#fdca26"
             ],
             [
              1,
              "#f0f921"
             ]
            ],
            "type": "histogram2d"
           }
          ],
          "histogram2dcontour": [
           {
            "colorbar": {
             "outlinewidth": 0,
             "ticks": ""
            },
            "colorscale": [
             [
              0,
              "#0d0887"
             ],
             [
              0.1111111111111111,
              "#46039f"
             ],
             [
              0.2222222222222222,
              "#7201a8"
             ],
             [
              0.3333333333333333,
              "#9c179e"
             ],
             [
              0.4444444444444444,
              "#bd3786"
             ],
             [
              0.5555555555555556,
              "#d8576b"
             ],
             [
              0.6666666666666666,
              "#ed7953"
             ],
             [
              0.7777777777777778,
              "#fb9f3a"
             ],
             [
              0.8888888888888888,
              "#fdca26"
             ],
             [
              1,
              "#f0f921"
             ]
            ],
            "type": "histogram2dcontour"
           }
          ],
          "mesh3d": [
           {
            "colorbar": {
             "outlinewidth": 0,
             "ticks": ""
            },
            "type": "mesh3d"
           }
          ],
          "parcoords": [
           {
            "line": {
             "colorbar": {
              "outlinewidth": 0,
              "ticks": ""
             }
            },
            "type": "parcoords"
           }
          ],
          "pie": [
           {
            "automargin": true,
            "type": "pie"
           }
          ],
          "scatter": [
           {
            "fillpattern": {
             "fillmode": "overlay",
             "size": 10,
             "solidity": 0.2
            },
            "type": "scatter"
           }
          ],
          "scatter3d": [
           {
            "line": {
             "colorbar": {
              "outlinewidth": 0,
              "ticks": ""
             }
            },
            "marker": {
             "colorbar": {
              "outlinewidth": 0,
              "ticks": ""
             }
            },
            "type": "scatter3d"
           }
          ],
          "scattercarpet": [
           {
            "marker": {
             "colorbar": {
              "outlinewidth": 0,
              "ticks": ""
             }
            },
            "type": "scattercarpet"
           }
          ],
          "scattergeo": [
           {
            "marker": {
             "colorbar": {
              "outlinewidth": 0,
              "ticks": ""
             }
            },
            "type": "scattergeo"
           }
          ],
          "scattergl": [
           {
            "marker": {
             "colorbar": {
              "outlinewidth": 0,
              "ticks": ""
             }
            },
            "type": "scattergl"
           }
          ],
          "scattermapbox": [
           {
            "marker": {
             "colorbar": {
              "outlinewidth": 0,
              "ticks": ""
             }
            },
            "type": "scattermapbox"
           }
          ],
          "scatterpolar": [
           {
            "marker": {
             "colorbar": {
              "outlinewidth": 0,
              "ticks": ""
             }
            },
            "type": "scatterpolar"
           }
          ],
          "scatterpolargl": [
           {
            "marker": {
             "colorbar": {
              "outlinewidth": 0,
              "ticks": ""
             }
            },
            "type": "scatterpolargl"
           }
          ],
          "scatterternary": [
           {
            "marker": {
             "colorbar": {
              "outlinewidth": 0,
              "ticks": ""
             }
            },
            "type": "scatterternary"
           }
          ],
          "surface": [
           {
            "colorbar": {
             "outlinewidth": 0,
             "ticks": ""
            },
            "colorscale": [
             [
              0,
              "#0d0887"
             ],
             [
              0.1111111111111111,
              "#46039f"
             ],
             [
              0.2222222222222222,
              "#7201a8"
             ],
             [
              0.3333333333333333,
              "#9c179e"
             ],
             [
              0.4444444444444444,
              "#bd3786"
             ],
             [
              0.5555555555555556,
              "#d8576b"
             ],
             [
              0.6666666666666666,
              "#ed7953"
             ],
             [
              0.7777777777777778,
              "#fb9f3a"
             ],
             [
              0.8888888888888888,
              "#fdca26"
             ],
             [
              1,
              "#f0f921"
             ]
            ],
            "type": "surface"
           }
          ],
          "table": [
           {
            "cells": {
             "fill": {
              "color": "#EBF0F8"
             },
             "line": {
              "color": "white"
             }
            },
            "header": {
             "fill": {
              "color": "#C8D4E3"
             },
             "line": {
              "color": "white"
             }
            },
            "type": "table"
           }
          ]
         },
         "layout": {
          "annotationdefaults": {
           "arrowcolor": "#2a3f5f",
           "arrowhead": 0,
           "arrowwidth": 1
          },
          "autotypenumbers": "strict",
          "coloraxis": {
           "colorbar": {
            "outlinewidth": 0,
            "ticks": ""
           }
          },
          "colorscale": {
           "diverging": [
            [
             0,
             "#8e0152"
            ],
            [
             0.1,
             "#c51b7d"
            ],
            [
             0.2,
             "#de77ae"
            ],
            [
             0.3,
             "#f1b6da"
            ],
            [
             0.4,
             "#fde0ef"
            ],
            [
             0.5,
             "#f7f7f7"
            ],
            [
             0.6,
             "#e6f5d0"
            ],
            [
             0.7,
             "#b8e186"
            ],
            [
             0.8,
             "#7fbc41"
            ],
            [
             0.9,
             "#4d9221"
            ],
            [
             1,
             "#276419"
            ]
           ],
           "sequential": [
            [
             0,
             "#0d0887"
            ],
            [
             0.1111111111111111,
             "#46039f"
            ],
            [
             0.2222222222222222,
             "#7201a8"
            ],
            [
             0.3333333333333333,
             "#9c179e"
            ],
            [
             0.4444444444444444,
             "#bd3786"
            ],
            [
             0.5555555555555556,
             "#d8576b"
            ],
            [
             0.6666666666666666,
             "#ed7953"
            ],
            [
             0.7777777777777778,
             "#fb9f3a"
            ],
            [
             0.8888888888888888,
             "#fdca26"
            ],
            [
             1,
             "#f0f921"
            ]
           ],
           "sequentialminus": [
            [
             0,
             "#0d0887"
            ],
            [
             0.1111111111111111,
             "#46039f"
            ],
            [
             0.2222222222222222,
             "#7201a8"
            ],
            [
             0.3333333333333333,
             "#9c179e"
            ],
            [
             0.4444444444444444,
             "#bd3786"
            ],
            [
             0.5555555555555556,
             "#d8576b"
            ],
            [
             0.6666666666666666,
             "#ed7953"
            ],
            [
             0.7777777777777778,
             "#fb9f3a"
            ],
            [
             0.8888888888888888,
             "#fdca26"
            ],
            [
             1,
             "#f0f921"
            ]
           ]
          },
          "colorway": [
           "#636efa",
           "#EF553B",
           "#00cc96",
           "#ab63fa",
           "#FFA15A",
           "#19d3f3",
           "#FF6692",
           "#B6E880",
           "#FF97FF",
           "#FECB52"
          ],
          "font": {
           "color": "#2a3f5f"
          },
          "geo": {
           "bgcolor": "white",
           "lakecolor": "white",
           "landcolor": "#E5ECF6",
           "showlakes": true,
           "showland": true,
           "subunitcolor": "white"
          },
          "hoverlabel": {
           "align": "left"
          },
          "hovermode": "closest",
          "mapbox": {
           "style": "light"
          },
          "paper_bgcolor": "white",
          "plot_bgcolor": "#E5ECF6",
          "polar": {
           "angularaxis": {
            "gridcolor": "white",
            "linecolor": "white",
            "ticks": ""
           },
           "bgcolor": "#E5ECF6",
           "radialaxis": {
            "gridcolor": "white",
            "linecolor": "white",
            "ticks": ""
           }
          },
          "scene": {
           "xaxis": {
            "backgroundcolor": "#E5ECF6",
            "gridcolor": "white",
            "gridwidth": 2,
            "linecolor": "white",
            "showbackground": true,
            "ticks": "",
            "zerolinecolor": "white"
           },
           "yaxis": {
            "backgroundcolor": "#E5ECF6",
            "gridcolor": "white",
            "gridwidth": 2,
            "linecolor": "white",
            "showbackground": true,
            "ticks": "",
            "zerolinecolor": "white"
           },
           "zaxis": {
            "backgroundcolor": "#E5ECF6",
            "gridcolor": "white",
            "gridwidth": 2,
            "linecolor": "white",
            "showbackground": true,
            "ticks": "",
            "zerolinecolor": "white"
           }
          },
          "shapedefaults": {
           "line": {
            "color": "#2a3f5f"
           }
          },
          "ternary": {
           "aaxis": {
            "gridcolor": "white",
            "linecolor": "white",
            "ticks": ""
           },
           "baxis": {
            "gridcolor": "white",
            "linecolor": "white",
            "ticks": ""
           },
           "bgcolor": "#E5ECF6",
           "caxis": {
            "gridcolor": "white",
            "linecolor": "white",
            "ticks": ""
           }
          },
          "title": {
           "x": 0.05
          },
          "xaxis": {
           "automargin": true,
           "gridcolor": "white",
           "linecolor": "white",
           "ticks": "",
           "title": {
            "standoff": 15
           },
           "zerolinecolor": "white",
           "zerolinewidth": 2
          },
          "yaxis": {
           "automargin": true,
           "gridcolor": "white",
           "linecolor": "white",
           "ticks": "",
           "title": {
            "standoff": 15
           },
           "zerolinecolor": "white",
           "zerolinewidth": 2
          }
         }
        }
       }
      },
      "text/html": [
       "<div>                            <div id=\"b18c88d5-0b3e-4a6b-a027-8135609a8d27\" class=\"plotly-graph-div\" style=\"height:3200px; width:100%;\"></div>            <script type=\"text/javascript\">                require([\"plotly\"], function(Plotly) {                    window.PLOTLYENV=window.PLOTLYENV || {};                                    if (document.getElementById(\"b18c88d5-0b3e-4a6b-a027-8135609a8d27\")) {                    Plotly.newPlot(                        \"b18c88d5-0b3e-4a6b-a027-8135609a8d27\",                        [{\"hole\":0.35,\"labels\":[\"No\",\"Yes\"],\"marker\":{\"colors\":[\"#4285f4\",\"#ea4335\",\"#fbbc05\",\"#34a853\"]},\"rotation\":-45,\"textinfo\":\"label+percent\",\"values\":[292422,27373],\"type\":\"pie\",\"domain\":{\"x\":[0.0,0.45],\"y\":[0.9183673469387754,0.9999999999999999]}},{\"hole\":0.35,\"labels\":[\"No\",\"Yes\"],\"marker\":{\"colors\":[\"#4285f4\",\"#ea4335\",\"#fbbc05\",\"#34a853\"]},\"textinfo\":\"label+percent\",\"values\":[187887,131908],\"type\":\"pie\",\"domain\":{\"x\":[0.55,1.0],\"y\":[0.9183673469387754,0.9999999999999999]}},{\"hole\":0.35,\"labels\":[\"No\",\"Yes\"],\"marker\":{\"colors\":[\"#4285f4\",\"#ea4335\",\"#fbbc05\",\"#34a853\"]},\"rotation\":-45,\"textinfo\":\"label+percent\",\"values\":[298018,21777],\"type\":\"pie\",\"domain\":{\"x\":[0.0,0.45],\"y\":[0.7653061224489794,0.8469387755102039]}},{\"hole\":0.35,\"labels\":[\"No\",\"Yes\"],\"marker\":{\"colors\":[\"#4285f4\",\"#ea4335\",\"#fbbc05\",\"#34a853\"]},\"rotation\":-45,\"textinfo\":\"label+percent\",\"values\":[307726,12069],\"type\":\"pie\",\"domain\":{\"x\":[0.55,1.0],\"y\":[0.7653061224489794,0.8469387755102039]}},{\"hole\":0.35,\"labels\":[\"No\",\"Yes\"],\"marker\":{\"colors\":[\"#4285f4\",\"#ea4335\",\"#fbbc05\",\"#34a853\"]},\"textinfo\":\"label+percent\",\"values\":[275385,44410],\"type\":\"pie\",\"domain\":{\"x\":[0.0,0.45],\"y\":[0.6122448979591837,0.6938775510204082]}},{\"hole\":0.35,\"labels\":[\"Female\",\"Male\"],\"marker\":{\"colors\":[\"#4285f4\",\"#ea4335\",\"#fbbc05\",\"#34a853\"]},\"textinfo\":\"label+percent\",\"values\":[167805,151990],\"type\":\"pie\",\"domain\":{\"x\":[0.55,1.0],\"y\":[0.6122448979591837,0.6938775510204082]}},{\"hole\":0.35,\"labels\":[\"White\",\"Hispanic\",\"Black\",\"Other\",\"Asian\",\"American Indian/Alaskan Native\"],\"marker\":{\"colors\":[\"#4285f4\",\"#ea4335\",\"#fbbc05\",\"#34a853\"]},\"rotation\":-45,\"textinfo\":\"label+percent\",\"values\":[245212,27446,22939,10928,8068,5202],\"type\":\"pie\",\"domain\":{\"x\":[0.0,0.45],\"y\":[0.4591836734693877,0.5408163265306122]}},{\"hole\":0.35,\"labels\":[\"Yes\",\"No\"],\"marker\":{\"colors\":[\"#4285f4\",\"#ea4335\",\"#fbbc05\",\"#34a853\"]},\"textinfo\":\"label+percent\",\"values\":[247957,71838],\"type\":\"pie\",\"domain\":{\"x\":[0.55,1.0],\"y\":[0.4591836734693877,0.5408163265306122]}},{\"hole\":0.35,\"labels\":[\"No\",\"Yes\",\"No, borderline diabetes\",\"Yes (during pregnancy)\"],\"marker\":{\"colors\":[\"#4285f4\",\"#ea4335\",\"#fbbc05\",\"#34a853\"]},\"rotation\":-45,\"textinfo\":\"label+percent\",\"values\":[269653,40802,6781,2559],\"type\":\"pie\",\"domain\":{\"x\":[0.0,0.45],\"y\":[0.30612244897959184,0.3877551020408163]}},{\"hole\":0.35,\"labels\":[\"Very good\",\"Good\",\"Excellent\",\"Fair\",\"Poor\"],\"marker\":{\"colors\":[\"#4285f4\",\"#ea4335\",\"#fbbc05\",\"#34a853\"]},\"textinfo\":\"label+percent\",\"values\":[113858,93129,66842,34677,11289],\"type\":\"pie\",\"domain\":{\"x\":[0.55,1.0],\"y\":[0.30612244897959184,0.3877551020408163]}},{\"hole\":0.35,\"labels\":[\"No\",\"Yes\"],\"marker\":{\"colors\":[\"#4285f4\",\"#ea4335\",\"#fbbc05\",\"#34a853\"]},\"rotation\":-45,\"textinfo\":\"label+percent\",\"values\":[276923,42872],\"type\":\"pie\",\"domain\":{\"x\":[0.0,0.45],\"y\":[0.15306122448979592,0.2346938775510204]}},{\"hole\":0.35,\"labels\":[\"No\",\"Yes\"],\"marker\":{\"colors\":[\"#4285f4\",\"#ea4335\",\"#fbbc05\",\"#34a853\"]},\"rotation\":-45,\"textinfo\":\"label+percent\",\"values\":[308016,11779],\"type\":\"pie\",\"domain\":{\"x\":[0.55,1.0],\"y\":[0.15306122448979592,0.2346938775510204]}},{\"hole\":0.35,\"labels\":[\"No\",\"Yes\"],\"marker\":{\"colors\":[\"#4285f4\",\"#ea4335\",\"#fbbc05\",\"#34a853\"]},\"rotation\":-45,\"textinfo\":\"label+percent\",\"values\":[289976,29819],\"type\":\"pie\",\"domain\":{\"x\":[0.0,0.45],\"y\":[0.0,0.08163265306122448]}}],                        {\"template\":{\"data\":{\"histogram2dcontour\":[{\"type\":\"histogram2dcontour\",\"colorbar\":{\"outlinewidth\":0,\"ticks\":\"\"},\"colorscale\":[[0.0,\"#0d0887\"],[0.1111111111111111,\"#46039f\"],[0.2222222222222222,\"#7201a8\"],[0.3333333333333333,\"#9c179e\"],[0.4444444444444444,\"#bd3786\"],[0.5555555555555556,\"#d8576b\"],[0.6666666666666666,\"#ed7953\"],[0.7777777777777778,\"#fb9f3a\"],[0.8888888888888888,\"#fdca26\"],[1.0,\"#f0f921\"]]}],\"choropleth\":[{\"type\":\"choropleth\",\"colorbar\":{\"outlinewidth\":0,\"ticks\":\"\"}}],\"histogram2d\":[{\"type\":\"histogram2d\",\"colorbar\":{\"outlinewidth\":0,\"ticks\":\"\"},\"colorscale\":[[0.0,\"#0d0887\"],[0.1111111111111111,\"#46039f\"],[0.2222222222222222,\"#7201a8\"],[0.3333333333333333,\"#9c179e\"],[0.4444444444444444,\"#bd3786\"],[0.5555555555555556,\"#d8576b\"],[0.6666666666666666,\"#ed7953\"],[0.7777777777777778,\"#fb9f3a\"],[0.8888888888888888,\"#fdca26\"],[1.0,\"#f0f921\"]]}],\"heatmap\":[{\"type\":\"heatmap\",\"colorbar\":{\"outlinewidth\":0,\"ticks\":\"\"},\"colorscale\":[[0.0,\"#0d0887\"],[0.1111111111111111,\"#46039f\"],[0.2222222222222222,\"#7201a8\"],[0.3333333333333333,\"#9c179e\"],[0.4444444444444444,\"#bd3786\"],[0.5555555555555556,\"#d8576b\"],[0.6666666666666666,\"#ed7953\"],[0.7777777777777778,\"#fb9f3a\"],[0.8888888888888888,\"#fdca26\"],[1.0,\"#f0f921\"]]}],\"heatmapgl\":[{\"type\":\"heatmapgl\",\"colorbar\":{\"outlinewidth\":0,\"ticks\":\"\"},\"colorscale\":[[0.0,\"#0d0887\"],[0.1111111111111111,\"#46039f\"],[0.2222222222222222,\"#7201a8\"],[0.3333333333333333,\"#9c179e\"],[0.4444444444444444,\"#bd3786\"],[0.5555555555555556,\"#d8576b\"],[0.6666666666666666,\"#ed7953\"],[0.7777777777777778,\"#fb9f3a\"],[0.8888888888888888,\"#fdca26\"],[1.0,\"#f0f921\"]]}],\"contourcarpet\":[{\"type\":\"contourcarpet\",\"colorbar\":{\"outlinewidth\":0,\"ticks\":\"\"}}],\"contour\":[{\"type\":\"contour\",\"colorbar\":{\"outlinewidth\":0,\"ticks\":\"\"},\"colorscale\":[[0.0,\"#0d0887\"],[0.1111111111111111,\"#46039f\"],[0.2222222222222222,\"#7201a8\"],[0.3333333333333333,\"#9c179e\"],[0.4444444444444444,\"#bd3786\"],[0.5555555555555556,\"#d8576b\"],[0.6666666666666666,\"#ed7953\"],[0.7777777777777778,\"#fb9f3a\"],[0.8888888888888888,\"#fdca26\"],[1.0,\"#f0f921\"]]}],\"surface\":[{\"type\":\"surface\",\"colorbar\":{\"outlinewidth\":0,\"ticks\":\"\"},\"colorscale\":[[0.0,\"#0d0887\"],[0.1111111111111111,\"#46039f\"],[0.2222222222222222,\"#7201a8\"],[0.3333333333333333,\"#9c179e\"],[0.4444444444444444,\"#bd3786\"],[0.5555555555555556,\"#d8576b\"],[0.6666666666666666,\"#ed7953\"],[0.7777777777777778,\"#fb9f3a\"],[0.8888888888888888,\"#fdca26\"],[1.0,\"#f0f921\"]]}],\"mesh3d\":[{\"type\":\"mesh3d\",\"colorbar\":{\"outlinewidth\":0,\"ticks\":\"\"}}],\"scatter\":[{\"fillpattern\":{\"fillmode\":\"overlay\",\"size\":10,\"solidity\":0.2},\"type\":\"scatter\"}],\"parcoords\":[{\"type\":\"parcoords\",\"line\":{\"colorbar\":{\"outlinewidth\":0,\"ticks\":\"\"}}}],\"scatterpolargl\":[{\"type\":\"scatterpolargl\",\"marker\":{\"colorbar\":{\"outlinewidth\":0,\"ticks\":\"\"}}}],\"bar\":[{\"error_x\":{\"color\":\"#2a3f5f\"},\"error_y\":{\"color\":\"#2a3f5f\"},\"marker\":{\"line\":{\"color\":\"#E5ECF6\",\"width\":0.5},\"pattern\":{\"fillmode\":\"overlay\",\"size\":10,\"solidity\":0.2}},\"type\":\"bar\"}],\"scattergeo\":[{\"type\":\"scattergeo\",\"marker\":{\"colorbar\":{\"outlinewidth\":0,\"ticks\":\"\"}}}],\"scatterpolar\":[{\"type\":\"scatterpolar\",\"marker\":{\"colorbar\":{\"outlinewidth\":0,\"ticks\":\"\"}}}],\"histogram\":[{\"marker\":{\"pattern\":{\"fillmode\":\"overlay\",\"size\":10,\"solidity\":0.2}},\"type\":\"histogram\"}],\"scattergl\":[{\"type\":\"scattergl\",\"marker\":{\"colorbar\":{\"outlinewidth\":0,\"ticks\":\"\"}}}],\"scatter3d\":[{\"type\":\"scatter3d\",\"line\":{\"colorbar\":{\"outlinewidth\":0,\"ticks\":\"\"}},\"marker\":{\"colorbar\":{\"outlinewidth\":0,\"ticks\":\"\"}}}],\"scattermapbox\":[{\"type\":\"scattermapbox\",\"marker\":{\"colorbar\":{\"outlinewidth\":0,\"ticks\":\"\"}}}],\"scatterternary\":[{\"type\":\"scatterternary\",\"marker\":{\"colorbar\":{\"outlinewidth\":0,\"ticks\":\"\"}}}],\"scattercarpet\":[{\"type\":\"scattercarpet\",\"marker\":{\"colorbar\":{\"outlinewidth\":0,\"ticks\":\"\"}}}],\"carpet\":[{\"aaxis\":{\"endlinecolor\":\"#2a3f5f\",\"gridcolor\":\"white\",\"linecolor\":\"white\",\"minorgridcolor\":\"white\",\"startlinecolor\":\"#2a3f5f\"},\"baxis\":{\"endlinecolor\":\"#2a3f5f\",\"gridcolor\":\"white\",\"linecolor\":\"white\",\"minorgridcolor\":\"white\",\"startlinecolor\":\"#2a3f5f\"},\"type\":\"carpet\"}],\"table\":[{\"cells\":{\"fill\":{\"color\":\"#EBF0F8\"},\"line\":{\"color\":\"white\"}},\"header\":{\"fill\":{\"color\":\"#C8D4E3\"},\"line\":{\"color\":\"white\"}},\"type\":\"table\"}],\"barpolar\":[{\"marker\":{\"line\":{\"color\":\"#E5ECF6\",\"width\":0.5},\"pattern\":{\"fillmode\":\"overlay\",\"size\":10,\"solidity\":0.2}},\"type\":\"barpolar\"}],\"pie\":[{\"automargin\":true,\"type\":\"pie\"}]},\"layout\":{\"autotypenumbers\":\"strict\",\"colorway\":[\"#636efa\",\"#EF553B\",\"#00cc96\",\"#ab63fa\",\"#FFA15A\",\"#19d3f3\",\"#FF6692\",\"#B6E880\",\"#FF97FF\",\"#FECB52\"],\"font\":{\"color\":\"#2a3f5f\"},\"hovermode\":\"closest\",\"hoverlabel\":{\"align\":\"left\"},\"paper_bgcolor\":\"white\",\"plot_bgcolor\":\"#E5ECF6\",\"polar\":{\"bgcolor\":\"#E5ECF6\",\"angularaxis\":{\"gridcolor\":\"white\",\"linecolor\":\"white\",\"ticks\":\"\"},\"radialaxis\":{\"gridcolor\":\"white\",\"linecolor\":\"white\",\"ticks\":\"\"}},\"ternary\":{\"bgcolor\":\"#E5ECF6\",\"aaxis\":{\"gridcolor\":\"white\",\"linecolor\":\"white\",\"ticks\":\"\"},\"baxis\":{\"gridcolor\":\"white\",\"linecolor\":\"white\",\"ticks\":\"\"},\"caxis\":{\"gridcolor\":\"white\",\"linecolor\":\"white\",\"ticks\":\"\"}},\"coloraxis\":{\"colorbar\":{\"outlinewidth\":0,\"ticks\":\"\"}},\"colorscale\":{\"sequential\":[[0.0,\"#0d0887\"],[0.1111111111111111,\"#46039f\"],[0.2222222222222222,\"#7201a8\"],[0.3333333333333333,\"#9c179e\"],[0.4444444444444444,\"#bd3786\"],[0.5555555555555556,\"#d8576b\"],[0.6666666666666666,\"#ed7953\"],[0.7777777777777778,\"#fb9f3a\"],[0.8888888888888888,\"#fdca26\"],[1.0,\"#f0f921\"]],\"sequentialminus\":[[0.0,\"#0d0887\"],[0.1111111111111111,\"#46039f\"],[0.2222222222222222,\"#7201a8\"],[0.3333333333333333,\"#9c179e\"],[0.4444444444444444,\"#bd3786\"],[0.5555555555555556,\"#d8576b\"],[0.6666666666666666,\"#ed7953\"],[0.7777777777777778,\"#fb9f3a\"],[0.8888888888888888,\"#fdca26\"],[1.0,\"#f0f921\"]],\"diverging\":[[0,\"#8e0152\"],[0.1,\"#c51b7d\"],[0.2,\"#de77ae\"],[0.3,\"#f1b6da\"],[0.4,\"#fde0ef\"],[0.5,\"#f7f7f7\"],[0.6,\"#e6f5d0\"],[0.7,\"#b8e186\"],[0.8,\"#7fbc41\"],[0.9,\"#4d9221\"],[1,\"#276419\"]]},\"xaxis\":{\"gridcolor\":\"white\",\"linecolor\":\"white\",\"ticks\":\"\",\"title\":{\"standoff\":15},\"zerolinecolor\":\"white\",\"automargin\":true,\"zerolinewidth\":2},\"yaxis\":{\"gridcolor\":\"white\",\"linecolor\":\"white\",\"ticks\":\"\",\"title\":{\"standoff\":15},\"zerolinecolor\":\"white\",\"automargin\":true,\"zerolinewidth\":2},\"scene\":{\"xaxis\":{\"backgroundcolor\":\"#E5ECF6\",\"gridcolor\":\"white\",\"linecolor\":\"white\",\"showbackground\":true,\"ticks\":\"\",\"zerolinecolor\":\"white\",\"gridwidth\":2},\"yaxis\":{\"backgroundcolor\":\"#E5ECF6\",\"gridcolor\":\"white\",\"linecolor\":\"white\",\"showbackground\":true,\"ticks\":\"\",\"zerolinecolor\":\"white\",\"gridwidth\":2},\"zaxis\":{\"backgroundcolor\":\"#E5ECF6\",\"gridcolor\":\"white\",\"linecolor\":\"white\",\"showbackground\":true,\"ticks\":\"\",\"zerolinecolor\":\"white\",\"gridwidth\":2}},\"shapedefaults\":{\"line\":{\"color\":\"#2a3f5f\"}},\"annotationdefaults\":{\"arrowcolor\":\"#2a3f5f\",\"arrowhead\":0,\"arrowwidth\":1},\"geo\":{\"bgcolor\":\"white\",\"landcolor\":\"#E5ECF6\",\"subunitcolor\":\"white\",\"showland\":true,\"showlakes\":true,\"lakecolor\":\"white\"},\"title\":{\"x\":0.05},\"mapbox\":{\"style\":\"light\"}}},\"annotations\":[{\"font\":{\"size\":16},\"showarrow\":false,\"text\":\"HeartDisease\",\"x\":0.225,\"xanchor\":\"center\",\"xref\":\"paper\",\"y\":0.9999999999999999,\"yanchor\":\"bottom\",\"yref\":\"paper\"},{\"font\":{\"size\":16},\"showarrow\":false,\"text\":\"Smoking\",\"x\":0.775,\"xanchor\":\"center\",\"xref\":\"paper\",\"y\":0.9999999999999999,\"yanchor\":\"bottom\",\"yref\":\"paper\"},{\"font\":{\"size\":16},\"showarrow\":false,\"text\":\"AlcoholDrinking\",\"x\":0.225,\"xanchor\":\"center\",\"xref\":\"paper\",\"y\":0.8469387755102039,\"yanchor\":\"bottom\",\"yref\":\"paper\"},{\"font\":{\"size\":16},\"showarrow\":false,\"text\":\"Stroke\",\"x\":0.775,\"xanchor\":\"center\",\"xref\":\"paper\",\"y\":0.8469387755102039,\"yanchor\":\"bottom\",\"yref\":\"paper\"},{\"font\":{\"size\":16},\"showarrow\":false,\"text\":\"DiffWalking\",\"x\":0.225,\"xanchor\":\"center\",\"xref\":\"paper\",\"y\":0.6938775510204082,\"yanchor\":\"bottom\",\"yref\":\"paper\"},{\"font\":{\"size\":16},\"showarrow\":false,\"text\":\"Sex\",\"x\":0.775,\"xanchor\":\"center\",\"xref\":\"paper\",\"y\":0.6938775510204082,\"yanchor\":\"bottom\",\"yref\":\"paper\"},{\"font\":{\"size\":16},\"showarrow\":false,\"text\":\"Race\",\"x\":0.225,\"xanchor\":\"center\",\"xref\":\"paper\",\"y\":0.5408163265306122,\"yanchor\":\"bottom\",\"yref\":\"paper\"},{\"font\":{\"size\":16},\"showarrow\":false,\"text\":\"Diabetic\",\"x\":0.775,\"xanchor\":\"center\",\"xref\":\"paper\",\"y\":0.5408163265306122,\"yanchor\":\"bottom\",\"yref\":\"paper\"},{\"font\":{\"size\":16},\"showarrow\":false,\"text\":\"PhysicalActivity\",\"x\":0.225,\"xanchor\":\"center\",\"xref\":\"paper\",\"y\":0.3877551020408163,\"yanchor\":\"bottom\",\"yref\":\"paper\"},{\"font\":{\"size\":16},\"showarrow\":false,\"text\":\"GenHealth\",\"x\":0.775,\"xanchor\":\"center\",\"xref\":\"paper\",\"y\":0.3877551020408163,\"yanchor\":\"bottom\",\"yref\":\"paper\"},{\"font\":{\"size\":16},\"showarrow\":false,\"text\":\"Asthma\",\"x\":0.225,\"xanchor\":\"center\",\"xref\":\"paper\",\"y\":0.2346938775510204,\"yanchor\":\"bottom\",\"yref\":\"paper\"},{\"font\":{\"size\":16},\"showarrow\":false,\"text\":\"KidneyDisease\",\"x\":0.775,\"xanchor\":\"center\",\"xref\":\"paper\",\"y\":0.2346938775510204,\"yanchor\":\"bottom\",\"yref\":\"paper\"},{\"font\":{\"size\":16},\"showarrow\":false,\"text\":\"SkinCancer\",\"x\":0.225,\"xanchor\":\"center\",\"xref\":\"paper\",\"y\":0.08163265306122448,\"yanchor\":\"bottom\",\"yref\":\"paper\"}],\"font\":{\"size\":13},\"height\":3200,\"showlegend\":false},                        {\"responsive\": true}                    ).then(function(){\n",
       "                            \n",
       "var gd = document.getElementById('b18c88d5-0b3e-4a6b-a027-8135609a8d27');\n",
       "var x = new MutationObserver(function (mutations, observer) {{\n",
       "        var display = window.getComputedStyle(gd).display;\n",
       "        if (!display || display === 'none') {{\n",
       "            console.log([gd, 'removed!']);\n",
       "            Plotly.purge(gd);\n",
       "            observer.disconnect();\n",
       "        }}\n",
       "}});\n",
       "\n",
       "// Listen for the removal of the full notebook cells\n",
       "var notebookContainer = gd.closest('#notebook-container');\n",
       "if (notebookContainer) {{\n",
       "    x.observe(notebookContainer, {childList: true});\n",
       "}}\n",
       "\n",
       "// Listen for the clearing of the current output cell\n",
       "var outputEl = gd.closest('.output');\n",
       "if (outputEl) {{\n",
       "    x.observe(outputEl, {childList: true});\n",
       "}}\n",
       "\n",
       "                        })                };                });            </script>        </div>"
      ]
     },
     "metadata": {},
     "output_type": "display_data"
    }
   ],
   "source": [
    "fig = make_subplots(\n",
    "    rows=7, cols=2, subplot_titles=(\"HeartDisease\", \"Smoking\",\n",
    "                                    \"AlcoholDrinking\",\"Stroke\",\n",
    "                                    \"DiffWalking\", \"Sex\",\n",
    "                                    'Race', 'Diabetic',\n",
    "                                    'PhysicalActivity','GenHealth',\n",
    "                                    'Asthma', 'KidneyDisease',\n",
    "                                    'SkinCancer'),\n",
    "    specs=[[{\"type\": \"domain\"}, {\"type\": \"domain\"}],\n",
    "           [{\"type\": \"domain\"}, {\"type\": \"domain\"}],\n",
    "           [{\"type\": \"domain\"}, {\"type\": \"domain\"}],\n",
    "           [{\"type\": \"domain\"}, {\"type\": \"domain\"}],\n",
    "           [{\"type\": \"domain\"}, {\"type\": \"domain\"}],\n",
    "           [{\"type\": \"domain\"}, {\"type\": \"domain\"}],\n",
    "           [{\"type\": \"domain\"}, {\"type\": \"domain\"}]],\n",
    ")\n",
    "\n",
    "colours = ['#4285f4', '#ea4335', '#fbbc05', '#34a853']\n",
    "\n",
    "fig.add_trace(go.Pie(labels=np.array(df['HeartDisease'].value_counts().index),\n",
    "                     values=[x for x in df['HeartDisease'].value_counts()], hole=.35,\n",
    "                     textinfo='label+percent', rotation=-45, marker_colors=colours),\n",
    "              row=1, col=1)\n",
    "\n",
    "fig.add_trace(go.Pie(labels=np.array(df['Smoking'].value_counts().index),\n",
    "                     values=[x for x in df['Smoking'].value_counts()], hole=.35,\n",
    "                     textinfo='label+percent', marker_colors=colours),\n",
    "              row=1, col=2)\n",
    "\n",
    "fig.add_trace(go.Pie(labels=np.array(df['AlcoholDrinking'].value_counts().index),\n",
    "                     values=[x for x in df['AlcoholDrinking'].value_counts()], hole=.35,\n",
    "                     textinfo='label+percent', rotation=-45, marker_colors=colours),\n",
    "              row=2, col=1)\n",
    "\n",
    "fig.add_trace(go.Pie(labels=np.array(df['Stroke'].value_counts().index),\n",
    "                     values=[x for x in df['Stroke'].value_counts()], hole=.35,\n",
    "                     textinfo='label+percent', rotation=-45, marker_colors=colours),\n",
    "              row=2, col=2)\n",
    "\n",
    "fig.add_trace(go.Pie(labels=np.array(df['DiffWalking'].value_counts().index),\n",
    "                     values=[x for x in df['DiffWalking'].value_counts()], hole=.35,\n",
    "                     textinfo='label+percent', marker_colors=colours),\n",
    "              row=3, col=1)\n",
    "\n",
    "fig.add_trace(go.Pie(labels=np.array(df['Sex'].value_counts().index),\n",
    "                     values=[x for x in df['Sex'].value_counts()], hole=.35,\n",
    "                     textinfo='label+percent', marker_colors=colours),\n",
    "              row=3, col=2)\n",
    "\n",
    "fig.add_trace(go.Pie(labels=np.array(df['Race'].value_counts().index),\n",
    "                     values=[x for x in df['Race'].value_counts()], hole=.35,\n",
    "                     textinfo='label+percent', rotation=-45, marker_colors=colours),\n",
    "              row=4, col=1)\n",
    "\n",
    "fig.add_trace(go.Pie(labels=np.array(df['PhysicalActivity'].value_counts().index),\n",
    "                     values=[x for x in df['PhysicalActivity'].value_counts()], hole=.35,\n",
    "                     textinfo='label+percent', marker_colors=colours),\n",
    "              row=4, col=2)\n",
    "\n",
    "fig.add_trace(go.Pie(labels=np.array(df['Diabetic'].value_counts().index),\n",
    "                     values=[x for x in df['Diabetic'].value_counts()], hole=.35,\n",
    "                     textinfo='label+percent', rotation=-45, marker_colors=colours),\n",
    "              row=5, col=1)\n",
    "\n",
    "fig.add_trace(go.Pie(labels=np.array(df['GenHealth'].value_counts().index),\n",
    "                     values=[x for x in df['GenHealth'].value_counts()], hole=.35,\n",
    "                     textinfo='label+percent', marker_colors=colours),\n",
    "              row=5, col=2)\n",
    "\n",
    "fig.add_trace(go.Pie(labels=np.array(df['Asthma'].value_counts().index),\n",
    "                     values=[x for x in df['Asthma'].value_counts()], hole=.35,\n",
    "                     textinfo='label+percent', rotation=-45, marker_colors=colours),\n",
    "              row=6, col=1)\n",
    "\n",
    "fig.add_trace(go.Pie(labels=np.array(df['KidneyDisease'].value_counts().index),\n",
    "                     values=[x for x in df['KidneyDisease'].value_counts()], hole=.35,\n",
    "                     textinfo='label+percent', rotation=-45, marker_colors=colours),\n",
    "              row=6, col=2)\n",
    "\n",
    "fig.add_trace(go.Pie(labels=np.array(df['SkinCancer'].value_counts().index),\n",
    "                     values=[x for x in df['SkinCancer'].value_counts()], hole=.35,\n",
    "                     textinfo='label+percent', rotation=-45, marker_colors=colours),\n",
    "              row=7, col=1)\n",
    "\n",
    "\n",
    "fig.update_layout(height=3200, font=dict(size=13), showlegend=False)\n",
    "\n",
    "fig.show()"
   ]
  },
  {
   "cell_type": "markdown",
   "id": "ab5aabac",
   "metadata": {
    "papermill": {
     "duration": 0.067329,
     "end_time": "2022-04-18T22:21:54.597859",
     "exception": false,
     "start_time": "2022-04-18T22:21:54.530530",
     "status": "completed"
    },
    "tags": []
   },
   "source": [
    "# <b>3 <span style='color:#0386f7de'>|</span> Exploratory Analysis</b>"
   ]
  },
  {
   "cell_type": "markdown",
   "id": "5401fc17",
   "metadata": {
    "papermill": {
     "duration": 0.055293,
     "end_time": "2022-04-18T22:21:54.709152",
     "exception": false,
     "start_time": "2022-04-18T22:21:54.653859",
     "status": "completed"
    },
    "tags": []
   },
   "source": [
    "<h2>3.1 <span style='color:#0386f7de'>|</span> Visualization of Continuous Data</h2>"
   ]
  },
  {
   "cell_type": "code",
   "execution_count": 12,
   "id": "90d5c894",
   "metadata": {
    "_kg_hide-input": true,
    "execution": {
     "iopub.execute_input": "2022-04-18T22:21:54.824909Z",
     "iopub.status.busy": "2022-04-18T22:21:54.824206Z",
     "iopub.status.idle": "2022-04-18T22:21:57.826878Z",
     "shell.execute_reply": "2022-04-18T22:21:57.826340Z",
     "shell.execute_reply.started": "2022-04-18T22:07:07.119788Z"
    },
    "papermill": {
     "duration": 3.06203,
     "end_time": "2022-04-18T22:21:57.827010",
     "exception": false,
     "start_time": "2022-04-18T22:21:54.764980",
     "status": "completed"
    },
    "tags": []
   },
   "outputs": [
    {
     "data": {
      "image/png": "[encoded data removed]",
      "text/plain": [
       "<Figure size 1152x576 with 3 Axes>"
      ]
     },
     "metadata": {},
     "output_type": "display_data"
    }
   ],
   "source": [
    "sns.set(style=\"darkgrid\")\n",
    "sns.set(rc={'figure.figsize':(16,8)})\n",
    " \n",
    "# creating a figure composed of 3 matplotlib.Axes objects\n",
    "f, (ax_box1, ax_box2, ax_hist) = plt.subplots(3, sharex=True, gridspec_kw={\"height_ratios\": (.15, .15, .85)})\n",
    "colours = ['#4285f4', '#ea4335', '#fbbc05', '#34a853']\n",
    "# assigning a graph to each ax\n",
    "sns.boxplot(x=df[df['HeartDisease']=='Yes'][\"BMI\"], ax=ax_box1, color=\"#ea4335\")\n",
    "sns.histplot(df[df['HeartDisease']=='Yes'], x=\"BMI\", ax=ax_hist, kde=True, color=\"#ea4335\")\n",
    "\n",
    "sns.boxplot(x=df[df['HeartDisease']=='No'][\"BMI\"], ax=ax_box2, color='#4285f4')\n",
    "sns.histplot(df[df['HeartDisease']=='No'], x=\"BMI\", ax=ax_hist, kde=True, color='#4285f4')\n",
    " \n",
    "# Remove x axis name for the boxplots\n",
    "ax_box1.set(xlabel='')\n",
    "ax_box2.set(xlabel='')\n",
    "\n",
    "plt.legend(title='', loc=2, labels=['Heart Disease', 'No HeartDisease'],bbox_to_anchor=(1.02, 1), borderaxespad=0.)\n",
    "plt.show()"
   ]
  },
  {
   "cell_type": "markdown",
   "id": "9a22eba0",
   "metadata": {
    "papermill": {
     "duration": 0.056836,
     "end_time": "2022-04-18T22:21:57.940053",
     "exception": false,
     "start_time": "2022-04-18T22:21:57.883217",
     "status": "completed"
    },
    "tags": []
   },
   "source": [
    "### Insights\n",
    "- People with Heart Disease are found to have a higher BMI than people with no Heart Disease"
   ]
  },
  {
   "cell_type": "code",
   "execution_count": 13,
   "id": "7da627e0",
   "metadata": {
    "_kg_hide-input": true,
    "execution": {
     "iopub.execute_input": "2022-04-18T22:21:58.057173Z",
     "iopub.status.busy": "2022-04-18T22:21:58.056543Z",
     "iopub.status.idle": "2022-04-18T22:21:58.912511Z",
     "shell.execute_reply": "2022-04-18T22:21:58.912991Z",
     "shell.execute_reply.started": "2022-04-18T22:07:12.504457Z"
    },
    "papermill": {
     "duration": 0.915876,
     "end_time": "2022-04-18T22:21:58.913155",
     "exception": false,
     "start_time": "2022-04-18T22:21:57.997279",
     "status": "completed"
    },
    "tags": []
   },
   "outputs": [
    {
     "data": {
      "image/png": "[encoded data removed]",
      "text/plain": [
       "<Figure size 1008x432 with 1 Axes>"
      ]
     },
     "metadata": {},
     "output_type": "display_data"
    }
   ],
   "source": [
    "fig, ax = plt.subplots(figsize = (14,6))\n",
    "sns.kdeplot(df[df[\"HeartDisease\"]=='Yes'][\"AgeCategory\"], alpha=1,shade = False, color=\"#ea4335\", label=\"HeartDisease\", ax = ax)\n",
    "sns.kdeplot(df[df[\"KidneyDisease\"]=='Yes'][\"AgeCategory\"], alpha=1,shade = False, color=\"#4285f4\", label=\"KidneyDisease\", ax = ax)\n",
    "sns.kdeplot(df[df[\"SkinCancer\"]=='Yes'][\"AgeCategory\"], alpha=1,shade = False, color=\"#fbbc05\", label=\"SkinCancer\", ax = ax)\n",
    "\n",
    "ax.set_xlabel(\"AgeCategory\")\n",
    "ax.set_ylabel(\"Frequency\")\n",
    "ax.legend(bbox_to_anchor=(1.02, 1), loc=2, borderaxespad=0.)\n",
    "plt.show()"
   ]
  },
  {
   "cell_type": "markdown",
   "id": "7b4e5c61",
   "metadata": {
    "papermill": {
     "duration": 0.0591,
     "end_time": "2022-04-18T22:21:59.030871",
     "exception": false,
     "start_time": "2022-04-18T22:21:58.971771",
     "status": "completed"
    },
    "tags": []
   },
   "source": [
    "### Insights\n",
    "- People found to have heart disease, skin cancer & kidney disease are mostly old people"
   ]
  },
  {
   "cell_type": "code",
   "execution_count": 14,
   "id": "5e1ad0f3",
   "metadata": {
    "_kg_hide-input": true,
    "execution": {
     "iopub.execute_input": "2022-04-18T22:21:59.228446Z",
     "iopub.status.busy": "2022-04-18T22:21:59.227200Z",
     "iopub.status.idle": "2022-04-18T22:22:00.792258Z",
     "shell.execute_reply": "2022-04-18T22:22:00.791721Z",
     "shell.execute_reply.started": "2022-04-18T22:07:15.476556Z"
    },
    "papermill": {
     "duration": 1.702894,
     "end_time": "2022-04-18T22:22:00.792412",
     "exception": false,
     "start_time": "2022-04-18T22:21:59.089518",
     "status": "completed"
    },
    "tags": []
   },
   "outputs": [
    {
     "data": {
      "image/png": "[encoded data removed]",
      "text/plain": [
       "<Figure size 936x360 with 1 Axes>"
      ]
     },
     "metadata": {},
     "output_type": "display_data"
    }
   ],
   "source": [
    "fig, ax = plt.subplots(figsize = (13,5))\n",
    "sns.kdeplot(df[df[\"HeartDisease\"]=='No'][\"SleepTime\"], alpha=0.5,shade = True, color=\"#4285f4\", label=\"No HeartDisease\", ax = ax)\n",
    "sns.kdeplot(df[df[\"HeartDisease\"]=='Yes'][\"SleepTime\"], alpha=0.5,shade = True, color=\"#ea4335\", label=\"HeartDisease\", ax = ax)\n",
    "ax.set_xlabel(\"SleepTime\")\n",
    "ax.set_ylabel(\"Frequency\")\n",
    "ax.legend(bbox_to_anchor=(1.02, 1), loc=2, borderaxespad=0.)\n",
    "plt.show()"
   ]
  },
  {
   "cell_type": "code",
   "execution_count": 15,
   "id": "3df6edb3",
   "metadata": {
    "_kg_hide-input": true,
    "execution": {
     "iopub.execute_input": "2022-04-18T22:22:00.936897Z",
     "iopub.status.busy": "2022-04-18T22:22:00.935642Z",
     "iopub.status.idle": "2022-04-18T22:22:02.648658Z",
     "shell.execute_reply": "2022-04-18T22:22:02.648065Z",
     "shell.execute_reply.started": "2022-04-18T22:07:18.750311Z"
    },
    "papermill": {
     "duration": 1.796282,
     "end_time": "2022-04-18T22:22:02.648804",
     "exception": false,
     "start_time": "2022-04-18T22:22:00.852522",
     "status": "completed"
    },
    "tags": []
   },
   "outputs": [
    {
     "data": {
      "image/png": "[encoded data removed]",
      "text/plain": [
       "<Figure size 936x360 with 1 Axes>"
      ]
     },
     "metadata": {},
     "output_type": "display_data"
    }
   ],
   "source": [
    "fig, ax = plt.subplots(figsize = (13,5))\n",
    "sns.kdeplot(df[df[\"HeartDisease\"]=='No'][\"MentalHealth\"], alpha=0.5,shade = True, color=\"#4285f4\", label=\"No HeartDisease\", ax = ax)\n",
    "sns.kdeplot(df[df[\"HeartDisease\"]=='Yes'][\"MentalHealth\"], alpha=0.5,shade = True, color=\"#ea4335\", label=\"HeartDisease\", ax = ax)\n",
    "ax.set_xlabel(\"MentalHealth\")\n",
    "ax.set_ylabel(\"Frequency\")\n",
    "ax.legend(bbox_to_anchor=(1.02, 1), loc=2, borderaxespad=0.)\n",
    "plt.show()"
   ]
  },
  {
   "cell_type": "code",
   "execution_count": 16,
   "id": "93d36a50",
   "metadata": {
    "_kg_hide-input": true,
    "execution": {
     "iopub.execute_input": "2022-04-18T22:22:02.795921Z",
     "iopub.status.busy": "2022-04-18T22:22:02.795191Z",
     "iopub.status.idle": "2022-04-18T22:22:04.537967Z",
     "shell.execute_reply": "2022-04-18T22:22:04.538492Z",
     "shell.execute_reply.started": "2022-04-18T22:07:21.837144Z"
    },
    "papermill": {
     "duration": 1.827158,
     "end_time": "2022-04-18T22:22:04.538667",
     "exception": false,
     "start_time": "2022-04-18T22:22:02.711509",
     "status": "completed"
    },
    "tags": []
   },
   "outputs": [
    {
     "data": {
      "image/png": "[encoded data removed]",
      "text/plain": [
       "<Figure size 936x360 with 1 Axes>"
      ]
     },
     "metadata": {},
     "output_type": "display_data"
    }
   ],
   "source": [
    "fig, ax = plt.subplots(figsize = (13,5))\n",
    "sns.kdeplot(df[df[\"HeartDisease\"]=='No'][\"PhysicalHealth\"], alpha=0.5,shade = True, color=\"#4285f4\", label=\"No HeartDisease\", ax = ax)\n",
    "sns.kdeplot(df[df[\"HeartDisease\"]=='Yes'][\"PhysicalHealth\"], alpha=0.5,shade = True, color=\"#ea4335\", label=\"HeartDisease\", ax = ax)\n",
    "ax.set_xlabel(\"PhysicalHealth\")\n",
    "ax.set_ylabel(\"Frequency\")\n",
    "ax.legend(bbox_to_anchor=(1.02, 1), loc=2, borderaxespad=0.)\n",
    "plt.show()"
   ]
  },
  {
   "cell_type": "markdown",
   "id": "62b5b46b",
   "metadata": {
    "papermill": {
     "duration": 0.062149,
     "end_time": "2022-04-18T22:22:04.666065",
     "exception": false,
     "start_time": "2022-04-18T22:22:04.603916",
     "status": "completed"
    },
    "tags": []
   },
   "source": [
    "<h2>3.2 <span style='color:#0386f7de'>|</span> Visualization of Categorical Data</h2>"
   ]
  },
  {
   "cell_type": "code",
   "execution_count": 17,
   "id": "da555c16",
   "metadata": {
    "_kg_hide-input": true,
    "execution": {
     "iopub.execute_input": "2022-04-18T22:22:04.813661Z",
     "iopub.status.busy": "2022-04-18T22:22:04.812537Z",
     "iopub.status.idle": "2022-04-18T22:22:05.276266Z",
     "shell.execute_reply": "2022-04-18T22:22:05.275663Z",
     "shell.execute_reply.started": "2022-04-18T22:07:25.532540Z"
    },
    "papermill": {
     "duration": 0.547648,
     "end_time": "2022-04-18T22:22:05.276434",
     "exception": false,
     "start_time": "2022-04-18T22:22:04.728786",
     "status": "completed"
    },
    "tags": []
   },
   "outputs": [
    {
     "data": {
      "text/plain": [
       "<matplotlib.legend.Legend at 0x161b751a580>"
      ]
     },
     "execution_count": 17,
     "metadata": {},
     "output_type": "execute_result"
    },
    {
     "data": {
      "image/png": "[encoded data removed]",
      "text/plain": [
       "<Figure size 720x432 with 1 Axes>"
      ]
     },
     "metadata": {},
     "output_type": "display_data"
    }
   ],
   "source": [
    "fig, ax = plt.subplots(figsize = (10,6))\n",
    "\n",
    "ax.hist(df[df[\"HeartDisease\"]=='No'][\"Sex\"], bins=3, alpha=0.8, color=\"#4285f4\", label=\"No HeartDisease\")\n",
    "ax.hist(df[df[\"HeartDisease\"]=='Yes'][\"Sex\"], bins=3, alpha=1, color=\"#ea4335\", label=\"HeartDisease\")\n",
    "\n",
    "ax.set_xlabel(\"Sex\")\n",
    "ax.set_ylabel(\"Frequency\")\n",
    "\n",
    "ax.legend(bbox_to_anchor=(1.02, 1), loc=2, borderaxespad=0.)"
   ]
  },
  {
   "cell_type": "code",
   "execution_count": 18,
   "id": "286eff1c",
   "metadata": {
    "_kg_hide-input": true,
    "execution": {
     "iopub.execute_input": "2022-04-18T22:22:05.507575Z",
     "iopub.status.busy": "2022-04-18T22:22:05.506875Z",
     "iopub.status.idle": "2022-04-18T22:22:05.776157Z",
     "shell.execute_reply": "2022-04-18T22:22:05.775385Z",
     "shell.execute_reply.started": "2022-04-18T22:07:27.508403Z"
    },
    "papermill": {
     "duration": 0.435949,
     "end_time": "2022-04-18T22:22:05.776379",
     "exception": false,
     "start_time": "2022-04-18T22:22:05.340430",
     "status": "completed"
    },
    "tags": []
   },
   "outputs": [
    {
     "name": "stdout",
     "output_type": "stream",
     "text": [
      "Probability of Male to have Heart disease: 0.10618461740904007\n",
      "Probability of Female to have Heart disease: 0.06694675367241738\n"
     ]
    }
   ],
   "source": [
    "female_with_heart_disease = len(df[(df['HeartDisease']=='Yes') & (df['Sex']=='Female')])\n",
    "num_female = len(df[df['Sex']=='Female'])\n",
    "male_with_heart_disease = len(df[(df['HeartDisease']=='Yes') & (df['Sex']=='Male')])\n",
    "num_male = len(df[df['Sex']=='Male'])\n",
    "print('Probability of Male to have Heart disease:', male_with_heart_disease/num_male)\n",
    "print('Probability of Female to have Heart disease:', female_with_heart_disease/num_female)"
   ]
  },
  {
   "cell_type": "markdown",
   "id": "f290f9a8",
   "metadata": {
    "papermill": {
     "duration": 0.065703,
     "end_time": "2022-04-18T22:22:05.907506",
     "exception": false,
     "start_time": "2022-04-18T22:22:05.841803",
     "status": "completed"
    },
    "tags": []
   },
   "source": [
    "### Insights\n",
    "- Most heart disease patients are Male than Females\n",
    "- More Females were tested than males\n",
    "- Males are approximately 1.6 times more likely to have heart disease than females"
   ]
  },
  {
   "cell_type": "code",
   "execution_count": 19,
   "id": "c5dabac2",
   "metadata": {
    "_kg_hide-input": true,
    "execution": {
     "iopub.execute_input": "2022-04-18T22:22:06.046787Z",
     "iopub.status.busy": "2022-04-18T22:22:06.046061Z",
     "iopub.status.idle": "2022-04-18T22:22:06.507334Z",
     "shell.execute_reply": "2022-04-18T22:22:06.507833Z",
     "shell.execute_reply.started": "2022-04-18T22:07:29.198127Z"
    },
    "papermill": {
     "duration": 0.535374,
     "end_time": "2022-04-18T22:22:06.508005",
     "exception": false,
     "start_time": "2022-04-18T22:22:05.972631",
     "status": "completed"
    },
    "tags": []
   },
   "outputs": [
    {
     "data": {
      "text/plain": [
       "<matplotlib.legend.Legend at 0x161b7990c10>"
      ]
     },
     "execution_count": 19,
     "metadata": {},
     "output_type": "execute_result"
    },
    {
     "data": {
      "image/png": "[encoded data removed]",
      "text/plain": [
       "<Figure size 720x432 with 1 Axes>"
      ]
     },
     "metadata": {},
     "output_type": "display_data"
    }
   ],
   "source": [
    "fig, ax = plt.subplots(figsize = (10,6))\n",
    "\n",
    "ax.hist(df[df[\"HeartDisease\"]=='No'][\"Smoking\"], bins=3, alpha=0.8, color=\"#4285f4\", label=\"No HeartDisease\")\n",
    "ax.hist(df[df[\"HeartDisease\"]=='Yes'][\"Smoking\"], bins=3, alpha=1, color=\"#ea4335\", label=\"HeartDisease\")\n",
    "\n",
    "ax.set_xlabel(\"Smoking\")\n",
    "ax.set_ylabel(\"Frequency\")\n",
    "\n",
    "ax.legend(bbox_to_anchor=(1.02, 1), loc=2, borderaxespad=0.)"
   ]
  },
  {
   "cell_type": "code",
   "execution_count": 20,
   "id": "d8b02ffd",
   "metadata": {
    "_kg_hide-input": true,
    "execution": {
     "iopub.execute_input": "2022-04-18T22:22:06.642987Z",
     "iopub.status.busy": "2022-04-18T22:22:06.641981Z",
     "iopub.status.idle": "2022-04-18T22:22:07.002579Z",
     "shell.execute_reply": "2022-04-18T22:22:07.003308Z",
     "shell.execute_reply.started": "2022-04-18T22:07:31.347927Z"
    },
    "papermill": {
     "duration": 0.430084,
     "end_time": "2022-04-18T22:22:07.003570",
     "exception": false,
     "start_time": "2022-04-18T22:22:06.573486",
     "status": "completed"
    },
    "tags": []
   },
   "outputs": [
    {
     "name": "stdout",
     "output_type": "stream",
     "text": [
      "Probability of Heart disease if you smoke: 0.12157715983867544\n",
      "Probability of Heart disease if you don't smoke: 0.0603341370078824\n"
     ]
    }
   ],
   "source": [
    "smoke_and_heart_disease = len(df[(df['HeartDisease']=='Yes') & (df['Smoking']=='Yes')])\n",
    "num_smoke = len(df[df['Smoking']=='Yes'])\n",
    "no_smoke_and_heart_disease = len(df[(df['HeartDisease']=='Yes') & (df['Smoking']=='No')])\n",
    "num_no_smoke = len(df[df['Smoking']=='No'])\n",
    "print('Probability of Heart disease if you smoke:', smoke_and_heart_disease/num_smoke)\n",
    "print(\"Probability of Heart disease if you don't smoke:\", no_smoke_and_heart_disease/num_no_smoke)"
   ]
  },
  {
   "cell_type": "markdown",
   "id": "df4f9527",
   "metadata": {
    "papermill": {
     "duration": 0.068031,
     "end_time": "2022-04-18T22:22:07.139550",
     "exception": false,
     "start_time": "2022-04-18T22:22:07.071519",
     "status": "completed"
    },
    "tags": []
   },
   "source": [
    "### Insights\n",
    "- Most heart disease patients smoke\n",
    "- People who smoke are approximately twice as likely to have heart disease than people who don't smoke"
   ]
  },
  {
   "cell_type": "code",
   "execution_count": 21,
   "id": "32e6b7c6",
   "metadata": {
    "_kg_hide-input": true,
    "execution": {
     "iopub.execute_input": "2022-04-18T22:22:07.283737Z",
     "iopub.status.busy": "2022-04-18T22:22:07.282959Z",
     "iopub.status.idle": "2022-04-18T22:22:07.973304Z",
     "shell.execute_reply": "2022-04-18T22:22:07.972771Z",
     "shell.execute_reply.started": "2022-04-18T22:07:33.063014Z"
    },
    "papermill": {
     "duration": 0.766041,
     "end_time": "2022-04-18T22:22:07.973448",
     "exception": false,
     "start_time": "2022-04-18T22:22:07.207407",
     "status": "completed"
    },
    "tags": []
   },
   "outputs": [
    {
     "data": {
      "text/plain": [
       "<matplotlib.legend.Legend at 0x161b79e5190>"
      ]
     },
     "execution_count": 21,
     "metadata": {},
     "output_type": "execute_result"
    },
    {
     "data": {
      "image/png": "[encoded data removed]",
      "text/plain": [
       "<Figure size 1008x432 with 1 Axes>"
      ]
     },
     "metadata": {},
     "output_type": "display_data"
    }
   ],
   "source": [
    "fig, ax = plt.subplots(figsize = (14,6))\n",
    "\n",
    "ax.hist(df[df[\"HeartDisease\"]=='No'][\"Race\"], bins=15, alpha=0.8, color=\"#4285f4\", label=\"No HeartDisease\")\n",
    "ax.hist(df[df[\"HeartDisease\"]=='Yes'][\"Race\"], bins=15, alpha=1, color=\"#ea4335\", label=\"HeartDisease\")\n",
    "\n",
    "ax.set_xlabel(\"Race\")\n",
    "ax.set_ylabel(\"Frequency\")\n",
    "\n",
    "ax.legend(bbox_to_anchor=(1.02, 1), loc=2, borderaxespad=0.)"
   ]
  },
  {
   "cell_type": "markdown",
   "id": "ae1cada3",
   "metadata": {
    "papermill": {
     "duration": 0.067783,
     "end_time": "2022-04-18T22:22:08.109857",
     "exception": false,
     "start_time": "2022-04-18T22:22:08.042074",
     "status": "completed"
    },
    "tags": []
   },
   "source": [
    "### Insights\n",
    "- Most Heart Disease Patients are White people"
   ]
  },
  {
   "cell_type": "code",
   "execution_count": 22,
   "id": "1816ab64",
   "metadata": {
    "_kg_hide-input": true,
    "execution": {
     "iopub.execute_input": "2022-04-18T22:22:08.268094Z",
     "iopub.status.busy": "2022-04-18T22:22:08.267387Z",
     "iopub.status.idle": "2022-04-18T22:22:08.808159Z",
     "shell.execute_reply": "2022-04-18T22:22:08.808680Z",
     "shell.execute_reply.started": "2022-04-18T22:07:35.934195Z"
    },
    "papermill": {
     "duration": 0.630188,
     "end_time": "2022-04-18T22:22:08.808879",
     "exception": false,
     "start_time": "2022-04-18T22:22:08.178691",
     "status": "completed"
    },
    "tags": []
   },
   "outputs": [
    {
     "data": {
      "text/plain": [
       "<matplotlib.legend.Legend at 0x161b7a50ac0>"
      ]
     },
     "execution_count": 22,
     "metadata": {},
     "output_type": "execute_result"
    },
    {
     "data": {
      "image/png": "[encoded data removed]",
      "text/plain": [
       "<Figure size 720x432 with 1 Axes>"
      ]
     },
     "metadata": {},
     "output_type": "display_data"
    }
   ],
   "source": [
    "fig, ax = plt.subplots(figsize = (10,6))\n",
    "\n",
    "ax.hist(df[df[\"HeartDisease\"]=='No'][\"GenHealth\"], bins=10, alpha=0.8, color=\"#4285f4\", label=\"No HeartDisease\")\n",
    "ax.hist(df[df[\"HeartDisease\"]=='Yes'][\"GenHealth\"], bins=10, alpha=1, color=\"#ea4335\", label=\"HeartDisease\")\n",
    "\n",
    "ax.set_xlabel(\"GenHealth\")\n",
    "ax.set_ylabel(\"Frequency\")\n",
    "\n",
    "ax.legend(bbox_to_anchor=(1.02, 1), loc=2, borderaxespad=0.)"
   ]
  },
  {
   "cell_type": "code",
   "execution_count": 23,
   "id": "f65e8809",
   "metadata": {
    "_kg_hide-input": true,
    "execution": {
     "iopub.execute_input": "2022-04-18T22:22:09.024048Z",
     "iopub.status.busy": "2022-04-18T22:22:08.969893Z",
     "iopub.status.idle": "2022-04-18T22:22:09.405913Z",
     "shell.execute_reply": "2022-04-18T22:22:09.405390Z",
     "shell.execute_reply.started": "2022-04-18T22:07:38.099891Z"
    },
    "papermill": {
     "duration": 0.528026,
     "end_time": "2022-04-18T22:22:09.406047",
     "exception": false,
     "start_time": "2022-04-18T22:22:08.878021",
     "status": "completed"
    },
    "tags": []
   },
   "outputs": [
    {
     "data": {
      "text/plain": [
       "<matplotlib.legend.Legend at 0x161b7aaedc0>"
      ]
     },
     "execution_count": 23,
     "metadata": {},
     "output_type": "execute_result"
    },
    {
     "data": {
      "image/png": "[encoded data removed]",
      "text/plain": [
       "<Figure size 720x432 with 1 Axes>"
      ]
     },
     "metadata": {},
     "output_type": "display_data"
    }
   ],
   "source": [
    "fig, ax = plt.subplots(figsize = (10,6))\n",
    "\n",
    "ax.hist(df[df[\"HeartDisease\"]=='No'][\"KidneyDisease\"], bins=3, alpha=0.8, color=\"#4285f4\", label=\"No HeartDisease\")\n",
    "ax.hist(df[df[\"HeartDisease\"]=='Yes'][\"KidneyDisease\"], bins=3, alpha=1, color=\"#ea4335\", label=\"HeartDisease\")\n",
    "\n",
    "ax.set_xlabel(\"KidneyDisease\")\n",
    "ax.set_ylabel(\"Frequency\")\n",
    "\n",
    "ax.legend(bbox_to_anchor=(1.02, 1), loc=2, borderaxespad=0.)"
   ]
  },
  {
   "cell_type": "markdown",
   "id": "e814f95f",
   "metadata": {
    "papermill": {
     "duration": 0.070489,
     "end_time": "2022-04-18T22:22:09.547126",
     "exception": false,
     "start_time": "2022-04-18T22:22:09.476637",
     "status": "completed"
    },
    "tags": []
   },
   "source": [
    "### Insights\n",
    "- Most of the people tested have no kidney disease"
   ]
  },
  {
   "cell_type": "code",
   "execution_count": 24,
   "id": "ea816265",
   "metadata": {
    "_kg_hide-input": true,
    "execution": {
     "iopub.execute_input": "2022-04-18T22:22:09.768545Z",
     "iopub.status.busy": "2022-04-18T22:22:09.711019Z",
     "iopub.status.idle": "2022-04-18T22:22:10.153471Z",
     "shell.execute_reply": "2022-04-18T22:22:10.153922Z",
     "shell.execute_reply.started": "2022-04-18T22:07:40.031467Z"
    },
    "papermill": {
     "duration": 0.535745,
     "end_time": "2022-04-18T22:22:10.154098",
     "exception": false,
     "start_time": "2022-04-18T22:22:09.618353",
     "status": "completed"
    },
    "tags": []
   },
   "outputs": [
    {
     "data": {
      "text/plain": [
       "<matplotlib.legend.Legend at 0x161b7c2c370>"
      ]
     },
     "execution_count": 24,
     "metadata": {},
     "output_type": "execute_result"
    },
    {
     "data": {
      "image/png": "[encoded data removed]",
      "text/plain": [
       "<Figure size 720x432 with 1 Axes>"
      ]
     },
     "metadata": {},
     "output_type": "display_data"
    }
   ],
   "source": [
    "fig, ax = plt.subplots(figsize = (10,6))\n",
    "\n",
    "ax.hist(df[df[\"HeartDisease\"]=='No'][\"SkinCancer\"], bins=3, alpha=0.8, color=\"#4285f4\", label=\"No HeartDisease\")\n",
    "ax.hist(df[df[\"HeartDisease\"]=='Yes'][\"SkinCancer\"], bins=3, alpha=1, color=\"#ea4335\", label=\"HeartDisease\")\n",
    "\n",
    "ax.set_xlabel(\"SkinCancer\")\n",
    "ax.set_ylabel(\"Frequency\")\n",
    "\n",
    "ax.legend(bbox_to_anchor=(1.02, 1), loc=2, borderaxespad=0.)"
   ]
  },
  {
   "cell_type": "code",
   "execution_count": 25,
   "id": "032fc287",
   "metadata": {
    "_kg_hide-input": true,
    "execution": {
     "iopub.execute_input": "2022-04-18T22:22:10.302352Z",
     "iopub.status.busy": "2022-04-18T22:22:10.301240Z",
     "iopub.status.idle": "2022-04-18T22:22:10.755023Z",
     "shell.execute_reply": "2022-04-18T22:22:10.755601Z",
     "shell.execute_reply.started": "2022-04-18T22:07:42.012435Z"
    },
    "papermill": {
     "duration": 0.529581,
     "end_time": "2022-04-18T22:22:10.755772",
     "exception": false,
     "start_time": "2022-04-18T22:22:10.226191",
     "status": "completed"
    },
    "tags": []
   },
   "outputs": [
    {
     "data": {
      "text/plain": [
       "<matplotlib.legend.Legend at 0x161b7c6e700>"
      ]
     },
     "execution_count": 25,
     "metadata": {},
     "output_type": "execute_result"
    },
    {
     "data": {
      "image/png": "[encoded data removed]",
      "text/plain": [
       "<Figure size 720x432 with 1 Axes>"
      ]
     },
     "metadata": {},
     "output_type": "display_data"
    }
   ],
   "source": [
    "fig, ax = plt.subplots(figsize = (10,6))\n",
    "\n",
    "ax.hist(df[df[\"HeartDisease\"]=='No'][\"Stroke\"], bins=3, alpha=0.8, color=\"#4285f4\", label=\"No HeartDisease\")\n",
    "ax.hist(df[df[\"HeartDisease\"]=='Yes'][\"Stroke\"], bins=3, alpha=1, color=\"#ea4335\", label=\"HeartDisease\")\n",
    "\n",
    "ax.set_xlabel(\"Stroke\")\n",
    "ax.set_ylabel(\"Frequency\")\n",
    "\n",
    "ax.legend(bbox_to_anchor=(1.02, 1), loc=2, borderaxespad=0.)"
   ]
  },
  {
   "cell_type": "code",
   "execution_count": 26,
   "id": "abbb855c",
   "metadata": {
    "_kg_hide-input": true,
    "execution": {
     "iopub.execute_input": "2022-04-18T22:22:10.906833Z",
     "iopub.status.busy": "2022-04-18T22:22:10.905792Z",
     "iopub.status.idle": "2022-04-18T22:22:11.399657Z",
     "shell.execute_reply": "2022-04-18T22:22:11.400181Z",
     "shell.execute_reply.started": "2022-04-18T22:07:44.167289Z"
    },
    "papermill": {
     "duration": 0.57128,
     "end_time": "2022-04-18T22:22:11.400370",
     "exception": false,
     "start_time": "2022-04-18T22:22:10.829090",
     "status": "completed"
    },
    "tags": []
   },
   "outputs": [
    {
     "data": {
      "text/plain": [
       "<matplotlib.legend.Legend at 0x161b804fbe0>"
      ]
     },
     "execution_count": 26,
     "metadata": {},
     "output_type": "execute_result"
    },
    {
     "data": {
      "image/png": "[encoded data removed]",
      "text/plain": [
       "<Figure size 720x432 with 1 Axes>"
      ]
     },
     "metadata": {},
     "output_type": "display_data"
    }
   ],
   "source": [
    "fig, ax = plt.subplots(figsize = (10,6))\n",
    "\n",
    "ax.hist(df[df[\"HeartDisease\"]=='No'][\"Diabetic\"], bins=7, alpha=0.8, color=\"#4285f4\", label=\"No HeartDisease\")\n",
    "ax.hist(df[df[\"HeartDisease\"]=='Yes'][\"Diabetic\"], bins=7, alpha=1, color=\"#ea4335\", label=\"HeartDisease\")\n",
    "\n",
    "ax.set_xlabel(\"Diabetic\")\n",
    "ax.set_ylabel(\"Frequency\")\n",
    "\n",
    "ax.legend(bbox_to_anchor=(1.02, 1), loc=2, borderaxespad=0.)"
   ]
  },
  {
   "cell_type": "code",
   "execution_count": 27,
   "id": "ccd49e69",
   "metadata": {
    "_kg_hide-input": true,
    "execution": {
     "iopub.execute_input": "2022-04-18T22:22:11.632494Z",
     "iopub.status.busy": "2022-04-18T22:22:11.631374Z",
     "iopub.status.idle": "2022-04-18T22:22:12.069317Z",
     "shell.execute_reply": "2022-04-18T22:22:12.068663Z",
     "shell.execute_reply.started": "2022-04-18T22:07:46.039692Z"
    },
    "papermill": {
     "duration": 0.593821,
     "end_time": "2022-04-18T22:22:12.069461",
     "exception": false,
     "start_time": "2022-04-18T22:22:11.475640",
     "status": "completed"
    },
    "tags": []
   },
   "outputs": [
    {
     "data": {
      "text/plain": [
       "<matplotlib.legend.Legend at 0x161b86dc670>"
      ]
     },
     "execution_count": 27,
     "metadata": {},
     "output_type": "execute_result"
    },
    {
     "data": {
      "image/png": "[encoded data removed]",
      "text/plain": [
       "<Figure size 720x432 with 1 Axes>"
      ]
     },
     "metadata": {},
     "output_type": "display_data"
    }
   ],
   "source": [
    "fig, ax = plt.subplots(figsize = (10,6))\n",
    "\n",
    "ax.hist(df[df[\"HeartDisease\"]=='No'][\"Asthma\"], bins=3, alpha=0.8, color=\"#4285f4\", label=\"No HeartDisease\")\n",
    "ax.hist(df[df[\"HeartDisease\"]=='Yes'][\"Asthma\"], bins=3, alpha=1, color=\"#ea4335\", label=\"HeartDisease\")\n",
    "\n",
    "ax.set_xlabel(\"Asthma\")\n",
    "ax.set_ylabel(\"Frequency\")\n",
    "\n",
    "ax.legend(bbox_to_anchor=(1.02, 1), loc=2, borderaxespad=0.)"
   ]
  },
  {
   "cell_type": "code",
   "execution_count": 28,
   "id": "6de8aac8",
   "metadata": {
    "_kg_hide-input": true,
    "execution": {
     "iopub.execute_input": "2022-04-18T22:22:12.244049Z",
     "iopub.status.busy": "2022-04-18T22:22:12.226125Z",
     "iopub.status.idle": "2022-04-18T22:22:12.741346Z",
     "shell.execute_reply": "2022-04-18T22:22:12.740783Z",
     "shell.execute_reply.started": "2022-04-18T22:07:48.124354Z"
    },
    "papermill": {
     "duration": 0.595302,
     "end_time": "2022-04-18T22:22:12.741509",
     "exception": false,
     "start_time": "2022-04-18T22:22:12.146207",
     "status": "completed"
    },
    "tags": []
   },
   "outputs": [
    {
     "data": {
      "text/plain": [
       "<matplotlib.legend.Legend at 0x161b8764220>"
      ]
     },
     "execution_count": 28,
     "metadata": {},
     "output_type": "execute_result"
    },
    {
     "data": {
      "image/png": "[encoded data removed]",
      "text/plain": [
       "<Figure size 720x432 with 1 Axes>"
      ]
     },
     "metadata": {},
     "output_type": "display_data"
    }
   ],
   "source": [
    "fig, ax = plt.subplots(figsize = (10,6))\n",
    "\n",
    "ax.hist(df[df[\"HeartDisease\"]=='No'][\"DiffWalking\"], bins=3, alpha=0.8, color=\"#4285f4\", label=\"No HeartDisease\")\n",
    "ax.hist(df[df[\"HeartDisease\"]=='Yes'][\"DiffWalking\"], bins=3, alpha=1, color=\"#ea4335\", label=\"HeartDisease\")\n",
    "\n",
    "ax.set_xlabel(\"DiffWalking\")\n",
    "ax.set_ylabel(\"Frequency\")\n",
    "\n",
    "ax.legend(bbox_to_anchor=(1.02, 1), loc=2, borderaxespad=0.)"
   ]
  },
  {
   "cell_type": "code",
   "execution_count": 29,
   "id": "c768f9af",
   "metadata": {
    "_kg_hide-input": true,
    "execution": {
     "iopub.execute_input": "2022-04-18T22:22:12.902999Z",
     "iopub.status.busy": "2022-04-18T22:22:12.901980Z",
     "iopub.status.idle": "2022-04-18T22:22:13.401562Z",
     "shell.execute_reply": "2022-04-18T22:22:13.402041Z",
     "shell.execute_reply.started": "2022-04-18T22:07:50.043450Z"
    },
    "papermill": {
     "duration": 0.581448,
     "end_time": "2022-04-18T22:22:13.402230",
     "exception": false,
     "start_time": "2022-04-18T22:22:12.820782",
     "status": "completed"
    },
    "tags": []
   },
   "outputs": [
    {
     "data": {
      "text/plain": [
       "<matplotlib.legend.Legend at 0x161b87c5700>"
      ]
     },
     "execution_count": 29,
     "metadata": {},
     "output_type": "execute_result"
    },
    {
     "data": {
      "image/png": "[encoded data removed]",
      "text/plain": [
       "<Figure size 720x432 with 1 Axes>"
      ]
     },
     "metadata": {},
     "output_type": "display_data"
    }
   ],
   "source": [
    "fig, ax = plt.subplots(figsize = (10,6))\n",
    "\n",
    "ax.hist(df[df[\"HeartDisease\"]=='No'][\"PhysicalActivity\"], bins=3, alpha=0.8, color=\"#4285f4\", label=\"No HeartDisease\")\n",
    "ax.hist(df[df[\"HeartDisease\"]=='Yes'][\"PhysicalActivity\"], bins=3, alpha=1, color=\"#ea4335\", label=\"HeartDisease\")\n",
    "\n",
    "ax.set_xlabel(\"PhysicalActivity\")\n",
    "ax.set_ylabel(\"Frequency\")\n",
    "\n",
    "ax.legend(bbox_to_anchor=(1.02, 1), loc=2, borderaxespad=0.)"
   ]
  },
  {
   "cell_type": "code",
   "execution_count": 30,
   "id": "a352f57e",
   "metadata": {
    "_kg_hide-input": true,
    "execution": {
     "iopub.execute_input": "2022-04-18T22:22:13.567589Z",
     "iopub.status.busy": "2022-04-18T22:22:13.566552Z",
     "iopub.status.idle": "2022-04-18T22:22:14.073502Z",
     "shell.execute_reply": "2022-04-18T22:22:14.073961Z",
     "shell.execute_reply.started": "2022-04-18T22:07:51.978262Z"
    },
    "papermill": {
     "duration": 0.593559,
     "end_time": "2022-04-18T22:22:14.074177",
     "exception": false,
     "start_time": "2022-04-18T22:22:13.480618",
     "status": "completed"
    },
    "tags": []
   },
   "outputs": [
    {
     "data": {
      "text/plain": [
       "<matplotlib.legend.Legend at 0x161b8948640>"
      ]
     },
     "execution_count": 30,
     "metadata": {},
     "output_type": "execute_result"
    },
    {
     "data": {
      "image/png": "[encoded data removed]",
      "text/plain": [
       "<Figure size 720x432 with 1 Axes>"
      ]
     },
     "metadata": {},
     "output_type": "display_data"
    }
   ],
   "source": [
    "fig, ax = plt.subplots(figsize = (10,6))\n",
    "\n",
    "ax.hist(df[df[\"HeartDisease\"]=='No'][\"AlcoholDrinking\"], bins=3, alpha=0.8, color=\"#4285f4\", label=\"No HeartDisease\")\n",
    "ax.hist(df[df[\"HeartDisease\"]=='Yes'][\"AlcoholDrinking\"], bins=3, alpha=1, color=\"#ea4335\", label=\"HeartDisease\")\n",
    "\n",
    "ax.set_xlabel(\"AlcoholDrinking\")\n",
    "ax.set_ylabel(\"Frequency\")\n",
    "\n",
    "ax.legend(bbox_to_anchor=(1.02, 1), loc=2, borderaxespad=0.)"
   ]
  },
  {
   "cell_type": "markdown",
   "id": "e4979c79",
   "metadata": {
    "papermill": {
     "duration": 0.08199,
     "end_time": "2022-04-18T22:22:14.237427",
     "exception": false,
     "start_time": "2022-04-18T22:22:14.155437",
     "status": "completed"
    },
    "tags": []
   },
   "source": [
    "# <b>4 <span style='color:#0386f7de'>|</span> Data Cleaning & Preprocessing</b>"
   ]
  },
  {
   "cell_type": "code",
   "execution_count": 31,
   "id": "3eb64384",
   "metadata": {
    "_kg_hide-input": true,
    "execution": {
     "iopub.execute_input": "2022-04-18T22:22:14.404047Z",
     "iopub.status.busy": "2022-04-18T22:22:14.402990Z",
     "iopub.status.idle": "2022-04-18T22:22:14.491558Z",
     "shell.execute_reply": "2022-04-18T22:22:14.490992Z",
     "shell.execute_reply.started": "2022-04-18T22:07:54.497181Z"
    },
    "papermill": {
     "duration": 0.17288,
     "end_time": "2022-04-18T22:22:14.491715",
     "exception": false,
     "start_time": "2022-04-18T22:22:14.318835",
     "status": "completed"
    },
    "tags": []
   },
   "outputs": [
    {
     "name": "stdout",
     "output_type": "stream",
     "text": [
      "Continuous Columns\n"
     ]
    },
    {
     "data": {
      "text/html": [
       "<style type=\"text/css\">\n",
       "#T_05554_row0_col0 {\n",
       "  background-color: #539ecd;\n",
       "  color: #f1f1f1;\n",
       "}\n",
       "#T_05554_row0_col1 {\n",
       "  background-color: #6fb0d7;\n",
       "  color: #f1f1f1;\n",
       "}\n",
       "#T_05554_row0_col2, #T_05554_row3_col0, #T_05554_row3_col1 {\n",
       "  background-color: #08306b;\n",
       "  color: #f1f1f1;\n",
       "}\n",
       "#T_05554_row1_col0, #T_05554_row1_col1, #T_05554_row2_col0, #T_05554_row4_col2 {\n",
       "  background-color: #f7fbff;\n",
       "  color: #000000;\n",
       "}\n",
       "#T_05554_row1_col2, #T_05554_row2_col2 {\n",
       "  background-color: #e7f0fa;\n",
       "  color: #000000;\n",
       "}\n",
       "#T_05554_row2_col1 {\n",
       "  background-color: #f5fafe;\n",
       "  color: #000000;\n",
       "}\n",
       "#T_05554_row3_col2 {\n",
       "  background-color: #1966ad;\n",
       "  color: #f1f1f1;\n",
       "}\n",
       "#T_05554_row4_col0 {\n",
       "  background-color: #eef5fc;\n",
       "  color: #000000;\n",
       "}\n",
       "#T_05554_row4_col1 {\n",
       "  background-color: #e9f2fa;\n",
       "  color: #000000;\n",
       "}\n",
       "</style>\n",
       "<table id=\"T_05554\">\n",
       "  <thead>\n",
       "    <tr>\n",
       "      <th class=\"blank level0\" >&nbsp;</th>\n",
       "      <th id=\"T_05554_level0_col0\" class=\"col_heading level0 col0\" >min</th>\n",
       "      <th id=\"T_05554_level0_col1\" class=\"col_heading level0 col1\" >mean</th>\n",
       "      <th id=\"T_05554_level0_col2\" class=\"col_heading level0 col2\" >max</th>\n",
       "    </tr>\n",
       "  </thead>\n",
       "  <tbody>\n",
       "    <tr>\n",
       "      <th id=\"T_05554_level0_row0\" class=\"row_heading level0 row0\" >BMI</th>\n",
       "      <td id=\"T_05554_row0_col0\" class=\"data row0 col0\" >12.020000</td>\n",
       "      <td id=\"T_05554_row0_col1\" class=\"data row0 col1\" >28.325399</td>\n",
       "      <td id=\"T_05554_row0_col2\" class=\"data row0 col2\" >94.850000</td>\n",
       "    </tr>\n",
       "    <tr>\n",
       "      <th id=\"T_05554_level0_row1\" class=\"row_heading level0 row1\" >PhysicalHealth</th>\n",
       "      <td id=\"T_05554_row1_col0\" class=\"data row1 col0\" >0.000000</td>\n",
       "      <td id=\"T_05554_row1_col1\" class=\"data row1 col1\" >3.371710</td>\n",
       "      <td id=\"T_05554_row1_col2\" class=\"data row1 col2\" >30.000000</td>\n",
       "    </tr>\n",
       "    <tr>\n",
       "      <th id=\"T_05554_level0_row2\" class=\"row_heading level0 row2\" >MentalHealth</th>\n",
       "      <td id=\"T_05554_row2_col0\" class=\"data row2 col0\" >0.000000</td>\n",
       "      <td id=\"T_05554_row2_col1\" class=\"data row2 col1\" >3.898366</td>\n",
       "      <td id=\"T_05554_row2_col2\" class=\"data row2 col2\" >30.000000</td>\n",
       "    </tr>\n",
       "    <tr>\n",
       "      <th id=\"T_05554_level0_row3\" class=\"row_heading level0 row3\" >AgeCategory</th>\n",
       "      <td id=\"T_05554_row3_col0\" class=\"data row3 col0\" >21.000000</td>\n",
       "      <td id=\"T_05554_row3_col1\" class=\"data row3 col1\" >54.355759</td>\n",
       "      <td id=\"T_05554_row3_col2\" class=\"data row3 col2\" >80.000000</td>\n",
       "    </tr>\n",
       "    <tr>\n",
       "      <th id=\"T_05554_level0_row4\" class=\"row_heading level0 row4\" >SleepTime</th>\n",
       "      <td id=\"T_05554_row4_col0\" class=\"data row4 col0\" >1.000000</td>\n",
       "      <td id=\"T_05554_row4_col1\" class=\"data row4 col1\" >7.097075</td>\n",
       "      <td id=\"T_05554_row4_col2\" class=\"data row4 col2\" >24.000000</td>\n",
       "    </tr>\n",
       "  </tbody>\n",
       "</table>\n"
      ],
      "text/plain": [
       "<pandas.io.formats.style.Styler at 0x161b8795d00>"
      ]
     },
     "execution_count": 31,
     "metadata": {},
     "output_type": "execute_result"
    }
   ],
   "source": [
    "print('Continuous Columns')\n",
    "df.select_dtypes(include=['float']).describe().T[['min', 'mean', 'max']].style.background_gradient(cmap='Blues')"
   ]
  },
  {
   "cell_type": "markdown",
   "id": "ff172b57",
   "metadata": {
    "papermill": {
     "duration": 0.08118,
     "end_time": "2022-04-18T22:22:14.660738",
     "exception": false,
     "start_time": "2022-04-18T22:22:14.579558",
     "status": "completed"
    },
    "tags": []
   },
   "source": [
    "The range of continuous features are different.  \n",
    "Here, I am scaling them to be in-between 0 to 1 by dividing by the maximum value of the respective column"
   ]
  },
  {
   "cell_type": "code",
   "execution_count": 32,
   "id": "e83cedff",
   "metadata": {
    "execution": {
     "iopub.execute_input": "2022-04-18T22:22:14.830694Z",
     "iopub.status.busy": "2022-04-18T22:22:14.830000Z",
     "iopub.status.idle": "2022-04-18T22:22:14.844368Z",
     "shell.execute_reply": "2022-04-18T22:22:14.844892Z",
     "shell.execute_reply.started": "2022-04-18T22:07:56.765859Z"
    },
    "papermill": {
     "duration": 0.098966,
     "end_time": "2022-04-18T22:22:14.845063",
     "exception": false,
     "start_time": "2022-04-18T22:22:14.746097",
     "status": "completed"
    },
    "tags": []
   },
   "outputs": [],
   "source": [
    "for col in ['BMI', 'PhysicalHealth', 'MentalHealth', 'AgeCategory', 'SleepTime']:\n",
    "    df[col] = df[col]/df[col].max()"
   ]
  },
  {
   "cell_type": "code",
   "execution_count": 33,
   "id": "eda9b185",
   "metadata": {
    "_kg_hide-input": true,
    "execution": {
     "iopub.execute_input": "2022-04-18T22:22:15.013811Z",
     "iopub.status.busy": "2022-04-18T22:22:15.013054Z",
     "iopub.status.idle": "2022-04-18T22:22:15.347845Z",
     "shell.execute_reply": "2022-04-18T22:22:15.347326Z",
     "shell.execute_reply.started": "2022-04-18T22:07:58.358085Z"
    },
    "papermill": {
     "duration": 0.419823,
     "end_time": "2022-04-18T22:22:15.347988",
     "exception": false,
     "start_time": "2022-04-18T22:22:14.928165",
     "status": "completed"
    },
    "tags": []
   },
   "outputs": [
    {
     "name": "stdout",
     "output_type": "stream",
     "text": [
      "\n",
      "Categorical Columns\n",
      "\n"
     ]
    },
    {
     "data": {
      "text/plain": [
       "HeartDisease        2\n",
       "Smoking             2\n",
       "AlcoholDrinking     2\n",
       "Stroke              2\n",
       "DiffWalking         2\n",
       "Sex                 2\n",
       "Race                6\n",
       "Diabetic            4\n",
       "PhysicalActivity    2\n",
       "GenHealth           5\n",
       "Asthma              2\n",
       "KidneyDisease       2\n",
       "SkinCancer          2\n",
       "dtype: int64"
      ]
     },
     "execution_count": 33,
     "metadata": {},
     "output_type": "execute_result"
    }
   ],
   "source": [
    "print('\\nCategorical Columns\\n')\n",
    "df.select_dtypes(include=['O']).nunique()"
   ]
  },
  {
   "cell_type": "markdown",
   "id": "188b6676",
   "metadata": {
    "papermill": {
     "duration": 0.082696,
     "end_time": "2022-04-18T22:22:15.514823",
     "exception": false,
     "start_time": "2022-04-18T22:22:15.432127",
     "status": "completed"
    },
    "tags": []
   },
   "source": [
    "Some `categorical` columns have 2 values, and some have more than 2 values.  \n",
    "Here, I will convert the columns with 2 unique values to binary (either 1 or 0)  \n",
    "And one-hot encode the other `categorical` columns which has more than 2 unique values  "
   ]
  },
  {
   "cell_type": "code",
   "execution_count": 34,
   "id": "07b6562b",
   "metadata": {
    "execution": {
     "iopub.execute_input": "2022-04-18T22:22:15.728345Z",
     "iopub.status.busy": "2022-04-18T22:22:15.717794Z",
     "iopub.status.idle": "2022-04-18T22:22:16.954749Z",
     "shell.execute_reply": "2022-04-18T22:22:16.954140Z",
     "shell.execute_reply.started": "2022-04-18T22:08:02.031936Z"
    },
    "papermill": {
     "duration": 1.357425,
     "end_time": "2022-04-18T22:22:16.954898",
     "exception": false,
     "start_time": "2022-04-18T22:22:15.597473",
     "status": "completed"
    },
    "tags": []
   },
   "outputs": [],
   "source": [
    "# Integer encode columns with 2 unique values\n",
    "for col in ['HeartDisease', 'Smoking', 'AlcoholDrinking', 'Stroke', 'DiffWalking', 'Sex', 'PhysicalActivity', 'Asthma', 'KidneyDisease', 'SkinCancer']:\n",
    "    if df[col].dtype == 'O':\n",
    "        le = LabelEncoder()\n",
    "        df[col] = le.fit_transform(df[col])\n",
    "# One-hot encode columns with more than 2 unique values\n",
    "df = pd.get_dummies(df, columns=['Race', 'Diabetic', 'GenHealth', ], prefix = ['Race', 'Diabetic', 'GenHealth'])"
   ]
  },
  {
   "cell_type": "markdown",
   "id": "0f2ac217",
   "metadata": {
    "papermill": {
     "duration": 0.082613,
     "end_time": "2022-04-18T22:22:17.118952",
     "exception": false,
     "start_time": "2022-04-18T22:22:17.036339",
     "status": "completed"
    },
    "tags": []
   },
   "source": [
    "<h2>Correlation Matrix</h2>"
   ]
  },
  {
   "cell_type": "code",
   "execution_count": 35,
   "id": "a91f4c3b",
   "metadata": {
    "execution": {
     "iopub.execute_input": "2022-04-18T22:22:17.292390Z",
     "iopub.status.busy": "2022-04-18T22:22:17.291666Z",
     "iopub.status.idle": "2022-04-18T22:22:18.266401Z",
     "shell.execute_reply": "2022-04-18T22:22:18.265867Z",
     "shell.execute_reply.started": "2022-04-18T22:08:05.860638Z"
    },
    "papermill": {
     "duration": 1.063562,
     "end_time": "2022-04-18T22:22:18.266548",
     "exception": false,
     "start_time": "2022-04-18T22:22:17.202986",
     "status": "completed"
    },
    "tags": []
   },
   "outputs": [
    {
     "data": {
      "application/vnd.plotly.v1+json": {
       "config": {
        "plotlyServerURL": "https://plot.ly"
       },
       "data": [
        {
         "coloraxis": "coloraxis",
         "hovertemplate": "x: %{x}<br>y: %{y}<br>color: %{z}<extra></extra>",
         "name": "0",
         "type": "heatmap",
         "x": [
          "HeartDisease",
          "Smoking",
          "AlcoholDrinking",
          "Stroke",
          "DiffWalking",
          "Sex",
          "PhysicalActivity",
          "Asthma",
          "KidneyDisease",
          "SkinCancer",
          "BMI",
          "PhysicalHealth",
          "MentalHealth",
          "AgeCategory",
          "SleepTime"
         ],
         "xaxis": "x",
         "y": [
          "HeartDisease",
          "Smoking",
          "AlcoholDrinking",
          "Stroke",
          "DiffWalking",
          "Sex",
          "PhysicalActivity",
          "Asthma",
          "KidneyDisease",
          "SkinCancer",
          "BMI",
          "PhysicalHealth",
          "MentalHealth",
          "AgeCategory",
          "SleepTime"
         ],
         "yaxis": "y",
         "z": [
          [
           1,
           0.10776415602593577,
           -0.03207974262500417,
           0.19683529884287068,
           0.2012580485737773,
           0.07004047624891856,
           -0.10002993385404217,
           0.04144415110032234,
           0.14519709877256354,
           0.09331687769597886,
           0.05180319065574589,
           0.1707209719661753,
           0.028590714546905302,
           0.23158320851970648,
           0.008326646858286093
          ],
          [
           0.10776415602593577,
           1,
           0.11176752021942088,
           0.06122603951647455,
           0.12007416384008394,
           0.08505248562950851,
           -0.0971737659539628,
           0.024148532018300563,
           0.03491968628492668,
           0.03397738727204867,
           0.02311811243270034,
           0.1153524139404747,
           0.08515728503775259,
           0.1306120821603677,
           -0.030335635088083682
          ],
          [
           -0.03207974262500417,
           0.11176752021942088,
           1,
           -0.01985791423814558,
           -0.03532758282688487,
           0.004200142395935715,
           0.01748698277743856,
           -0.0022021002378207716,
           -0.028280091717843844,
           -0.005702370452955972,
           -0.03881622302230272,
           -0.01725428832282563,
           0.0512819728218972,
           -0.058587008626551716,
           -0.00506545083386641
          ],
          [
           0.19683529884287068,
           0.06122603951647455,
           -0.01985791423814558,
           1,
           0.17414321368906785,
           -0.0030910549780765223,
           -0.0794551948440212,
           0.03886614032726421,
           0.09116684064825993,
           0.04811610449906195,
           0.019732982346395637,
           0.13701382711696813,
           0.046467061321632086,
           0.13673831258982225,
           0.01189998096058299
          ],
          [
           0.2012580485737773,
           0.12007416384008394,
           -0.03532758282688487,
           0.17414321368906785,
           1,
           -0.06885955945150612,
           -0.2785239644744156,
           0.10322204883284222,
           0.15306375213121043,
           0.06484040178427677,
           0.18167826388865732,
           0.4283727985461525,
           0.15223466914599132,
           0.2413276153382443,
           -0.022216357334953533
          ],
          [
           0.07004047624891856,
           0.08505248562950851,
           0.004200142395935715,
           -0.0030910549780765223,
           -0.06885955945150612,
           1,
           0.048246845809630415,
           -0.06919111638314385,
           -0.009083858389322482,
           0.01343379974373332,
           0.026939645259099483,
           -0.040903839313019365,
           -0.10005847280447244,
           -0.06700074478508969,
           -0.01570374828060869
          ],
          [
           -0.10002993385404217,
           -0.0971737659539628,
           0.01748698277743856,
           -0.0794551948440212,
           -0.2785239644744156,
           0.048246845809630415,
           1,
           -0.0415258817742273,
           -0.0818273214414323,
           -0.0013278104683075525,
           -0.15061599390258318,
           -0.23228317707681606,
           -0.09580810490226797,
           -0.12036867337825854,
           0.003848841379442122
          ],
          [
           0.04144415110032234,
           0.024148532018300563,
           -0.0022021002378207716,
           0.03886614032726421,
           0.10322204883284222,
           -0.06919111638314385,
           -0.0415258817742273,
           1,
           0.03970700033814702,
           -0.0003964769423400938,
           0.092345019006225,
           0.11790658022327909,
           0.1140081744247549,
           -0.05788658709501616,
           -0.04824528030804831
          ],
          [
           0.14519709877256354,
           0.03491968628492668,
           -0.028280091717843844,
           0.09116684064825993,
           0.15306375213121043,
           -0.009083858389322482,
           -0.0818273214414323,
           0.03970700033814702,
           1,
           0.06181621651419233,
           0.050767532862528414,
           0.1421971848382409,
           0.03728112808809446,
           0.12249331295148701,
           0.006237934101449502
          ],
          [
           0.09331687769597886,
           0.03397738727204867,
           -0.005702370452955972,
           0.04811610449906195,
           0.06484040178427677,
           0.01343379974373332,
           -0.0013278104683075525,
           -0.0003964769423400938,
           0.06181621651419233,
           1,
           -0.033643618515338786,
           0.0416996854817131,
           -0.033412190709220524,
           0.26139092150617554,
           0.041266167486529615
          ],
          [
           0.05180319065574589,
           0.02311811243270034,
           -0.03881622302230272,
           0.019732982346395637,
           0.18167826388865732,
           0.026939645259099483,
           -0.15061599390258318,
           0.092345019006225,
           0.050767532862528414,
           -0.033643618515338786,
           1,
           0.1097875436096874,
           0.06413056947152597,
           -0.0004463909346209674,
           -0.05182225399892374
          ],
          [
           0.1707209719661753,
           0.1153524139404747,
           -0.01725428832282563,
           0.13701382711696813,
           0.4283727985461525,
           -0.040903839313019365,
           -0.23228317707681606,
           0.11790658022327909,
           0.1421971848382409,
           0.0416996854817131,
           0.1097875436096874,
           1,
           0.2879866740873287,
           0.11100961741149926,
           -0.061386631929495
          ],
          [
           0.028590714546905302,
           0.08515728503775259,
           0.0512819728218972,
           0.046467061321632086,
           0.15223466914599132,
           -0.10005847280447244,
           -0.09580810490226797,
           0.1140081744247549,
           0.03728112808809446,
           -0.033412190709220524,
           0.06413056947152597,
           0.2879866740873287,
           1,
           -0.1553270117678171,
           -0.11971678803142047
          ],
          [
           0.23158320851970648,
           0.1306120821603677,
           -0.058587008626551716,
           0.13673831258982225,
           0.2413276153382443,
           -0.06700074478508969,
           -0.12036867337825854,
           -0.05788658709501616,
           0.12249331295148701,
           0.26139092150617554,
           -0.0004463909346209674,
           0.11100961741149926,
           -0.1553270117678171,
           1,
           0.1027001320622866
          ],
          [
           0.008326646858286093,
           -0.030335635088083682,
           -0.00506545083386641,
           0.01189998096058299,
           -0.022216357334953533,
           -0.01570374828060869,
           0.003848841379442122,
           -0.04824528030804831,
           0.006237934101449502,
           0.041266167486529615,
           -0.05182225399892374,
           -0.061386631929495,
           -0.11971678803142047,
           0.1027001320622866,
           1
          ]
         ]
        }
       ],
       "layout": {
        "coloraxis": {
         "colorscale": [
          [
           0,
           "rgb(247,251,255)"
          ],
          [
           0.125,
           "rgb(222,235,247)"
          ],
          [
           0.25,
           "rgb(198,219,239)"
          ],
          [
           0.375,
           "rgb(158,202,225)"
          ],
          [
           0.5,
           "rgb(107,174,214)"
          ],
          [
           0.625,
           "rgb(66,146,198)"
          ],
          [
           0.75,
           "rgb(33,113,181)"
          ],
          [
           0.875,
           "rgb(8,81,156)"
          ],
          [
           1,
           "rgb(8,48,107)"
          ]
         ]
        },
        "height": 800,
        "margin": {
         "t": 60
        },
        "template": {
         "data": {
          "bar": [
           {
            "error_x": {
             "color": "#2a3f5f"
            },
            "error_y": {
             "color": "#2a3f5f"
            },
            "marker": {
             "line": {
              "color": "#E5ECF6",
              "width": 0.5
             },
             "pattern": {
              "fillmode": "overlay",
              "size": 10,
              "solidity": 0.2
             }
            },
            "type": "bar"
           }
          ],
          "barpolar": [
           {
            "marker": {
             "line": {
              "color": "#E5ECF6",
              "width": 0.5
             },
             "pattern": {
              "fillmode": "overlay",
              "size": 10,
              "solidity": 0.2
             }
            },
            "type": "barpolar"
           }
          ],
          "carpet": [
           {
            "aaxis": {
             "endlinecolor": "#2a3f5f",
             "gridcolor": "white",
             "linecolor": "white",
             "minorgridcolor": "white",
             "startlinecolor": "#2a3f5f"
            },
            "baxis": {
             "endlinecolor": "#2a3f5f",
             "gridcolor": "white",
             "linecolor": "white",
             "minorgridcolor": "white",
             "startlinecolor": "#2a3f5f"
            },
            "type": "carpet"
           }
          ],
          "choropleth": [
           {
            "colorbar": {
             "outlinewidth": 0,
             "ticks": ""
            },
            "type": "choropleth"
           }
          ],
          "contour": [
           {
            "colorbar": {
             "outlinewidth": 0,
             "ticks": ""
            },
            "colorscale": [
             [
              0,
              "#0d0887"
             ],
             [
              0.1111111111111111,
              "#46039f"
             ],
             [
              0.2222222222222222,
              "#7201a8"
             ],
             [
              0.3333333333333333,
              "#9c179e"
             ],
             [
              0.4444444444444444,
              "#bd3786"
             ],
             [
              0.5555555555555556,
              "#d8576b"
             ],
             [
              0.6666666666666666,
              "#ed7953"
             ],
             [
              0.7777777777777778,
              "#fb9f3a"
             ],
             [
              0.8888888888888888,
              "#fdca26"
             ],
             [
              1,
              "#f0f921"
             ]
            ],
            "type": "contour"
           }
          ],
          "contourcarpet": [
           {
            "colorbar": {
             "outlinewidth": 0,
             "ticks": ""
            },
            "type": "contourcarpet"
           }
          ],
          "heatmap": [
           {
            "colorbar": {
             "outlinewidth": 0,
             "ticks": ""
            },
            "colorscale": [
             [
              0,
              "#0d0887"
             ],
             [
              0.1111111111111111,
              "#46039f"
             ],
             [
              0.2222222222222222,
              "#7201a8"
             ],
             [
              0.3333333333333333,
              "#9c179e"
             ],
             [
              0.4444444444444444,
              "#bd3786"
             ],
             [
              0.5555555555555556,
              "#d8576b"
             ],
             [
              0.6666666666666666,
              "#ed7953"
             ],
             [
              0.7777777777777778,
              "#fb9f3a"
             ],
             [
              0.8888888888888888,
              "#fdca26"
             ],
             [
              1,
              "#f0f921"
             ]
            ],
            "type": "heatmap"
           }
          ],
          "heatmapgl": [
           {
            "colorbar": {
             "outlinewidth": 0,
             "ticks": ""
            },
            "colorscale": [
             [
              0,
              "#0d0887"
             ],
             [
              0.1111111111111111,
              "#46039f"
             ],
             [
              0.2222222222222222,
              "#7201a8"
             ],
             [
              0.3333333333333333,
              "#9c179e"
             ],
             [
              0.4444444444444444,
              "#bd3786"
             ],
             [
              0.5555555555555556,
              "#d8576b"
             ],
             [
              0.6666666666666666,
              "#ed7953"
             ],
             [
              0.7777777777777778,
              "#fb9f3a"
             ],
             [
              0.8888888888888888,
              "#fdca26"
             ],
             [
              1,
              "#f0f921"
             ]
            ],
            "type": "heatmapgl"
           }
          ],
          "histogram": [
           {
            "marker": {
             "pattern": {
              "fillmode": "overlay",
              "size": 10,
              "solidity": 0.2
             }
            },
            "type": "histogram"
           }
          ],
          "histogram2d": [
           {
            "colorbar": {
             "outlinewidth": 0,
             "ticks": ""
            },
            "colorscale": [
             [
              0,
              "#0d0887"
             ],
             [
              0.1111111111111111,
              "#46039f"
             ],
             [
              0.2222222222222222,
              "#7201a8"
             ],
             [
              0.3333333333333333,
              "#9c179e"
             ],
             [
              0.4444444444444444,
              "#bd3786"
             ],
             [
              0.5555555555555556,
              "#d8576b"
             ],
             [
              0.6666666666666666,
              "#ed7953"
             ],
             [
              0.7777777777777778,
              "#fb9f3a"
             ],
             [
              0.8888888888888888,
              "#fdca26"
             ],
             [
              1,
              "#f0f921"
             ]
            ],
            "type": "histogram2d"
           }
          ],
          "histogram2dcontour": [
           {
            "colorbar": {
             "outlinewidth": 0,
             "ticks": ""
            },
            "colorscale": [
             [
              0,
              "#0d0887"
             ],
             [
              0.1111111111111111,
              "#46039f"
             ],
             [
              0.2222222222222222,
              "#7201a8"
             ],
             [
              0.3333333333333333,
              "#9c179e"
             ],
             [
              0.4444444444444444,
              "#bd3786"
             ],
             [
              0.5555555555555556,
              "#d8576b"
             ],
             [
              0.6666666666666666,
              "#ed7953"
             ],
             [
              0.7777777777777778,
              "#fb9f3a"
             ],
             [
              0.8888888888888888,
              "#fdca26"
             ],
             [
              1,
              "#f0f921"
             ]
            ],
            "type": "histogram2dcontour"
           }
          ],
          "mesh3d": [
           {
            "colorbar": {
             "outlinewidth": 0,
             "ticks": ""
            },
            "type": "mesh3d"
           }
          ],
          "parcoords": [
           {
            "line": {
             "colorbar": {
              "outlinewidth": 0,
              "ticks": ""
             }
            },
            "type": "parcoords"
           }
          ],
          "pie": [
           {
            "automargin": true,
            "type": "pie"
           }
          ],
          "scatter": [
           {
            "fillpattern": {
             "fillmode": "overlay",
             "size": 10,
             "solidity": 0.2
            },
            "type": "scatter"
           }
          ],
          "scatter3d": [
           {
            "line": {
             "colorbar": {
              "outlinewidth": 0,
              "ticks": ""
             }
            },
            "marker": {
             "colorbar": {
              "outlinewidth": 0,
              "ticks": ""
             }
            },
            "type": "scatter3d"
           }
          ],
          "scattercarpet": [
           {
            "marker": {
             "colorbar": {
              "outlinewidth": 0,
              "ticks": ""
             }
            },
            "type": "scattercarpet"
           }
          ],
          "scattergeo": [
           {
            "marker": {
             "colorbar": {
              "outlinewidth": 0,
              "ticks": ""
             }
            },
            "type": "scattergeo"
           }
          ],
          "scattergl": [
           {
            "marker": {
             "colorbar": {
              "outlinewidth": 0,
              "ticks": ""
             }
            },
            "type": "scattergl"
           }
          ],
          "scattermapbox": [
           {
            "marker": {
             "colorbar": {
              "outlinewidth": 0,
              "ticks": ""
             }
            },
            "type": "scattermapbox"
           }
          ],
          "scatterpolar": [
           {
            "marker": {
             "colorbar": {
              "outlinewidth": 0,
              "ticks": ""
             }
            },
            "type": "scatterpolar"
           }
          ],
          "scatterpolargl": [
           {
            "marker": {
             "colorbar": {
              "outlinewidth": 0,
              "ticks": ""
             }
            },
            "type": "scatterpolargl"
           }
          ],
          "scatterternary": [
           {
            "marker": {
             "colorbar": {
              "outlinewidth": 0,
              "ticks": ""
             }
            },
            "type": "scatterternary"
           }
          ],
          "surface": [
           {
            "colorbar": {
             "outlinewidth": 0,
             "ticks": ""
            },
            "colorscale": [
             [
              0,
              "#0d0887"
             ],
             [
              0.1111111111111111,
              "#46039f"
             ],
             [
              0.2222222222222222,
              "#7201a8"
             ],
             [
              0.3333333333333333,
              "#9c179e"
             ],
             [
              0.4444444444444444,
              "#bd3786"
             ],
             [
              0.5555555555555556,
              "#d8576b"
             ],
             [
              0.6666666666666666,
              "#ed7953"
             ],
             [
              0.7777777777777778,
              "#fb9f3a"
             ],
             [
              0.8888888888888888,
              "#fdca26"
             ],
             [
              1,
              "#f0f921"
             ]
            ],
            "type": "surface"
           }
          ],
          "table": [
           {
            "cells": {
             "fill": {
              "color": "#EBF0F8"
             },
             "line": {
              "color": "white"
             }
            },
            "header": {
             "fill": {
              "color": "#C8D4E3"
             },
             "line": {
              "color": "white"
             }
            },
            "type": "table"
           }
          ]
         },
         "layout": {
          "annotationdefaults": {
           "arrowcolor": "#2a3f5f",
           "arrowhead": 0,
           "arrowwidth": 1
          },
          "autotypenumbers": "strict",
          "coloraxis": {
           "colorbar": {
            "outlinewidth": 0,
            "ticks": ""
           }
          },
          "colorscale": {
           "diverging": [
            [
             0,
             "#8e0152"
            ],
            [
             0.1,
             "#c51b7d"
            ],
            [
             0.2,
             "#de77ae"
            ],
            [
             0.3,
             "#f1b6da"
            ],
            [
             0.4,
             "#fde0ef"
            ],
            [
             0.5,
             "#f7f7f7"
            ],
            [
             0.6,
             "#e6f5d0"
            ],
            [
             0.7,
             "#b8e186"
            ],
            [
             0.8,
             "#7fbc41"
            ],
            [
             0.9,
             "#4d9221"
            ],
            [
             1,
             "#276419"
            ]
           ],
           "sequential": [
            [
             0,
             "#0d0887"
            ],
            [
             0.1111111111111111,
             "#46039f"
            ],
            [
             0.2222222222222222,
             "#7201a8"
            ],
            [
             0.3333333333333333,
             "#9c179e"
            ],
            [
             0.4444444444444444,
             "#bd3786"
            ],
            [
             0.5555555555555556,
             "#d8576b"
            ],
            [
             0.6666666666666666,
             "#ed7953"
            ],
            [
             0.7777777777777778,
             "#fb9f3a"
            ],
            [
             0.8888888888888888,
             "#fdca26"
            ],
            [
             1,
             "#f0f921"
            ]
           ],
           "sequentialminus": [
            [
             0,
             "#0d0887"
            ],
            [
             0.1111111111111111,
             "#46039f"
            ],
            [
             0.2222222222222222,
             "#7201a8"
            ],
            [
             0.3333333333333333,
             "#9c179e"
            ],
            [
             0.4444444444444444,
             "#bd3786"
            ],
            [
             0.5555555555555556,
             "#d8576b"
            ],
            [
             0.6666666666666666,
             "#ed7953"
            ],
            [
             0.7777777777777778,
             "#fb9f3a"
            ],
            [
             0.8888888888888888,
             "#fdca26"
            ],
            [
             1,
             "#f0f921"
            ]
           ]
          },
          "colorway": [
           "#636efa",
           "#EF553B",
           "#00cc96",
           "#ab63fa",
           "#FFA15A",
           "#19d3f3",
           "#FF6692",
           "#B6E880",
           "#FF97FF",
           "#FECB52"
          ],
          "font": {
           "color": "#2a3f5f"
          },
          "geo": {
           "bgcolor": "white",
           "lakecolor": "white",
           "landcolor": "#E5ECF6",
           "showlakes": true,
           "showland": true,
           "subunitcolor": "white"
          },
          "hoverlabel": {
           "align": "left"
          },
          "hovermode": "closest",
          "mapbox": {
           "style": "light"
          },
          "paper_bgcolor": "white",
          "plot_bgcolor": "#E5ECF6",
          "polar": {
           "angularaxis": {
            "gridcolor": "white",
            "linecolor": "white",
            "ticks": ""
           },
           "bgcolor": "#E5ECF6",
           "radialaxis": {
            "gridcolor": "white",
            "linecolor": "white",
            "ticks": ""
           }
          },
          "scene": {
           "xaxis": {
            "backgroundcolor": "#E5ECF6",
            "gridcolor": "white",
            "gridwidth": 2,
            "linecolor": "white",
            "showbackground": true,
            "ticks": "",
            "zerolinecolor": "white"
           },
           "yaxis": {
            "backgroundcolor": "#E5ECF6",
            "gridcolor": "white",
            "gridwidth": 2,
            "linecolor": "white",
            "showbackground": true,
            "ticks": "",
            "zerolinecolor": "white"
           },
           "zaxis": {
            "backgroundcolor": "#E5ECF6",
            "gridcolor": "white",
            "gridwidth": 2,
            "linecolor": "white",
            "showbackground": true,
            "ticks": "",
            "zerolinecolor": "white"
           }
          },
          "shapedefaults": {
           "line": {
            "color": "#2a3f5f"
           }
          },
          "ternary": {
           "aaxis": {
            "gridcolor": "white",
            "linecolor": "white",
            "ticks": ""
           },
           "baxis": {
            "gridcolor": "white",
            "linecolor": "white",
            "ticks": ""
           },
           "bgcolor": "#E5ECF6",
           "caxis": {
            "gridcolor": "white",
            "linecolor": "white",
            "ticks": ""
           }
          },
          "title": {
           "x": 0.05
          },
          "xaxis": {
           "automargin": true,
           "gridcolor": "white",
           "linecolor": "white",
           "ticks": "",
           "title": {
            "standoff": 15
           },
           "zerolinecolor": "white",
           "zerolinewidth": 2
          },
          "yaxis": {
           "automargin": true,
           "gridcolor": "white",
           "linecolor": "white",
           "ticks": "",
           "title": {
            "standoff": 15
           },
           "zerolinecolor": "white",
           "zerolinewidth": 2
          }
         }
        },
        "xaxis": {
         "anchor": "y",
         "constrain": "domain",
         "domain": [
          0,
          1
         ],
         "scaleanchor": "y"
        },
        "yaxis": {
         "anchor": "x",
         "autorange": "reversed",
         "constrain": "domain",
         "domain": [
          0,
          1
         ]
        }
       }
      },
      "text/html": [
       "<div>                            <div id=\"851e02d3-9566-4ba0-b36d-332b721b5b17\" class=\"plotly-graph-div\" style=\"height:800px; width:100%;\"></div>            <script type=\"text/javascript\">                require([\"plotly\"], function(Plotly) {                    window.PLOTLYENV=window.PLOTLYENV || {};                                    if (document.getElementById(\"851e02d3-9566-4ba0-b36d-332b721b5b17\")) {                    Plotly.newPlot(                        \"851e02d3-9566-4ba0-b36d-332b721b5b17\",                        [{\"coloraxis\":\"coloraxis\",\"name\":\"0\",\"x\":[\"HeartDisease\",\"Smoking\",\"AlcoholDrinking\",\"Stroke\",\"DiffWalking\",\"Sex\",\"PhysicalActivity\",\"Asthma\",\"KidneyDisease\",\"SkinCancer\",\"BMI\",\"PhysicalHealth\",\"MentalHealth\",\"AgeCategory\",\"SleepTime\"],\"y\":[\"HeartDisease\",\"Smoking\",\"AlcoholDrinking\",\"Stroke\",\"DiffWalking\",\"Sex\",\"PhysicalActivity\",\"Asthma\",\"KidneyDisease\",\"SkinCancer\",\"BMI\",\"PhysicalHealth\",\"MentalHealth\",\"AgeCategory\",\"SleepTime\"],\"z\":[[1.0,0.10776415602593577,-0.03207974262500417,0.19683529884287068,0.2012580485737773,0.07004047624891856,-0.10002993385404217,0.04144415110032234,0.14519709877256354,0.09331687769597886,0.05180319065574589,0.1707209719661753,0.028590714546905302,0.23158320851970648,0.008326646858286093],[0.10776415602593577,1.0,0.11176752021942088,0.06122603951647455,0.12007416384008394,0.08505248562950851,-0.0971737659539628,0.024148532018300563,0.03491968628492668,0.03397738727204867,0.02311811243270034,0.1153524139404747,0.08515728503775259,0.1306120821603677,-0.030335635088083682],[-0.03207974262500417,0.11176752021942088,1.0,-0.01985791423814558,-0.03532758282688487,0.004200142395935715,0.01748698277743856,-0.0022021002378207716,-0.028280091717843844,-0.005702370452955972,-0.03881622302230272,-0.01725428832282563,0.0512819728218972,-0.058587008626551716,-0.00506545083386641],[0.19683529884287068,0.06122603951647455,-0.01985791423814558,1.0,0.17414321368906785,-0.0030910549780765223,-0.0794551948440212,0.03886614032726421,0.09116684064825993,0.04811610449906195,0.019732982346395637,0.13701382711696813,0.046467061321632086,0.13673831258982225,0.01189998096058299],[0.2012580485737773,0.12007416384008394,-0.03532758282688487,0.17414321368906785,1.0,-0.06885955945150612,-0.2785239644744156,0.10322204883284222,0.15306375213121043,0.06484040178427677,0.18167826388865732,0.4283727985461525,0.15223466914599132,0.2413276153382443,-0.022216357334953533],[0.07004047624891856,0.08505248562950851,0.004200142395935715,-0.0030910549780765223,-0.06885955945150612,1.0,0.048246845809630415,-0.06919111638314385,-0.009083858389322482,0.01343379974373332,0.026939645259099483,-0.040903839313019365,-0.10005847280447244,-0.06700074478508969,-0.01570374828060869],[-0.10002993385404217,-0.0971737659539628,0.01748698277743856,-0.0794551948440212,-0.2785239644744156,0.048246845809630415,1.0,-0.0415258817742273,-0.0818273214414323,-0.0013278104683075525,-0.15061599390258318,-0.23228317707681606,-0.09580810490226797,-0.12036867337825854,0.003848841379442122],[0.04144415110032234,0.024148532018300563,-0.0022021002378207716,0.03886614032726421,0.10322204883284222,-0.06919111638314385,-0.0415258817742273,1.0,0.03970700033814702,-0.0003964769423400938,0.092345019006225,0.11790658022327909,0.1140081744247549,-0.05788658709501616,-0.04824528030804831],[0.14519709877256354,0.03491968628492668,-0.028280091717843844,0.09116684064825993,0.15306375213121043,-0.009083858389322482,-0.0818273214414323,0.03970700033814702,1.0,0.06181621651419233,0.050767532862528414,0.1421971848382409,0.03728112808809446,0.12249331295148701,0.006237934101449502],[0.09331687769597886,0.03397738727204867,-0.005702370452955972,0.04811610449906195,0.06484040178427677,0.01343379974373332,-0.0013278104683075525,-0.0003964769423400938,0.06181621651419233,1.0,-0.033643618515338786,0.0416996854817131,-0.033412190709220524,0.26139092150617554,0.041266167486529615],[0.05180319065574589,0.02311811243270034,-0.03881622302230272,0.019732982346395637,0.18167826388865732,0.026939645259099483,-0.15061599390258318,0.092345019006225,0.050767532862528414,-0.033643618515338786,1.0,0.1097875436096874,0.06413056947152597,-0.0004463909346209674,-0.05182225399892374],[0.1707209719661753,0.1153524139404747,-0.01725428832282563,0.13701382711696813,0.4283727985461525,-0.040903839313019365,-0.23228317707681606,0.11790658022327909,0.1421971848382409,0.0416996854817131,0.1097875436096874,1.0,0.2879866740873287,0.11100961741149926,-0.061386631929495],[0.028590714546905302,0.08515728503775259,0.0512819728218972,0.046467061321632086,0.15223466914599132,-0.10005847280447244,-0.09580810490226797,0.1140081744247549,0.03728112808809446,-0.033412190709220524,0.06413056947152597,0.2879866740873287,1.0,-0.1553270117678171,-0.11971678803142047],[0.23158320851970648,0.1306120821603677,-0.058587008626551716,0.13673831258982225,0.2413276153382443,-0.06700074478508969,-0.12036867337825854,-0.05788658709501616,0.12249331295148701,0.26139092150617554,-0.0004463909346209674,0.11100961741149926,-0.1553270117678171,1.0,0.1027001320622866],[0.008326646858286093,-0.030335635088083682,-0.00506545083386641,0.01189998096058299,-0.022216357334953533,-0.01570374828060869,0.003848841379442122,-0.04824528030804831,0.006237934101449502,0.041266167486529615,-0.05182225399892374,-0.061386631929495,-0.11971678803142047,0.1027001320622866,1.0]],\"type\":\"heatmap\",\"xaxis\":\"x\",\"yaxis\":\"y\",\"hovertemplate\":\"x: %{x}<br>y: %{y}<br>color: %{z}<extra></extra>\"}],                        {\"template\":{\"data\":{\"histogram2dcontour\":[{\"type\":\"histogram2dcontour\",\"colorbar\":{\"outlinewidth\":0,\"ticks\":\"\"},\"colorscale\":[[0.0,\"#0d0887\"],[0.1111111111111111,\"#46039f\"],[0.2222222222222222,\"#7201a8\"],[0.3333333333333333,\"#9c179e\"],[0.4444444444444444,\"#bd3786\"],[0.5555555555555556,\"#d8576b\"],[0.6666666666666666,\"#ed7953\"],[0.7777777777777778,\"#fb9f3a\"],[0.8888888888888888,\"#fdca26\"],[1.0,\"#f0f921\"]]}],\"choropleth\":[{\"type\":\"choropleth\",\"colorbar\":{\"outlinewidth\":0,\"ticks\":\"\"}}],\"histogram2d\":[{\"type\":\"histogram2d\",\"colorbar\":{\"outlinewidth\":0,\"ticks\":\"\"},\"colorscale\":[[0.0,\"#0d0887\"],[0.1111111111111111,\"#46039f\"],[0.2222222222222222,\"#7201a8\"],[0.3333333333333333,\"#9c179e\"],[0.4444444444444444,\"#bd3786\"],[0.5555555555555556,\"#d8576b\"],[0.6666666666666666,\"#ed7953\"],[0.7777777777777778,\"#fb9f3a\"],[0.8888888888888888,\"#fdca26\"],[1.0,\"#f0f921\"]]}],\"heatmap\":[{\"type\":\"heatmap\",\"colorbar\":{\"outlinewidth\":0,\"ticks\":\"\"},\"colorscale\":[[0.0,\"#0d0887\"],[0.1111111111111111,\"#46039f\"],[0.2222222222222222,\"#7201a8\"],[0.3333333333333333,\"#9c179e\"],[0.4444444444444444,\"#bd3786\"],[0.5555555555555556,\"#d8576b\"],[0.6666666666666666,\"#ed7953\"],[0.7777777777777778,\"#fb9f3a\"],[0.8888888888888888,\"#fdca26\"],[1.0,\"#f0f921\"]]}],\"heatmapgl\":[{\"type\":\"heatmapgl\",\"colorbar\":{\"outlinewidth\":0,\"ticks\":\"\"},\"colorscale\":[[0.0,\"#0d0887\"],[0.1111111111111111,\"#46039f\"],[0.2222222222222222,\"#7201a8\"],[0.3333333333333333,\"#9c179e\"],[0.4444444444444444,\"#bd3786\"],[0.5555555555555556,\"#d8576b\"],[0.6666666666666666,\"#ed7953\"],[0.7777777777777778,\"#fb9f3a\"],[0.8888888888888888,\"#fdca26\"],[1.0,\"#f0f921\"]]}],\"contourcarpet\":[{\"type\":\"contourcarpet\",\"colorbar\":{\"outlinewidth\":0,\"ticks\":\"\"}}],\"contour\":[{\"type\":\"contour\",\"colorbar\":{\"outlinewidth\":0,\"ticks\":\"\"},\"colorscale\":[[0.0,\"#0d0887\"],[0.1111111111111111,\"#46039f\"],[0.2222222222222222,\"#7201a8\"],[0.3333333333333333,\"#9c179e\"],[0.4444444444444444,\"#bd3786\"],[0.5555555555555556,\"#d8576b\"],[0.6666666666666666,\"#ed7953\"],[0.7777777777777778,\"#fb9f3a\"],[0.8888888888888888,\"#fdca26\"],[1.0,\"#f0f921\"]]}],\"surface\":[{\"type\":\"surface\",\"colorbar\":{\"outlinewidth\":0,\"ticks\":\"\"},\"colorscale\":[[0.0,\"#0d0887\"],[0.1111111111111111,\"#46039f\"],[0.2222222222222222,\"#7201a8\"],[0.3333333333333333,\"#9c179e\"],[0.4444444444444444,\"#bd3786\"],[0.5555555555555556,\"#d8576b\"],[0.6666666666666666,\"#ed7953\"],[0.7777777777777778,\"#fb9f3a\"],[0.8888888888888888,\"#fdca26\"],[1.0,\"#f0f921\"]]}],\"mesh3d\":[{\"type\":\"mesh3d\",\"colorbar\":{\"outlinewidth\":0,\"ticks\":\"\"}}],\"scatter\":[{\"fillpattern\":{\"fillmode\":\"overlay\",\"size\":10,\"solidity\":0.2},\"type\":\"scatter\"}],\"parcoords\":[{\"type\":\"parcoords\",\"line\":{\"colorbar\":{\"outlinewidth\":0,\"ticks\":\"\"}}}],\"scatterpolargl\":[{\"type\":\"scatterpolargl\",\"marker\":{\"colorbar\":{\"outlinewidth\":0,\"ticks\":\"\"}}}],\"bar\":[{\"error_x\":{\"color\":\"#2a3f5f\"},\"error_y\":{\"color\":\"#2a3f5f\"},\"marker\":{\"line\":{\"color\":\"#E5ECF6\",\"width\":0.5},\"pattern\":{\"fillmode\":\"overlay\",\"size\":10,\"solidity\":0.2}},\"type\":\"bar\"}],\"scattergeo\":[{\"type\":\"scattergeo\",\"marker\":{\"colorbar\":{\"outlinewidth\":0,\"ticks\":\"\"}}}],\"scatterpolar\":[{\"type\":\"scatterpolar\",\"marker\":{\"colorbar\":{\"outlinewidth\":0,\"ticks\":\"\"}}}],\"histogram\":[{\"marker\":{\"pattern\":{\"fillmode\":\"overlay\",\"size\":10,\"solidity\":0.2}},\"type\":\"histogram\"}],\"scattergl\":[{\"type\":\"scattergl\",\"marker\":{\"colorbar\":{\"outlinewidth\":0,\"ticks\":\"\"}}}],\"scatter3d\":[{\"type\":\"scatter3d\",\"line\":{\"colorbar\":{\"outlinewidth\":0,\"ticks\":\"\"}},\"marker\":{\"colorbar\":{\"outlinewidth\":0,\"ticks\":\"\"}}}],\"scattermapbox\":[{\"type\":\"scattermapbox\",\"marker\":{\"colorbar\":{\"outlinewidth\":0,\"ticks\":\"\"}}}],\"scatterternary\":[{\"type\":\"scatterternary\",\"marker\":{\"colorbar\":{\"outlinewidth\":0,\"ticks\":\"\"}}}],\"scattercarpet\":[{\"type\":\"scattercarpet\",\"marker\":{\"colorbar\":{\"outlinewidth\":0,\"ticks\":\"\"}}}],\"carpet\":[{\"aaxis\":{\"endlinecolor\":\"#2a3f5f\",\"gridcolor\":\"white\",\"linecolor\":\"white\",\"minorgridcolor\":\"white\",\"startlinecolor\":\"#2a3f5f\"},\"baxis\":{\"endlinecolor\":\"#2a3f5f\",\"gridcolor\":\"white\",\"linecolor\":\"white\",\"minorgridcolor\":\"white\",\"startlinecolor\":\"#2a3f5f\"},\"type\":\"carpet\"}],\"table\":[{\"cells\":{\"fill\":{\"color\":\"#EBF0F8\"},\"line\":{\"color\":\"white\"}},\"header\":{\"fill\":{\"color\":\"#C8D4E3\"},\"line\":{\"color\":\"white\"}},\"type\":\"table\"}],\"barpolar\":[{\"marker\":{\"line\":{\"color\":\"#E5ECF6\",\"width\":0.5},\"pattern\":{\"fillmode\":\"overlay\",\"size\":10,\"solidity\":0.2}},\"type\":\"barpolar\"}],\"pie\":[{\"automargin\":true,\"type\":\"pie\"}]},\"layout\":{\"autotypenumbers\":\"strict\",\"colorway\":[\"#636efa\",\"#EF553B\",\"#00cc96\",\"#ab63fa\",\"#FFA15A\",\"#19d3f3\",\"#FF6692\",\"#B6E880\",\"#FF97FF\",\"#FECB52\"],\"font\":{\"color\":\"#2a3f5f\"},\"hovermode\":\"closest\",\"hoverlabel\":{\"align\":\"left\"},\"paper_bgcolor\":\"white\",\"plot_bgcolor\":\"#E5ECF6\",\"polar\":{\"bgcolor\":\"#E5ECF6\",\"angularaxis\":{\"gridcolor\":\"white\",\"linecolor\":\"white\",\"ticks\":\"\"},\"radialaxis\":{\"gridcolor\":\"white\",\"linecolor\":\"white\",\"ticks\":\"\"}},\"ternary\":{\"bgcolor\":\"#E5ECF6\",\"aaxis\":{\"gridcolor\":\"white\",\"linecolor\":\"white\",\"ticks\":\"\"},\"baxis\":{\"gridcolor\":\"white\",\"linecolor\":\"white\",\"ticks\":\"\"},\"caxis\":{\"gridcolor\":\"white\",\"linecolor\":\"white\",\"ticks\":\"\"}},\"coloraxis\":{\"colorbar\":{\"outlinewidth\":0,\"ticks\":\"\"}},\"colorscale\":{\"sequential\":[[0.0,\"#0d0887\"],[0.1111111111111111,\"#46039f\"],[0.2222222222222222,\"#7201a8\"],[0.3333333333333333,\"#9c179e\"],[0.4444444444444444,\"#bd3786\"],[0.5555555555555556,\"#d8576b\"],[0.6666666666666666,\"#ed7953\"],[0.7777777777777778,\"#fb9f3a\"],[0.8888888888888888,\"#fdca26\"],[1.0,\"#f0f921\"]],\"sequentialminus\":[[0.0,\"#0d0887\"],[0.1111111111111111,\"#46039f\"],[0.2222222222222222,\"#7201a8\"],[0.3333333333333333,\"#9c179e\"],[0.4444444444444444,\"#bd3786\"],[0.5555555555555556,\"#d8576b\"],[0.6666666666666666,\"#ed7953\"],[0.7777777777777778,\"#fb9f3a\"],[0.8888888888888888,\"#fdca26\"],[1.0,\"#f0f921\"]],\"diverging\":[[0,\"#8e0152\"],[0.1,\"#c51b7d\"],[0.2,\"#de77ae\"],[0.3,\"#f1b6da\"],[0.4,\"#fde0ef\"],[0.5,\"#f7f7f7\"],[0.6,\"#e6f5d0\"],[0.7,\"#b8e186\"],[0.8,\"#7fbc41\"],[0.9,\"#4d9221\"],[1,\"#276419\"]]},\"xaxis\":{\"gridcolor\":\"white\",\"linecolor\":\"white\",\"ticks\":\"\",\"title\":{\"standoff\":15},\"zerolinecolor\":\"white\",\"automargin\":true,\"zerolinewidth\":2},\"yaxis\":{\"gridcolor\":\"white\",\"linecolor\":\"white\",\"ticks\":\"\",\"title\":{\"standoff\":15},\"zerolinecolor\":\"white\",\"automargin\":true,\"zerolinewidth\":2},\"scene\":{\"xaxis\":{\"backgroundcolor\":\"#E5ECF6\",\"gridcolor\":\"white\",\"linecolor\":\"white\",\"showbackground\":true,\"ticks\":\"\",\"zerolinecolor\":\"white\",\"gridwidth\":2},\"yaxis\":{\"backgroundcolor\":\"#E5ECF6\",\"gridcolor\":\"white\",\"linecolor\":\"white\",\"showbackground\":true,\"ticks\":\"\",\"zerolinecolor\":\"white\",\"gridwidth\":2},\"zaxis\":{\"backgroundcolor\":\"#E5ECF6\",\"gridcolor\":\"white\",\"linecolor\":\"white\",\"showbackground\":true,\"ticks\":\"\",\"zerolinecolor\":\"white\",\"gridwidth\":2}},\"shapedefaults\":{\"line\":{\"color\":\"#2a3f5f\"}},\"annotationdefaults\":{\"arrowcolor\":\"#2a3f5f\",\"arrowhead\":0,\"arrowwidth\":1},\"geo\":{\"bgcolor\":\"white\",\"landcolor\":\"#E5ECF6\",\"subunitcolor\":\"white\",\"showland\":true,\"showlakes\":true,\"lakecolor\":\"white\"},\"title\":{\"x\":0.05},\"mapbox\":{\"style\":\"light\"}}},\"xaxis\":{\"anchor\":\"y\",\"domain\":[0.0,1.0],\"scaleanchor\":\"y\",\"constrain\":\"domain\"},\"yaxis\":{\"anchor\":\"x\",\"domain\":[0.0,1.0],\"autorange\":\"reversed\",\"constrain\":\"domain\"},\"coloraxis\":{\"colorscale\":[[0.0,\"rgb(247,251,255)\"],[0.125,\"rgb(222,235,247)\"],[0.25,\"rgb(198,219,239)\"],[0.375,\"rgb(158,202,225)\"],[0.5,\"rgb(107,174,214)\"],[0.625,\"rgb(66,146,198)\"],[0.75,\"rgb(33,113,181)\"],[0.875,\"rgb(8,81,156)\"],[1.0,\"rgb(8,48,107)\"]]},\"margin\":{\"t\":60},\"height\":800},                        {\"responsive\": true}                    ).then(function(){\n",
       "                            \n",
       "var gd = document.getElementById('851e02d3-9566-4ba0-b36d-332b721b5b17');\n",
       "var x = new MutationObserver(function (mutations, observer) {{\n",
       "        var display = window.getComputedStyle(gd).display;\n",
       "        if (!display || display === 'none') {{\n",
       "            console.log([gd, 'removed!']);\n",
       "            Plotly.purge(gd);\n",
       "            observer.disconnect();\n",
       "        }}\n",
       "}});\n",
       "\n",
       "// Listen for the removal of the full notebook cells\n",
       "var notebookContainer = gd.closest('#notebook-container');\n",
       "if (notebookContainer) {{\n",
       "    x.observe(notebookContainer, {childList: true});\n",
       "}}\n",
       "\n",
       "// Listen for the clearing of the current output cell\n",
       "var outputEl = gd.closest('.output');\n",
       "if (outputEl) {{\n",
       "    x.observe(outputEl, {childList: true});\n",
       "}}\n",
       "\n",
       "                        })                };                });            </script>        </div>"
      ]
     },
     "metadata": {},
     "output_type": "display_data"
    }
   ],
   "source": [
    "fig = px.imshow(df[['HeartDisease', 'Smoking', 'AlcoholDrinking', 'Stroke', 'DiffWalking', 'Sex',\n",
    "                    'PhysicalActivity', 'Asthma', 'KidneyDisease', 'SkinCancer','BMI', 'PhysicalHealth',\n",
    "                    'MentalHealth', 'AgeCategory', 'SleepTime']].corr(),color_continuous_scale=\"Blues\")\n",
    "fig.update_layout(height=800)\n",
    "fig.show()"
   ]
  },
  {
   "cell_type": "code",
   "execution_count": 36,
   "id": "5b62291e",
   "metadata": {
    "_kg_hide-input": true,
    "execution": {
     "iopub.execute_input": "2022-04-18T22:22:18.448919Z",
     "iopub.status.busy": "2022-04-18T22:22:18.447279Z",
     "iopub.status.idle": "2022-04-18T22:22:18.452101Z",
     "shell.execute_reply": "2022-04-18T22:22:18.452684Z",
     "shell.execute_reply.started": "2022-04-18T22:08:49.720706Z"
    },
    "papermill": {
     "duration": 0.103644,
     "end_time": "2022-04-18T22:22:18.452918",
     "exception": false,
     "start_time": "2022-04-18T22:22:18.349274",
     "status": "completed"
    },
    "tags": []
   },
   "outputs": [],
   "source": [
    "features = df[['BMI', 'Smoking', 'AlcoholDrinking', 'Stroke',\n",
    "       'PhysicalHealth', 'MentalHealth', 'DiffWalking', 'Sex', 'AgeCategory',\n",
    "       'PhysicalActivity', 'SleepTime', 'Asthma', 'KidneyDisease',\n",
    "       'SkinCancer', 'Race_American Indian/Alaskan Native', 'Race_Asian',\n",
    "       'Race_Black', 'Race_Hispanic', 'Race_Other', 'Race_White',\n",
    "       'Diabetic_No', 'Diabetic_No, borderline diabetes', 'Diabetic_Yes',\n",
    "       'Diabetic_Yes (during pregnancy)', 'GenHealth_Excellent',\n",
    "       'GenHealth_Fair', 'GenHealth_Good', 'GenHealth_Poor',\n",
    "       'GenHealth_Very good']]\n",
    "\n",
    "labels = df['HeartDisease']"
   ]
  },
  {
   "cell_type": "markdown",
   "id": "3c019688",
   "metadata": {
    "papermill": {
     "duration": 0.08501,
     "end_time": "2022-04-18T22:22:18.619841",
     "exception": false,
     "start_time": "2022-04-18T22:22:18.534831",
     "status": "completed"
    },
    "tags": []
   },
   "source": [
    "Splitting the dataset- 20% for validation, and the rest 80% for training"
   ]
  },
  {
   "cell_type": "code",
   "execution_count": 37,
   "id": "cd05773a",
   "metadata": {
    "_kg_hide-input": true,
    "execution": {
     "iopub.execute_input": "2022-04-18T22:22:18.789036Z",
     "iopub.status.busy": "2022-04-18T22:22:18.788053Z",
     "iopub.status.idle": "2022-04-18T22:22:18.792310Z",
     "shell.execute_reply": "2022-04-18T22:22:18.792805Z",
     "shell.execute_reply.started": "2022-04-18T22:15:21.675678Z"
    },
    "papermill": {
     "duration": 0.090127,
     "end_time": "2022-04-18T22:22:18.792974",
     "exception": false,
     "start_time": "2022-04-18T22:22:18.702847",
     "status": "completed"
    },
    "tags": []
   },
   "outputs": [],
   "source": [
    "train_df = df[:int(len(df)*0.8)]\n",
    "val_df = df[int(len(df)*0.8):]"
   ]
  },
  {
   "cell_type": "code",
   "execution_count": 38,
   "id": "6e2b9260",
   "metadata": {
    "_kg_hide-input": true,
    "execution": {
     "iopub.execute_input": "2022-04-18T22:22:18.963118Z",
     "iopub.status.busy": "2022-04-18T22:22:18.962089Z",
     "iopub.status.idle": "2022-04-18T22:22:18.972129Z",
     "shell.execute_reply": "2022-04-18T22:22:18.972775Z",
     "shell.execute_reply.started": "2022-04-18T22:15:22.533703Z"
    },
    "papermill": {
     "duration": 0.097363,
     "end_time": "2022-04-18T22:22:18.972952",
     "exception": false,
     "start_time": "2022-04-18T22:22:18.875589",
     "status": "completed"
    },
    "tags": []
   },
   "outputs": [
    {
     "name": "stdout",
     "output_type": "stream",
     "text": [
      "\n",
      "Data in Train:\n",
      "0    233851\n",
      "1     21985\n",
      "Name: HeartDisease, dtype: int64\n",
      "\n",
      "Data in Val:\n",
      "0    58571\n",
      "1     5388\n",
      "Name: HeartDisease, dtype: int64\n"
     ]
    }
   ],
   "source": [
    "print('\\nData in Train:')\n",
    "print(train_df['HeartDisease'].value_counts())\n",
    "\n",
    "print('\\nData in Val:')\n",
    "print(val_df['HeartDisease'].value_counts())"
   ]
  },
  {
   "cell_type": "markdown",
   "id": "870a17fc",
   "metadata": {
    "papermill": {
     "duration": 0.083109,
     "end_time": "2022-04-18T22:22:19.139176",
     "exception": false,
     "start_time": "2022-04-18T22:22:19.056067",
     "status": "completed"
    },
    "tags": []
   },
   "source": [
    "The dataset is not balanced, there is way more number of samples for people who have no Heart Disease than people with Heart Disease.  \n",
    "This can be fixed by oversampling the data"
   ]
  },
  {
   "cell_type": "code",
   "execution_count": 39,
   "id": "5dfe738d",
   "metadata": {
    "_kg_hide-input": true,
    "execution": {
     "iopub.execute_input": "2022-04-18T22:22:19.310968Z",
     "iopub.status.busy": "2022-04-18T22:22:19.309969Z",
     "iopub.status.idle": "2022-04-18T22:22:19.456234Z",
     "shell.execute_reply": "2022-04-18T22:22:19.455590Z",
     "shell.execute_reply.started": "2022-04-18T22:15:24.384234Z"
    },
    "papermill": {
     "duration": 0.232365,
     "end_time": "2022-04-18T22:22:19.456397",
     "exception": false,
     "start_time": "2022-04-18T22:22:19.224032",
     "status": "completed"
    },
    "tags": []
   },
   "outputs": [
    {
     "name": "stdout",
     "output_type": "stream",
     "text": [
      "Data in Train:\n",
      "0    233851\n",
      "1    233851\n",
      "Name: HeartDisease, dtype: int64\n"
     ]
    }
   ],
   "source": [
    "class_0 = train_df[train_df['HeartDisease'] == 0]\n",
    "class_1 = train_df[train_df['HeartDisease'] == 1]\n",
    "\n",
    "class_1 = class_1.sample(len(class_0),replace=True)\n",
    "train_df = pd.concat([class_0, class_1], axis=0)\n",
    "print('Data in Train:')\n",
    "print(train_df['HeartDisease'].value_counts())"
   ]
  },
  {
   "cell_type": "code",
   "execution_count": 40,
   "id": "7ec39965",
   "metadata": {
    "_kg_hide-input": true,
    "execution": {
     "iopub.execute_input": "2022-04-18T22:22:19.650676Z",
     "iopub.status.busy": "2022-04-18T22:22:19.649865Z",
     "iopub.status.idle": "2022-04-18T22:22:19.689904Z",
     "shell.execute_reply": "2022-04-18T22:22:19.690864Z",
     "shell.execute_reply.started": "2022-04-18T22:15:25.359415Z"
    },
    "papermill": {
     "duration": 0.151051,
     "end_time": "2022-04-18T22:22:19.691137",
     "exception": false,
     "start_time": "2022-04-18T22:22:19.540086",
     "status": "completed"
    },
    "tags": []
   },
   "outputs": [
    {
     "name": "stdout",
     "output_type": "stream",
     "text": [
      "Data in Test:\n",
      "0    58571\n",
      "1    58571\n",
      "Name: HeartDisease, dtype: int64\n"
     ]
    }
   ],
   "source": [
    "class_0 = val_df[val_df['HeartDisease'] == 0]\n",
    "class_1 = val_df[val_df['HeartDisease'] == 1]\n",
    "\n",
    "class_1 = class_1.sample(len(class_0),replace=True)\n",
    "val_df = pd.concat([class_0, class_1], axis=0)\n",
    "print('Data in Test:')\n",
    "print(val_df['HeartDisease'].value_counts())"
   ]
  },
  {
   "cell_type": "markdown",
   "id": "9d12eea1",
   "metadata": {
    "papermill": {
     "duration": 0.090365,
     "end_time": "2022-04-18T22:22:19.867738",
     "exception": false,
     "start_time": "2022-04-18T22:22:19.777373",
     "status": "completed"
    },
    "tags": []
   },
   "source": [
    "Now the dataset is balanced  \n"
   ]
  },
  {
   "cell_type": "markdown",
   "id": "fdde7da5",
   "metadata": {
    "papermill": {
     "duration": 0.083827,
     "end_time": "2022-04-18T22:22:20.035813",
     "exception": false,
     "start_time": "2022-04-18T22:22:19.951986",
     "status": "completed"
    },
    "tags": []
   },
   "source": [
    "Here, I am creating arrays: `x_train`, `y_train`, `x_val`, `y_val` to train and evaluate the model"
   ]
  },
  {
   "cell_type": "code",
   "execution_count": 41,
   "id": "dd896798",
   "metadata": {
    "_kg_hide-input": true,
    "execution": {
     "iopub.execute_input": "2022-04-18T22:22:20.207191Z",
     "iopub.status.busy": "2022-04-18T22:22:20.206530Z",
     "iopub.status.idle": "2022-04-18T22:22:20.396004Z",
     "shell.execute_reply": "2022-04-18T22:22:20.395432Z",
     "shell.execute_reply.started": "2022-04-18T22:17:52.652063Z"
    },
    "papermill": {
     "duration": 0.276718,
     "end_time": "2022-04-18T22:22:20.396158",
     "exception": false,
     "start_time": "2022-04-18T22:22:20.119440",
     "status": "completed"
    },
    "tags": []
   },
   "outputs": [],
   "source": [
    "x_train = np.array(train_df[['BMI', 'Smoking', 'AlcoholDrinking', 'Stroke',\n",
    "       'PhysicalHealth', 'MentalHealth', 'DiffWalking', 'Sex', 'AgeCategory',\n",
    "       'PhysicalActivity', 'SleepTime', 'Asthma', 'KidneyDisease',\n",
    "       'SkinCancer', 'Race_American Indian/Alaskan Native', 'Race_Asian',\n",
    "       'Race_Black', 'Race_Hispanic', 'Race_Other', 'Race_White',\n",
    "       'Diabetic_No', 'Diabetic_No, borderline diabetes', 'Diabetic_Yes',\n",
    "       'Diabetic_Yes (during pregnancy)', 'GenHealth_Excellent',\n",
    "       'GenHealth_Fair', 'GenHealth_Good', 'GenHealth_Poor',\n",
    "       'GenHealth_Very good']])\n",
    "y_train = np.array(train_df['HeartDisease'])\n",
    "\n",
    "x_val = np.array(val_df[['BMI', 'Smoking', 'AlcoholDrinking', 'Stroke',\n",
    "       'PhysicalHealth', 'MentalHealth', 'DiffWalking', 'Sex', 'AgeCategory',\n",
    "       'PhysicalActivity', 'SleepTime', 'Asthma', 'KidneyDisease',\n",
    "       'SkinCancer', 'Race_American Indian/Alaskan Native', 'Race_Asian',\n",
    "       'Race_Black', 'Race_Hispanic', 'Race_Other', 'Race_White',\n",
    "       'Diabetic_No', 'Diabetic_No, borderline diabetes', 'Diabetic_Yes',\n",
    "       'Diabetic_Yes (during pregnancy)', 'GenHealth_Excellent',\n",
    "       'GenHealth_Fair', 'GenHealth_Good', 'GenHealth_Poor',\n",
    "       'GenHealth_Very good']])\n",
    "y_val = np.array(val_df['HeartDisease'])"
   ]
  },
  {
   "cell_type": "markdown",
   "id": "6d9489f4",
   "metadata": {
    "papermill": {
     "duration": 0.08488,
     "end_time": "2022-04-18T22:22:20.565309",
     "exception": false,
     "start_time": "2022-04-18T22:22:20.480429",
     "status": "completed"
    },
    "tags": []
   },
   "source": [
    "# <b>5 <span style='color:#0386f7de'>|</span> Model</b>"
   ]
  },
  {
   "cell_type": "code",
   "execution_count": 42,
   "id": "5cecc934",
   "metadata": {
    "execution": {
     "iopub.execute_input": "2022-04-18T22:22:20.736628Z",
     "iopub.status.busy": "2022-04-18T22:22:20.735963Z",
     "iopub.status.idle": "2022-04-18T22:23:26.196230Z",
     "shell.execute_reply": "2022-04-18T22:23:26.197027Z",
     "shell.execute_reply.started": "2022-04-18T22:18:54.203926Z"
    },
    "papermill": {
     "duration": 65.547486,
     "end_time": "2022-04-18T22:23:26.197266",
     "exception": false,
     "start_time": "2022-04-18T22:22:20.649780",
     "status": "completed"
    },
    "tags": []
   },
   "outputs": [
    {
     "name": "stdout",
     "output_type": "stream",
     "text": [
      "              precision    recall  f1-score   support\n",
      "\n",
      "           0       0.55      0.95      0.70     58571\n",
      "           1       0.83      0.22      0.34     58571\n",
      "\n",
      "    accuracy                           0.58    117142\n",
      "   macro avg       0.69      0.58      0.52    117142\n",
      "weighted avg       0.69      0.58      0.52    117142\n",
      "\n"
     ]
    }
   ],
   "source": [
    "rf = RandomForestClassifier().fit(x_train, y_train)\n",
    "\n",
    "y_pred = rf.predict(x_val)\n",
    "\n",
    "print(classification_report(y_val,y_pred))"
   ]
  },
  {
   "cell_type": "code",
   "execution_count": 43,
   "id": "6f3d5a10",
   "metadata": {
    "_kg_hide-input": true,
    "execution": {
     "iopub.execute_input": "2022-04-18T22:23:26.370847Z",
     "iopub.status.busy": "2022-04-18T22:23:26.370157Z",
     "iopub.status.idle": "2022-04-18T22:23:26.617196Z",
     "shell.execute_reply": "2022-04-18T22:23:26.616669Z",
     "shell.execute_reply.started": "2022-04-18T22:20:17.965267Z"
    },
    "papermill": {
     "duration": 0.33385,
     "end_time": "2022-04-18T22:23:26.617369",
     "exception": false,
     "start_time": "2022-04-18T22:23:26.283519",
     "status": "completed"
    },
    "tags": []
   },
   "outputs": [
    {
     "data": {
      "image/png": "[encoded data removed]",
      "text/plain": [
       "<Figure size 504x360 with 2 Axes>"
      ]
     },
     "metadata": {},
     "output_type": "display_data"
    }
   ],
   "source": [
    "cm = confusion_matrix(y_val, y_pred)\n",
    "\n",
    "plt.figure(figsize=(7,5))\n",
    "\n",
    "ax = sns.heatmap(cm/np.sum(cm),fmt='.2%', annot=True, cmap='Blues')\n",
    "\n",
    "ax.set_xlabel('\\nPredicted Values')\n",
    "ax.set_ylabel('Actual Values ');\n",
    "\n",
    "ax.xaxis.set_ticklabels(['No HeartDisease','HeartDisease'])\n",
    "ax.yaxis.set_ticklabels(['No HeartDisease','HeartDisease'])\n",
    "\n",
    "plt.show()"
   ]
  },
  {
   "cell_type": "markdown",
   "id": "70d5b49b",
   "metadata": {
    "papermill": {
     "duration": 0.085359,
     "end_time": "2022-04-18T22:23:26.788880",
     "exception": false,
     "start_time": "2022-04-18T22:23:26.703521",
     "status": "completed"
    },
    "tags": []
   },
   "source": [
    "### Please Upvote this notebook as it encourages me in doing better.\n",
    "\n",
    "\n",
    "![](http://68.media.tumblr.com/e1aed171ded2bd78cc8dc0e73b594eaf/tumblr_o17frv0cdu1u9u459o1_500.gif)"
   ]
  },
  {
   "cell_type": "code",
   "execution_count": null,
   "id": "05ee0d51",
   "metadata": {},
   "outputs": [],
   "source": []
  }
 ],
 "metadata": {
  "kernelspec": {
   "display_name": "Python 3 (ipykernel)",
   "language": "python",
   "name": "python3"
  },
  "language_info": {
   "codemirror_mode": {
    "name": "ipython",
    "version": 3
   },
   "file_extension": ".py",
   "mimetype": "text/x-python",
   "name": "python",
   "nbconvert_exporter": "python",
   "pygments_lexer": "ipython3",
   "version": "3.9.12"
  },
  "papermill": {
   "default_parameters": {},
   "duration": 110.323127,
   "end_time": "2022-04-18T22:23:27.785640",
   "environment_variables": {},
   "exception": null,
   "input_path": "__notebook__.ipynb",
   "output_path": "__notebook__.ipynb",
   "parameters": {},
   "start_time": "2022-04-18T22:21:37.462513",
   "version": "2.3.3"
  }
 },
 "nbformat": 4,
 "nbformat_minor": 5
}
